{
 "cells": [
  {
   "cell_type": "code",
   "execution_count": 1,
   "metadata": {
    "ExecuteTime": {
     "end_time": "2020-07-16T11:25:10.732918Z",
     "start_time": "2020-07-16T11:25:07.257790Z"
    }
   },
   "outputs": [
    {
     "name": "stdout",
     "output_type": "stream",
     "text": [
      "Requirement already satisfied: requests in c:\\users\\memory ogwari\\anaconda3\\lib\\site-packages (2.23.0)\n",
      "Requirement already satisfied: BeautifulSoup4 in c:\\users\\memory ogwari\\anaconda3\\lib\\site-packages (4.9.1)\n",
      "Requirement already satisfied: fire in c:\\users\\memory ogwari\\anaconda3\\lib\\site-packages (0.3.1)\n",
      "Collecting numpy\n",
      "  Using cached numpy-1.19.0-cp37-cp37m-win_amd64.whl (13.0 MB)\n",
      "Requirement already satisfied: chardet<4,>=3.0.2 in c:\\users\\memory ogwari\\anaconda3\\lib\\site-packages (from requests) (3.0.4)\n",
      "Requirement already satisfied: urllib3!=1.25.0,!=1.25.1,<1.26,>=1.21.1 in c:\\users\\memory ogwari\\anaconda3\\lib\\site-packages (from requests) (1.25.8)\n",
      "Requirement already satisfied: idna<3,>=2.5 in c:\\users\\memory ogwari\\anaconda3\\lib\\site-packages (from requests) (2.9)\n"
     ]
    },
    {
     "name": "stderr",
     "output_type": "stream",
     "text": [
      "ERROR: tensorboard 1.14.0 requires setuptools>=41.0.0, which is not installed.\n",
      "ERROR: numba 0.49.1 requires setuptools, which is not installed.\n"
     ]
    },
    {
     "name": "stdout",
     "output_type": "stream",
     "text": [
      "Requirement already satisfied: certifi>=2017.4.17 in c:\\users\\memory ogwari\\anaconda3\\lib\\site-packages (from requests) (2020.6.20)\n",
      "Requirement already satisfied: soupsieve>1.2 in c:\\users\\memory ogwari\\anaconda3\\lib\\site-packages (from BeautifulSoup4) (2.0.1)\n",
      "Requirement already satisfied: six in c:\\users\\memory ogwari\\anaconda3\\lib\\site-packages (from fire) (1.15.0)\n",
      "Requirement already satisfied: termcolor in c:\\users\\memory ogwari\\anaconda3\\lib\\site-packages (from fire) (1.1.0)\n",
      "Installing collected packages: numpy\n",
      "Successfully installed numpy-1.19.0\n"
     ]
    }
   ],
   "source": [
    "!pip install requests BeautifulSoup4 fire numpy"
   ]
  },
  {
   "cell_type": "code",
   "execution_count": 2,
   "metadata": {
    "ExecuteTime": {
     "end_time": "2020-07-16T11:25:35.674865Z",
     "start_time": "2020-07-16T11:25:33.153710Z"
    }
   },
   "outputs": [],
   "source": [
    "from requests import *\n",
    "from urllib.request import urlopen\n",
    "from bs4 import BeautifulSoup\n",
    "from requests.exceptions import RequestException\n",
    "from contextlib import closing\n",
    "from bs4 import BeautifulSoup\n",
    "from pandas import *\n",
    "from contextlib import closing\n"
   ]
  },
  {
   "cell_type": "code",
   "execution_count": 36,
   "metadata": {
    "ExecuteTime": {
     "end_time": "2020-07-16T11:25:48.949893Z",
     "start_time": "2020-07-16T11:25:41.556633Z"
    }
   },
   "outputs": [],
   "source": [
    "import pandas as pd\n",
    "import os, sys\n",
    "import fire\n",
    "import numpy as np\n",
    "import requests\n",
    "import re"
   ]
  },
  {
   "cell_type": "markdown",
   "metadata": {},
   "source": [
    "## Top 10 most Influential-twitter-users-in-Africa"
   ]
  },
  {
   "cell_type": "code",
   "execution_count": 4,
   "metadata": {
    "ExecuteTime": {
     "end_time": "2020-07-16T11:26:33.711924Z",
     "start_time": "2020-07-16T11:26:28.497788Z"
    }
   },
   "outputs": [],
   "source": [
    "url = \"https://africafreak.com/100-most-influential-twitter-users-in-africa\"\n",
    "content_text=urlopen(url)"
   ]
  },
  {
   "cell_type": "code",
   "execution_count": 5,
   "metadata": {
    "ExecuteTime": {
     "end_time": "2020-07-16T11:30:19.039062Z",
     "start_time": "2020-07-16T11:30:14.295626Z"
    }
   },
   "outputs": [
    {
     "data": {
      "text/plain": [
       "<Response [200]>"
      ]
     },
     "execution_count": 5,
     "metadata": {},
     "output_type": "execute_result"
    }
   ],
   "source": [
    "#determine response\n",
    "content=requests.get(url)\n",
    "content"
   ]
  },
  {
   "cell_type": "code",
   "execution_count": 6,
   "metadata": {
    "ExecuteTime": {
     "end_time": "2020-07-16T11:32:06.679922Z",
     "start_time": "2020-07-16T11:32:05.509593Z"
    }
   },
   "outputs": [
    {
     "data": {
      "text/plain": [
       "['100. Jeffrey Gettleman (@gettleman)',\n",
       " '99. Africa24 Media (@a24media)',\n",
       " '98. Scapegoat (@andiMakinana)',\n",
       " '97. Africa Check (@AfricaCheck)',\n",
       " '96. James Copnall (@JamesCopnall)',\n",
       " '95. Online Africa (@oafrica)',\n",
       " '94. Patrick Ngowi (@PatrickNgowi)',\n",
       " '93. DOS African Affairs (@StateAfrica)',\n",
       " '92. MoadowAJE (@Moadow)',\n",
       " '91. Brendan Boyle (@BrendanSAfrica)',\n",
       " '90. City of Tshwane (@CityTshwane)',\n",
       " '89. VISI Magazine (@VISI_Mag)',\n",
       " '88. andBeyond (@andBeyondSafari)',\n",
       " '87. This Is Africa (@ThisIsAfricaTIA)',\n",
       " '86. Sarah Carter (@sarzss)',\n",
       " '85. The EIU Africa team (@TheEIU_Africa)',\n",
       " '84. Investing In Africa (@InvestInAfrica)',\n",
       " '83. Barry Malone (@malonebarry)',\n",
       " '82. ARTsouthAFRICA (@artsouthafrica)',\n",
       " '81. Kahn Morbee (@KahnMorbee)',\n",
       " '80. Jamal Osman (@JamalMOsman)',\n",
       " '79. iamsuede™ (@iamsuede)',\n",
       " '78. Mike Stopforth (@mikestopforth)',\n",
       " '77. Equal Education (@equal_education)',\n",
       " '76. Tristan McConnell (@t_mcconnell)',\n",
       " '75. Kate Forbes (@forbeesta)',\n",
       " '74. Vanessa Raphaely (@hurricanevaness)',\n",
       " '73. Karen Allen (@BBCKarenAllen)',\n",
       " '72. Jax Panik (@jaxpanik)',\n",
       " '71. This Is Africa (@thisisafrica)',\n",
       " '70. Audi South Africa (@audisouthafrica)',\n",
       " '69. ONE (@ONEinAfrica)',\n",
       " '68. Hamza Mohamed (@Hamza_Africa)',\n",
       " '67. drew hinshaw (@drewfhinshaw)',\n",
       " '66. Rebecca Enonchong (@africatechie)',\n",
       " '65. marais (@cx73)',\n",
       " '64. George Ayittey (@ayittey)',\n",
       " '63. Mercedes-Benz SA (@MercedesBenz_SA)',\n",
       " '62. Africa Gathering (@africagathering)',\n",
       " '61. okayafrica (@okayafrica)',\n",
       " '60. Mary Harper (@mary_harper)',\n",
       " '59. Save the Rhino (@savetherhino)',\n",
       " '58. africa @pressfreedom (@africamedia_CPJ)',\n",
       " '57. TechCentral (@TechCentral)',\n",
       " '56. GautengGovt (@GautengProvince)',\n",
       " '55. Abdi Aynte (@Aynte)',\n",
       " '54. Daniel Howden (@daniel_howden)',\n",
       " '53. Ranger Diaries (@rangerdiaries)',\n",
       " '52. The Star (@TheStar_news)',\n",
       " '51. James Schneider (@schneiderhome)',\n",
       " '50. Afrinnovator (@Afrinnovator)',\n",
       " '49. theafricareport (@theafricareport)',\n",
       " '48. City of Joburg (@CityofJoburgZA)',\n",
       " '47. Think Africa Press (@ThinkAfricaFeed)',\n",
       " '46. Africa The Good News (@AfricaGoodNews)',\n",
       " '45. will ross (@willintune)',\n",
       " '44. CNBC Africa (@cnbcafrica)',\n",
       " '43. HowWeMadeItInAfrica (@MadeItInAfrica)',\n",
       " '42. Africa Research Inst (@AfricaResearch)',\n",
       " '41. FoodBlog Cape Town (@FoodBlogCT)',\n",
       " '40. Mbuyiseni Ndlozi (@MbuyiseniNdlozi)',\n",
       " '39. AfricaProgressPanel (@africaprogress)',\n",
       " '38. IFC Africa (@IFCAfrica)',\n",
       " '37. Henley Africa (@HenleyAfrica)',\n",
       " '36. The New Age (@The_New_Age)',\n",
       " '35. Geoffrey York (@geoffreyyork)',\n",
       " '34. Entrepreneur Mag SA (@Entrepreneur_SA)',\n",
       " '33. Forbes Africa (@forbesafrica)',\n",
       " '32. IEC South Africa (@IECSouthAfrica)',\n",
       " '31. Arthur Goldstuck (@art2gee)',\n",
       " '30. Jendayi E Frazer (@JendayiFrazer)',\n",
       " '29. Peter Greste (@PeterGreste)',\n",
       " '28. Disaster Operations (@NDOCKenya)',\n",
       " '27. Mo Ibrahim Fdn (@Mo_IbrahimFdn)',\n",
       " '26. Parliament of RSA (@ParliamentofRSA)',\n",
       " '25. Sandton City (@SandtonCity)',\n",
       " '24. African Union (@_AfricanUnion)',\n",
       " '23. Gert-Johan Coetzee (@gertjohan)',\n",
       " '22. David Smith (@SmithInAfrica)',\n",
       " '21. Ray Hartley (@hartleyr)',\n",
       " '20. Live Amp (@liveamp)',\n",
       " '19. Samsung South Africa (@SamsungSA)',\n",
       " '18. Bob Skinstad (@BobSkinstad)',\n",
       " '17. Camfed (@Camfed)',\n",
       " '16. andrew harding (@BBCAndrewH)',\n",
       " '15. Euphonik™♛ (@euphonik)',\n",
       " '14. Ulrich J van Vuuren (@UlrichJvV)',\n",
       " '13. John Robbie (@702JohnRobbie)',\n",
       " '12. Cricket South Africa (@OfficialCSA)',\n",
       " '11. MTV Base Africa (@MTVbaseAfrica)',\n",
       " '10. Computicket (@Computicket)',\n",
       " '9. loyiso gola (@loyisogola)',\n",
       " '8. 5FM (@5FM)',\n",
       " '7. mailandguardian (@mailandguardian)',\n",
       " '6. Helen Zille (@helenzille)',\n",
       " '5. Julius Sello Malema (@Julius_S_Malema)',\n",
       " '4. News24 (@News24)',\n",
       " '3. Jacob G. Zuma (@SAPresident)',\n",
       " '2. Gareth Cliff (@GarethCliff)',\n",
       " '1. Trevor Noah (@Trevornoah)']"
      ]
     },
     "execution_count": 6,
     "metadata": {},
     "output_type": "execute_result"
    }
   ],
   "source": [
    "obj = BeautifulSoup(content_text, 'lxml')\n",
    "\n",
    "#extracting the header\n",
    "headers= [x.text for x in obj.findAll(\"h2\") if '@' in x.text]\n",
    "headers"
   ]
  },
  {
   "cell_type": "code",
   "execution_count": 7,
   "metadata": {},
   "outputs": [
    {
     "data": {
      "text/plain": [
       "['100. Jeffrey Gettleman (@gettleman)',\n",
       " '99. Africa24 Media (@a24media)',\n",
       " '98. Scapegoat (@andiMakinana)',\n",
       " '97. Africa Check (@AfricaCheck)',\n",
       " '96. James Copnall (@JamesCopnall)',\n",
       " '95. Online Africa (@oafrica)',\n",
       " '94. Patrick Ngowi (@PatrickNgowi)',\n",
       " '93. DOS African Affairs (@StateAfrica)',\n",
       " '92. MoadowAJE (@Moadow)',\n",
       " '91. Brendan Boyle (@BrendanSAfrica)']"
      ]
     },
     "execution_count": 7,
     "metadata": {},
     "output_type": "execute_result"
    }
   ],
   "source": [
    "headers[0:10]"
   ]
  },
  {
   "cell_type": "code",
   "execution_count": 8,
   "metadata": {
    "ExecuteTime": {
     "end_time": "2020-07-16T11:23:41.504810Z",
     "start_time": "2020-07-16T11:23:41.381Z"
    }
   },
   "outputs": [],
   "source": [
    "username = []\n",
    "twitter_handle = []\n",
    "for x in headers:\n",
    "    x = x.split('(')\n",
    "    x[0].split('.')\n",
    "    twitter_handle.append(x[1].replace(')', ''))\n",
    "    username.append(x[0].split('.'))\n",
    "    \n"
   ]
  },
  {
   "cell_type": "code",
   "execution_count": 12,
   "metadata": {
    "ExecuteTime": {
     "end_time": "2020-07-16T11:23:41.508808Z",
     "start_time": "2020-07-16T11:23:41.390Z"
    }
   },
   "outputs": [
    {
     "data": {
      "text/plain": [
       "[['100', ' Jeffrey Gettleman '],\n",
       " ['99', ' Africa24 Media '],\n",
       " ['98', ' Scapegoat '],\n",
       " ['97', ' Africa Check '],\n",
       " ['96', ' James Copnall '],\n",
       " ['95', ' Online Africa '],\n",
       " ['94', ' Patrick Ngowi '],\n",
       " ['93', ' DOS African Affairs '],\n",
       " ['92', ' MoadowAJE '],\n",
       " ['91', ' Brendan Boyle ']]"
      ]
     },
     "execution_count": 12,
     "metadata": {},
     "output_type": "execute_result"
    }
   ],
   "source": [
    "username[0:10]"
   ]
  },
  {
   "cell_type": "code",
   "execution_count": 13,
   "metadata": {
    "ExecuteTime": {
     "end_time": "2020-07-16T11:23:41.510806Z",
     "start_time": "2020-07-16T11:23:41.405Z"
    }
   },
   "outputs": [
    {
     "data": {
      "text/plain": [
       "['@gettleman',\n",
       " '@a24media',\n",
       " '@andiMakinana',\n",
       " '@AfricaCheck',\n",
       " '@JamesCopnall',\n",
       " '@oafrica',\n",
       " '@PatrickNgowi',\n",
       " '@StateAfrica',\n",
       " '@Moadow',\n",
       " '@BrendanSAfrica']"
      ]
     },
     "execution_count": 13,
     "metadata": {},
     "output_type": "execute_result"
    }
   ],
   "source": [
    "twitter_handle[0:10]"
   ]
  },
  {
   "cell_type": "code",
   "execution_count": 14,
   "metadata": {},
   "outputs": [],
   "source": [
    "\n",
    "df= pd.DataFrame(username, columns=['Position', 'username',\"Rank\"])\n",
    "del df['Rank']\n",
    "\n",
    "main_content = df.apply(lambda x: x.astype(int) if x.name == 'Position' else x)\n",
    "main_content[\"Handle\"] = twitter_handle      \n",
    "\n",
    "main_content.sort_values(by=['Position'], inplace=True)\n",
    "\n",
    "main_content.reset_index(drop=True, inplace=True)\n",
    "\n",
    " #DataFrame of the influencers and their handles."
   ]
  },
  {
   "cell_type": "code",
   "execution_count": 15,
   "metadata": {},
   "outputs": [
    {
     "data": {
      "text/html": [
       "<div>\n",
       "<style scoped>\n",
       "    .dataframe tbody tr th:only-of-type {\n",
       "        vertical-align: middle;\n",
       "    }\n",
       "\n",
       "    .dataframe tbody tr th {\n",
       "        vertical-align: top;\n",
       "    }\n",
       "\n",
       "    .dataframe thead th {\n",
       "        text-align: right;\n",
       "    }\n",
       "</style>\n",
       "<table border=\"1\" class=\"dataframe\">\n",
       "  <thead>\n",
       "    <tr style=\"text-align: right;\">\n",
       "      <th></th>\n",
       "      <th>Position</th>\n",
       "      <th>username</th>\n",
       "      <th>Handle</th>\n",
       "    </tr>\n",
       "  </thead>\n",
       "  <tbody>\n",
       "    <tr>\n",
       "      <th>0</th>\n",
       "      <td>1</td>\n",
       "      <td>Trevor Noah</td>\n",
       "      <td>@Trevornoah</td>\n",
       "    </tr>\n",
       "    <tr>\n",
       "      <th>1</th>\n",
       "      <td>2</td>\n",
       "      <td>Gareth Cliff</td>\n",
       "      <td>@GarethCliff</td>\n",
       "    </tr>\n",
       "    <tr>\n",
       "      <th>2</th>\n",
       "      <td>3</td>\n",
       "      <td>Jacob G</td>\n",
       "      <td>@SAPresident</td>\n",
       "    </tr>\n",
       "    <tr>\n",
       "      <th>3</th>\n",
       "      <td>4</td>\n",
       "      <td>News24</td>\n",
       "      <td>@News24</td>\n",
       "    </tr>\n",
       "    <tr>\n",
       "      <th>4</th>\n",
       "      <td>5</td>\n",
       "      <td>Julius Sello Malema</td>\n",
       "      <td>@Julius_S_Malema</td>\n",
       "    </tr>\n",
       "    <tr>\n",
       "      <th>5</th>\n",
       "      <td>6</td>\n",
       "      <td>Helen Zille</td>\n",
       "      <td>@helenzille</td>\n",
       "    </tr>\n",
       "    <tr>\n",
       "      <th>6</th>\n",
       "      <td>7</td>\n",
       "      <td>mailandguardian</td>\n",
       "      <td>@mailandguardian</td>\n",
       "    </tr>\n",
       "    <tr>\n",
       "      <th>7</th>\n",
       "      <td>8</td>\n",
       "      <td>5FM</td>\n",
       "      <td>@5FM</td>\n",
       "    </tr>\n",
       "    <tr>\n",
       "      <th>8</th>\n",
       "      <td>9</td>\n",
       "      <td>loyiso gola</td>\n",
       "      <td>@loyisogola</td>\n",
       "    </tr>\n",
       "    <tr>\n",
       "      <th>9</th>\n",
       "      <td>10</td>\n",
       "      <td>Computicket</td>\n",
       "      <td>@Computicket</td>\n",
       "    </tr>\n",
       "  </tbody>\n",
       "</table>\n",
       "</div>"
      ],
      "text/plain": [
       "   Position               username            Handle\n",
       "0         1           Trevor Noah        @Trevornoah\n",
       "1         2          Gareth Cliff       @GarethCliff\n",
       "2         3                Jacob G      @SAPresident\n",
       "3         4                News24            @News24\n",
       "4         5   Julius Sello Malema   @Julius_S_Malema\n",
       "5         6           Helen Zille        @helenzille\n",
       "6         7       mailandguardian   @mailandguardian\n",
       "7         8                   5FM               @5FM\n",
       "8         9           loyiso gola        @loyisogola\n",
       "9        10           Computicket       @Computicket"
      ]
     },
     "execution_count": 15,
     "metadata": {},
     "output_type": "execute_result"
    }
   ],
   "source": [
    "main_content.head(10)    "
   ]
  },
  {
   "cell_type": "code",
   "execution_count": 16,
   "metadata": {},
   "outputs": [],
   "source": [
    "main_content.head(10).to_csv(\"Top 10 most_influential.csv\")"
   ]
  },
  {
   "cell_type": "code",
   "execution_count": 17,
   "metadata": {},
   "outputs": [
    {
     "name": "stdout",
     "output_type": "stream",
     "text": [
      "   Unnamed: 0  Position               username            Handle\n",
      "0           0         1           Trevor Noah        @Trevornoah\n",
      "1           1         2          Gareth Cliff       @GarethCliff\n",
      "2           2         3                Jacob G      @SAPresident\n",
      "3           3         4                News24            @News24\n",
      "4           4         5   Julius Sello Malema   @Julius_S_Malema\n",
      "5           5         6           Helen Zille        @helenzille\n",
      "6           6         7       mailandguardian   @mailandguardian\n",
      "7           7         8                   5FM               @5FM\n",
      "8           8         9           loyiso gola        @loyisogola\n",
      "9           9        10           Computicket       @Computicket\n"
     ]
    }
   ],
   "source": [
    "df = pandas.read_csv(\"Top 10 most_influential.csv\")\n",
    "print(df)"
   ]
  },
  {
   "cell_type": "code",
   "execution_count": 18,
   "metadata": {},
   "outputs": [],
   "source": [
    "df.drop(df.columns[df.columns.str.contains('unnamed',case = False)],axis = 1, inplace = True)"
   ]
  },
  {
   "cell_type": "code",
   "execution_count": 19,
   "metadata": {},
   "outputs": [
    {
     "data": {
      "text/html": [
       "<div>\n",
       "<style scoped>\n",
       "    .dataframe tbody tr th:only-of-type {\n",
       "        vertical-align: middle;\n",
       "    }\n",
       "\n",
       "    .dataframe tbody tr th {\n",
       "        vertical-align: top;\n",
       "    }\n",
       "\n",
       "    .dataframe thead th {\n",
       "        text-align: right;\n",
       "    }\n",
       "</style>\n",
       "<table border=\"1\" class=\"dataframe\">\n",
       "  <thead>\n",
       "    <tr style=\"text-align: right;\">\n",
       "      <th></th>\n",
       "      <th>Position</th>\n",
       "      <th>username</th>\n",
       "      <th>Handle</th>\n",
       "    </tr>\n",
       "  </thead>\n",
       "  <tbody>\n",
       "    <tr>\n",
       "      <th>0</th>\n",
       "      <td>1</td>\n",
       "      <td>Trevor Noah</td>\n",
       "      <td>@Trevornoah</td>\n",
       "    </tr>\n",
       "    <tr>\n",
       "      <th>1</th>\n",
       "      <td>2</td>\n",
       "      <td>Gareth Cliff</td>\n",
       "      <td>@GarethCliff</td>\n",
       "    </tr>\n",
       "    <tr>\n",
       "      <th>2</th>\n",
       "      <td>3</td>\n",
       "      <td>Jacob G</td>\n",
       "      <td>@SAPresident</td>\n",
       "    </tr>\n",
       "    <tr>\n",
       "      <th>3</th>\n",
       "      <td>4</td>\n",
       "      <td>News24</td>\n",
       "      <td>@News24</td>\n",
       "    </tr>\n",
       "    <tr>\n",
       "      <th>4</th>\n",
       "      <td>5</td>\n",
       "      <td>Julius Sello Malema</td>\n",
       "      <td>@Julius_S_Malema</td>\n",
       "    </tr>\n",
       "    <tr>\n",
       "      <th>5</th>\n",
       "      <td>6</td>\n",
       "      <td>Helen Zille</td>\n",
       "      <td>@helenzille</td>\n",
       "    </tr>\n",
       "    <tr>\n",
       "      <th>6</th>\n",
       "      <td>7</td>\n",
       "      <td>mailandguardian</td>\n",
       "      <td>@mailandguardian</td>\n",
       "    </tr>\n",
       "    <tr>\n",
       "      <th>7</th>\n",
       "      <td>8</td>\n",
       "      <td>5FM</td>\n",
       "      <td>@5FM</td>\n",
       "    </tr>\n",
       "    <tr>\n",
       "      <th>8</th>\n",
       "      <td>9</td>\n",
       "      <td>loyiso gola</td>\n",
       "      <td>@loyisogola</td>\n",
       "    </tr>\n",
       "    <tr>\n",
       "      <th>9</th>\n",
       "      <td>10</td>\n",
       "      <td>Computicket</td>\n",
       "      <td>@Computicket</td>\n",
       "    </tr>\n",
       "  </tbody>\n",
       "</table>\n",
       "</div>"
      ],
      "text/plain": [
       "   Position               username            Handle\n",
       "0         1           Trevor Noah        @Trevornoah\n",
       "1         2          Gareth Cliff       @GarethCliff\n",
       "2         3                Jacob G      @SAPresident\n",
       "3         4                News24            @News24\n",
       "4         5   Julius Sello Malema   @Julius_S_Malema\n",
       "5         6           Helen Zille        @helenzille\n",
       "6         7       mailandguardian   @mailandguardian\n",
       "7         8                   5FM               @5FM\n",
       "8         9           loyiso gola        @loyisogola\n",
       "9        10           Computicket       @Computicket"
      ]
     },
     "execution_count": 19,
     "metadata": {},
     "output_type": "execute_result"
    }
   ],
   "source": [
    "df"
   ]
  },
  {
   "cell_type": "markdown",
   "metadata": {},
   "source": [
    "## Top 10 African Government officials"
   ]
  },
  {
   "cell_type": "code",
   "execution_count": 20,
   "metadata": {
    "ExecuteTime": {
     "end_time": "2020-07-16T11:23:41.514802Z",
     "start_time": "2020-07-16T11:23:41.413Z"
    }
   },
   "outputs": [],
   "source": [
    "#%%writefile ../pyscrap_url.py\n",
    "\n",
    "def simple_get(url):\n",
    "    \"\"\"\n",
    "    Attempts to get the content at `url` by making an HTTP GET request.\n",
    "    If the content-type of response is some kind of HTML/XML, return the\n",
    "    text content, otherwise return None.\n",
    "    \"\"\"\n",
    "    try:\n",
    "        with closing(get(url, stream=True)) as resp:\n",
    "            if is_good_response(resp):\n",
    "                return resp.content  #.encode(BeautifulSoup.original_encoding)\n",
    "            else:\n",
    "                return None\n",
    "\n",
    "    except RequestException as e:\n",
    "        log_error('Error during requests to {0} : {1}'.format(url, str(e)))\n",
    "        return None\n",
    "\n",
    "\n",
    "def is_good_response(resp):\n",
    "    \"\"\"\n",
    "    Returns True if the response seems to be HTML, False otherwise.\n",
    "    \"\"\"\n",
    "    content_type = resp.headers['Content-Type'].lower()\n",
    "    return (resp.status_code == 200 \n",
    "            and content_type is not None \n",
    "            and content_type.find('html') > -1)\n",
    "\n",
    "\n",
    "def log_error(e):\n",
    "    \"\"\"\n",
    "    It is always a good idea to log errors. \n",
    "    This function just prints them, but you can\n",
    "    make it do anything.\n",
    "    \"\"\"\n",
    "    print(e)\n",
    "    \n",
    "def get_elements(url, tag='',search={}, fname=None):\n",
    "    \"\"\"\n",
    "    Downloads a page specified by the url parameter\n",
    "    and returns a list of strings, one per tag element\n",
    "    \"\"\"\n",
    "    \n",
    "    if isinstance(url,str):\n",
    "        response = simple_get(url)\n",
    "    else:\n",
    "        #if already it is a loaded html page\n",
    "        response = url\n",
    "\n",
    "    if response is not None:\n",
    "        html = BeautifulSoup(response, 'html.parser')\n",
    "        \n",
    "        res = []\n",
    "        if tag:    \n",
    "            for li in html.select(tag):\n",
    "                for name in li.text.split('\\n'):\n",
    "                    if len(name) > 0:\n",
    "                        res.append(name.strip())\n",
    "                       \n",
    "                \n",
    "        if search:\n",
    "            soup = html            \n",
    "            \n",
    "            \n",
    "            r = ''\n",
    "            if 'find' in search.keys():\n",
    "                print('findaing',search['find'])\n",
    "                soup = soup.find(**search['find'])\n",
    "                r = soup\n",
    "\n",
    "                \n",
    "            if 'find_all' in search.keys():\n",
    "                print('findaing all of',search['find_all'])\n",
    "                r = soup.find_all(**search['find_all'])\n",
    "   \n",
    "            if r:\n",
    "                for x in list(r):\n",
    "                    if len(x) > 0:\n",
    "                        res.extend(x)\n",
    "            \n",
    "        return res\n",
    "\n",
    "    # Raise an exception if we failed to get any data from the url\n",
    "    raise Exception('Error retrieving contents at {}'.format(url))    \n",
    "    \n",
    "    \n",
    "if get_ipython().__class__.__name__ == '__main__':\n",
    "    fire(get_tag_elements)"
   ]
  },
  {
   "cell_type": "code",
   "execution_count": 24,
   "metadata": {},
   "outputs": [],
   "source": [
    "URL = 'https://www.atlanticcouncil.org/blogs/africasource/african-leaders-respond-to-coronavirus-on-twitter/#east-africa'\n",
    "Response = simple_get(URL)"
   ]
  },
  {
   "cell_type": "code",
   "execution_count": 25,
   "metadata": {
    "ExecuteTime": {
     "end_time": "2020-07-16T11:23:41.517801Z",
     "start_time": "2020-07-16T11:23:41.420Z"
    }
   },
   "outputs": [
    {
     "name": "stdout",
     "output_type": "stream",
     "text": [
      "findaing all of {'class_': 'wp-block-embed__wrapper'}\n"
     ]
    },
    {
     "data": {
      "text/plain": [
       "['\\nhttps://twitter.com/TsholetsaDomi/status/1238324860536922112\\n',\n",
       " '\\nhttps://twitter.com/Azali_officiel/status/1239649350747332613\\n',\n",
       " '\\n',\n",
       " <blockquote class=\"twitter-tweet\" data-dnt=\"true\" data-width=\"550\"><p dir=\"ltr\" lang=\"en\">The Deputy Prime Minister Themba Masuku has today met representatives of the private sector and employees' unions to map a collaborative effort in the fight against <a href=\"https://twitter.com/hashtag/COVID19?src=hash&amp;ref_src=twsrc%5Etfw\">#COVID19</a>. <a href=\"https://t.co/EIYNGOEKRN\">pic.twitter.com/EIYNGOEKRN</a></p>— Eswatini Government (@EswatiniGovern1) <a href=\"https://twitter.com/EswatiniGovern1/status/1241038139889721346?ref_src=twsrc%5Etfw\">March 20, 2020</a></blockquote>,\n",
       " <script async=\"\" charset=\"utf-8\" src=\"https://platform.twitter.com/widgets.js\"></script>,\n",
       " '\\n',\n",
       " '\\nhttps://twitter.com/SE_Rajoelina/status/1241101811647500288\\n',\n",
       " '\\n',\n",
       " <blockquote class=\"twitter-tweet\" data-dnt=\"true\" data-width=\"550\"><p dir=\"ltr\" lang=\"en\">GUIDELINES FOR SCHOOLS IN <a href=\"https://twitter.com/hashtag/MALAWI?src=hash&amp;ref_src=twsrc%5Etfw\">#MALAWI</a> ON THE PREVENTION AND MANAGEMENT OF <a href=\"https://twitter.com/hashtag/COVID19?src=hash&amp;ref_src=twsrc%5Etfw\">#COVID19</a> <a href=\"https://twitter.com/hashtag/CORONAVIRUS?src=hash&amp;ref_src=twsrc%5Etfw\">#CORONAVIRUS</a> <a href=\"https://t.co/PL9R4XvGV3\">pic.twitter.com/PL9R4XvGV3</a></p>— Malawi Government (@MalawiGovt) <a href=\"https://twitter.com/MalawiGovt/status/1240275631323185152?ref_src=twsrc%5Etfw\">March 18, 2020</a></blockquote>,\n",
       " <script async=\"\" charset=\"utf-8\" src=\"https://platform.twitter.com/widgets.js\"></script>,\n",
       " '\\n',\n",
       " '\\nhttps://twitter.com/PKJugnauth/status/1240740484714319872\\n',\n",
       " '\\n',\n",
       " <blockquote class=\"twitter-tweet\" data-dnt=\"true\" data-width=\"550\"><p dir=\"ltr\" lang=\"en\">Fellow Namibians, I declared a State of Emergency on <a href=\"https://twitter.com/hashtag/COVID19?src=hash&amp;ref_src=twsrc%5Etfw\">#COVID19</a>. Cabinet approved additonal measures and responses to contain the spread of the Coronavirus. <a href=\"https://t.co/OsjrguArxf\">pic.twitter.com/OsjrguArxf</a></p>— Hage G. Geingob (@hagegeingob) <a href=\"https://twitter.com/hagegeingob/status/1240272081805336577?ref_src=twsrc%5Etfw\">March 18, 2020</a></blockquote>,\n",
       " <script async=\"\" charset=\"utf-8\" src=\"https://platform.twitter.com/widgets.js\"></script>,\n",
       " '\\n',\n",
       " '\\n',\n",
       " <blockquote class=\"twitter-tweet\" data-dnt=\"true\" data-width=\"550\"><p dir=\"ltr\" lang=\"en\"><a href=\"https://twitter.com/hashtag/COVID19measuresSC?src=hash&amp;ref_src=twsrc%5Etfw\">#COVID19measuresSC</a> <a href=\"https://twitter.com/hashtag/PrivateSector?src=hash&amp;ref_src=twsrc%5Etfw\">#PrivateSector</a> \"Government will guarantee the salaries of all employees in the private sector for the months of April, May and June. A total of SCR1.2 billion has been budgeted for this intervention. Government will not approve any redundancies.\"</p>— Seychelles Ministry of Finance (@FinanceSC) <a href=\"https://twitter.com/FinanceSC/status/1241039570608828416?ref_src=twsrc%5Etfw\">March 20, 2020</a></blockquote>,\n",
       " <script async=\"\" charset=\"utf-8\" src=\"https://platform.twitter.com/widgets.js\"></script>,\n",
       " '\\n',\n",
       " '\\n',\n",
       " <blockquote class=\"twitter-tweet\" data-dnt=\"true\" data-width=\"550\"><p dir=\"ltr\" lang=\"en\">The Minister for Cooperative Governance &amp; Traditional Affairs (COGTA) has, in terms of section 3 of the Disaster Management Act, 2002 (Act No. 57 of 2002), made the and gazetted regulations to deal with the spread of Regulations in the Schedule. <a href=\"https://twitter.com/hashtag/COVID19?src=hash&amp;ref_src=twsrc%5Etfw\">#COVID19</a> <a href=\"https://twitter.com/hashtag/CoronaVirusSA?src=hash&amp;ref_src=twsrc%5Etfw\">#CoronaVirusSA</a> <a href=\"https://t.co/3iPRnVebcs\">pic.twitter.com/3iPRnVebcs</a></p>— PresidencyZA (@PresidencyZA) <a href=\"https://twitter.com/PresidencyZA/status/1240502027446300674?ref_src=twsrc%5Etfw\">March 19, 2020</a></blockquote>,\n",
       " <script async=\"\" charset=\"utf-8\" src=\"https://platform.twitter.com/widgets.js\"></script>,\n",
       " '\\n',\n",
       " '\\n',\n",
       " <blockquote class=\"twitter-tweet\" data-dnt=\"true\" data-width=\"550\"><p dir=\"ltr\" lang=\"en\">Join the <a href=\"https://twitter.com/hashtag/SafeHands?src=hash&amp;ref_src=twsrc%5Etfw\">#SafeHands</a>  Challenge. The key is preventing the spread of <a href=\"https://twitter.com/hashtag/COVID19?src=hash&amp;ref_src=twsrc%5Etfw\">#COVID19</a> <a href=\"https://twitter.com/Dora_Siliya?ref_src=twsrc%5Etfw\">@Dora_Siliya</a> <a href=\"https://twitter.com/ChitaluChilufy3?ref_src=twsrc%5Etfw\">@ChitaluChilufy3</a> <a href=\"https://twitter.com/noalaskinner?ref_src=twsrc%5Etfw\">@noalaskinner</a> <a href=\"https://twitter.com/coumbagadio_ZM?ref_src=twsrc%5Etfw\">@coumbagadio_ZM</a> <a href=\"https://twitter.com/unicefzambia?ref_src=twsrc%5Etfw\">@unicefzambia</a> <a href=\"https://twitter.com/UNZambia?ref_src=twsrc%5Etfw\">@UNZambia</a> <a href=\"https://t.co/vLoc72v5Np\">pic.twitter.com/vLoc72v5Np</a></p>— Ministry of Health Zambia (@mohzambia) <a href=\"https://twitter.com/mohzambia/status/1240292737892732931?ref_src=twsrc%5Etfw\">March 18, 2020</a></blockquote>,\n",
       " <script async=\"\" charset=\"utf-8\" src=\"https://platform.twitter.com/widgets.js\"></script>,\n",
       " '\\n',\n",
       " '\\n',\n",
       " <blockquote class=\"twitter-tweet\" data-dnt=\"true\" data-width=\"550\"><p dir=\"ltr\" lang=\"en\">I urge my fellow Zimbabweans to maintain excellent levels of personal hygiene. Wash your hands thoroughly with soap, cover your nose &amp; mouth with a tissue when you cough, &amp; avoid unnecessary travel abroad.  We must keep our nation, safe, secure &amp; healthy.</p>— President of Zimbabwe (@edmnangagwa) <a href=\"https://twitter.com/edmnangagwa/status/1237958955080519680?ref_src=twsrc%5Etfw\">March 12, 2020</a></blockquote>,\n",
       " <script async=\"\" charset=\"utf-8\" src=\"https://platform.twitter.com/widgets.js\"></script>,\n",
       " '\\n',\n",
       " '\\n',\n",
       " <blockquote class=\"twitter-tweet\" data-dnt=\"true\" data-width=\"550\"><p dir=\"ltr\" lang=\"fr\"><a href=\"https://twitter.com/hashtag/COVID19DJ?src=hash&amp;ref_src=twsrc%5Etfw\">#COVID19DJ</a> : FERMETURE DES MOSQUÉES<br/><br/>Voici Communiqué du Ministère des affaires musulmanes et des biens Warkfs. <a href=\"https://t.co/AQ2kQP254j\">pic.twitter.com/AQ2kQP254j</a></p>— MinSantédj (@MinSantedj) <a href=\"https://twitter.com/MinSantedj/status/1241062742611681281?ref_src=twsrc%5Etfw\">March 20, 2020</a></blockquote>,\n",
       " <script async=\"\" charset=\"utf-8\" src=\"https://platform.twitter.com/widgets.js\"></script>,\n",
       " '\\n',\n",
       " '\\n',\n",
       " <blockquote class=\"twitter-tweet\" data-dnt=\"true\" data-width=\"550\"><p dir=\"ltr\" lang=\"en\">The Ministry of Health announced this evening the first confirmed case of a Coronavirus patient who arrived at Asmara International Airport from Norway with Fly Dubai at 7:00 a.m. LT this morning.  The 39-year old patient is an Eritrean national with permanent residence in Norway</p>— Yemane G. Meskel (@hawelti) <a href=\"https://twitter.com/hawelti/status/1241426444754063366?ref_src=twsrc%5Etfw\">March 21, 2020</a></blockquote>,\n",
       " <script async=\"\" charset=\"utf-8\" src=\"https://platform.twitter.com/widgets.js\"></script>,\n",
       " '\\n',\n",
       " '\\nhttps://twitter.com/AbiyAhmedAli/status/1240291553056260099\\n',\n",
       " '\\n',\n",
       " <blockquote class=\"twitter-tweet\" data-dnt=\"true\" data-width=\"550\"><p dir=\"ltr\" lang=\"en\">Please join His Excellency President Uhuru Kenyatta this Saturday, 21st March 2020 at 12 noon for a broadcast prayer service to mark the National Day of Prayer on the Coronavirus pandemic. The Service will be led by a cross-section of religious leaders. <a href=\"https://t.co/kDZPDUpeGz\">pic.twitter.com/kDZPDUpeGz</a></p>— State House Kenya (@StateHouseKenya) <a href=\"https://twitter.com/StateHouseKenya/status/1240905037435547649?ref_src=twsrc%5Etfw\">March 20, 2020</a></blockquote>,\n",
       " <script async=\"\" charset=\"utf-8\" src=\"https://platform.twitter.com/widgets.js\"></script>,\n",
       " '\\n',\n",
       " '\\n',\n",
       " <blockquote class=\"twitter-tweet\" data-dnt=\"true\" data-width=\"550\"><p dir=\"ltr\" lang=\"en\">I joined <a href=\"https://twitter.com/WHO?ref_src=twsrc%5Etfw\">@WHO</a> <a href=\"https://twitter.com/hashtag/SafeHands?src=hash&amp;ref_src=twsrc%5Etfw\">#SafeHands</a> challenge. Handwashing is key to preventing the spread of <a href=\"https://twitter.com/hashtag/COVID19?src=hash&amp;ref_src=twsrc%5Etfw\">#COVID19</a>. I challenge President Kenyatta <a href=\"https://twitter.com/StateHouseKenya?ref_src=twsrc%5Etfw\">@StateHouseKenya</a>, <a href=\"https://twitter.com/Macky_Sall?ref_src=twsrc%5Etfw\">@Macky_Sall</a>, <a href=\"https://twitter.com/MagufuliJP?ref_src=twsrc%5Etfw\">@MagufuliJP</a>, President Tshisekedi <a href=\"https://twitter.com/Presidence_RDC?ref_src=twsrc%5Etfw\">@Presidence_RDC</a>,  <a href=\"https://twitter.com/CyrilRamaphosa?ref_src=twsrc%5Etfw\">@CyrilRamaphosa</a>, <a href=\"https://twitter.com/BorisJohnson?ref_src=twsrc%5Etfw\">@BorisJohnson</a>, <a href=\"https://twitter.com/KGeorgieva?ref_src=twsrc%5Etfw\">@KGeorgieva</a> to join in by sharing a video <a href=\"https://t.co/udaVPCexCJ\">pic.twitter.com/udaVPCexCJ</a></p>— Paul Kagame (@PaulKagame) <a href=\"https://twitter.com/PaulKagame/status/1239263206691999748?ref_src=twsrc%5Etfw\">March 15, 2020</a></blockquote>,\n",
       " <script async=\"\" charset=\"utf-8\" src=\"https://platform.twitter.com/widgets.js\"></script>,\n",
       " '\\n',\n",
       " '\\n',\n",
       " <blockquote class=\"twitter-tweet\" data-dnt=\"true\" data-width=\"550\"><p dir=\"ltr\" lang=\"en\">We commend all medical practitioners across the globe working hard to counter the <a href=\"https://twitter.com/hashtag/CoronavirusPandemic?src=hash&amp;ref_src=twsrc%5Etfw\">#CoronavirusPandemic</a>. I urge everyone to support all efforts and recommended medical measures to slow the spread of <a href=\"https://twitter.com/hashtag/COVID19?src=hash&amp;ref_src=twsrc%5Etfw\">#COVID19</a> and keep the numbers low. <a href=\"https://t.co/AFtDg7Vtoo\">pic.twitter.com/AFtDg7Vtoo</a></p>— Mohamed Farmaajo (@M_Farmaajo) <a href=\"https://twitter.com/M_Farmaajo/status/1239662108519923713?ref_src=twsrc%5Etfw\">March 16, 2020</a></blockquote>,\n",
       " <script async=\"\" charset=\"utf-8\" src=\"https://platform.twitter.com/widgets.js\"></script>,\n",
       " '\\n',\n",
       " '\\n',\n",
       " <blockquote class=\"twitter-tweet\" data-dnt=\"true\" data-width=\"550\"><p dir=\"ltr\" lang=\"en\">20 March 2020: Communication from the <a href=\"https://twitter.com/hashtag/SouthSudan?src=hash&amp;ref_src=twsrc%5Etfw\">#SouthSudan</a> Presidency on the Coronavirus (COVID-19) Pandemic <br/><br/> \"South Sudan remains <a href=\"https://twitter.com/hashtag/COVID19?src=hash&amp;ref_src=twsrc%5Etfw\">#COVID19</a>-free. It is time to protect our people.\" — H.E Hussein Abdelbagi Akol, VP <a href=\"https://t.co/dZigOXyW2V\">pic.twitter.com/dZigOXyW2V</a></p>— South Sudan Government (@SouthSudanGov) <a href=\"https://twitter.com/SouthSudanGov/status/1241054039959371776?ref_src=twsrc%5Etfw\">March 20, 2020</a></blockquote>,\n",
       " <script async=\"\" charset=\"utf-8\" src=\"https://platform.twitter.com/widgets.js\"></script>,\n",
       " '\\n',\n",
       " '\\n',\n",
       " <blockquote class=\"twitter-tweet\" data-dnt=\"true\" data-width=\"550\"><p dir=\"ltr\" lang=\"en\">There is no shame in not shaking hands and in social distancing, during these difficult times, we must protect ourselves and those around us.<br/>Prevention is the best cure, therefore please be sure to follow health safety and security instructions.<a href=\"https://twitter.com/hashtag/%D8%A7%D8%AD%D8%AA%D9%8A%D8%A7%D8%B7%D8%A7%D8%AA_%D8%A7%D9%84%D8%B3%D9%88%D8%AF%D8%A7%D9%86_%D9%84%D9%85%D9%86%D8%B9_%D9%83%D9%88%D8%B1%D9%88%D9%86%D8%A7?src=hash&amp;ref_src=twsrc%5Etfw\">#احتياطات_السودان_لمنع_كورونا</a> <a href=\"https://t.co/abrg7Pvb5w\">pic.twitter.com/abrg7Pvb5w</a></p>— Abdalla Hamdok (@SudanPMHamdok) <a href=\"https://twitter.com/SudanPMHamdok/status/1240656894433296385?ref_src=twsrc%5Etfw\">March 19, 2020</a></blockquote>,\n",
       " <script async=\"\" charset=\"utf-8\" src=\"https://platform.twitter.com/widgets.js\"></script>,\n",
       " '\\n',\n",
       " '\\n',\n",
       " <blockquote class=\"twitter-tweet\" data-dnt=\"true\" data-width=\"550\"><p dir=\"ltr\" lang=\"en\">We have confirmed first case of Corona patient in Tanzania. The government was prepared with isolation centers and isolation hospitals. More measures to curb the spread will continue to be announced. In the meantime, let us continue to observe health precautions.<br/><br/>Dr. H.A</p>— TanzaniaSpokesperson (@TZSpokesperson) <a href=\"https://twitter.com/TZSpokesperson/status/1239534071681859587?ref_src=twsrc%5Etfw\">March 16, 2020</a></blockquote>,\n",
       " <script async=\"\" charset=\"utf-8\" src=\"https://platform.twitter.com/widgets.js\"></script>,\n",
       " '\\n',\n",
       " '\\n',\n",
       " <blockquote class=\"twitter-tweet\" data-dnt=\"true\" data-width=\"550\"><p dir=\"ltr\" lang=\"en\">We believe that we can never do enough in the face of corona virus unless God is with us.<br/><br/>We shall hold prayers as a nation at State House, Entebbe.<br/> <br/>Join us from wherever you will be <a href=\"https://t.co/voLCrF8nPK\">pic.twitter.com/voLCrF8nPK</a></p>— Yoweri K Museveni (@KagutaMuseveni) <a href=\"https://twitter.com/KagutaMuseveni/status/1241069763582988288?ref_src=twsrc%5Etfw\">March 20, 2020</a></blockquote>,\n",
       " <script async=\"\" charset=\"utf-8\" src=\"https://platform.twitter.com/widgets.js\"></script>,\n",
       " '\\n',\n",
       " '\\n',\n",
       " <blockquote class=\"twitter-tweet\" data-dnt=\"true\" data-width=\"550\"><p dir=\"ltr\" lang=\"en\">Minister Manuel Augusto participating at SADC Council of Ministers Meeting  from the Ministry in Luanda through videoconference, due to the Coronavirus outbreak. The meeting was conducted from Dar Es Salaam,Tanzania from 16 to 18/3. Tanzania holds the current presidency of SADC. <a href=\"https://t.co/vOfLwRizKr\">pic.twitter.com/vOfLwRizKr</a></p>— MOFA/MRE -(Angola) (@angola_Mirex) <a href=\"https://twitter.com/angola_Mirex/status/1240587177903427584?ref_src=twsrc%5Etfw\">March 19, 2020</a></blockquote>,\n",
       " <script async=\"\" charset=\"utf-8\" src=\"https://platform.twitter.com/widgets.js\"></script>,\n",
       " '\\n',\n",
       " '\\n',\n",
       " <blockquote class=\"twitter-tweet\" data-dnt=\"true\" data-width=\"550\"><p dir=\"ltr\" lang=\"fr\">🔴 Une rumeur de mauvais goût sur le <a href=\"https://twitter.com/hashtag/coronavirus?src=hash&amp;ref_src=twsrc%5Etfw\">#coronavirus</a> est propagée par un ancien milicien sans-échec tout en identifiant, dans sa publication, d’honnêtes personnes, dans le but de saboter l’investissement au <a href=\"https://twitter.com/hashtag/Burundi?src=hash&amp;ref_src=twsrc%5Etfw\">#Burundi</a> et semer la panique comme ils ont l’habitude de le faire.<a href=\"https://twitter.com/hashtag/COVID19?src=hash&amp;ref_src=twsrc%5Etfw\">#COVID19</a> <a href=\"https://t.co/x4VrMaXF16\">pic.twitter.com/x4VrMaXF16</a></p>— Amb. Willy Nyamitwe (@willynyamitwe) <a href=\"https://twitter.com/willynyamitwe/status/1239240373945409540?ref_src=twsrc%5Etfw\">March 15, 2020</a></blockquote>,\n",
       " <script async=\"\" charset=\"utf-8\" src=\"https://platform.twitter.com/widgets.js\"></script>,\n",
       " '\\n',\n",
       " '\\nhttps://twitter.com/PR_Paul_BIYA/status/1239988020763398147\\n',\n",
       " '\\n',\n",
       " <blockquote class=\"twitter-tweet\" data-dnt=\"true\" data-width=\"550\"><p dir=\"ltr\" lang=\"fr\">La situation du premier patient testé positif au COVID-19 et pris en charge depuis hier par les services médicaux compétents, s'améliore, et l'Ambassade de son pays suit l'évolution de l'état de sa santé.</p>— Chérif Mahamat Zene (@Cherif_MZ) <a href=\"https://twitter.com/Cherif_MZ/status/1241057558049296385?ref_src=twsrc%5Etfw\">March 20, 2020</a></blockquote>,\n",
       " <script async=\"\" charset=\"utf-8\" src=\"https://platform.twitter.com/widgets.js\"></script>,\n",
       " '\\n',\n",
       " '\\nhttps://twitter.com/MinistereComCG/status/1239695479476293632\\n',\n",
       " '\\n',\n",
       " <blockquote class=\"twitter-tweet\" data-dnt=\"true\" data-width=\"550\"><p dir=\"ltr\" lang=\"und\"><a href=\"https://twitter.com/hashtag/RDC?src=hash&amp;ref_src=twsrc%5Etfw\">#RDC</a> 19.03.20| <a href=\"https://twitter.com/hashtag/Stop?src=hash&amp;ref_src=twsrc%5Etfw\">#Stop</a> <a href=\"https://twitter.com/hashtag/Covid_19?src=hash&amp;ref_src=twsrc%5Etfw\">#Covid_19</a> <a href=\"https://twitter.com/hashtag/COVID19RDC?src=hash&amp;ref_src=twsrc%5Etfw\">#COVID19RDC</a> <a href=\"https://twitter.com/hashtag/coronavirus?src=hash&amp;ref_src=twsrc%5Etfw\">#coronavirus</a> <a href=\"https://twitter.com/hashtag/PresidenceCD?src=hash&amp;ref_src=twsrc%5Etfw\">#PresidenceCD</a> <a href=\"https://t.co/q2dpBcX7C6\">pic.twitter.com/q2dpBcX7C6</a></p>— Présidence RDC 🇨🇩 (@Presidence_RDC) <a href=\"https://twitter.com/Presidence_RDC/status/1240736987960741889?ref_src=twsrc%5Etfw\">March 19, 2020</a></blockquote>,\n",
       " <script async=\"\" charset=\"utf-8\" src=\"https://platform.twitter.com/widgets.js\"></script>,\n",
       " '\\n',\n",
       " '\\n',\n",
       " <blockquote class=\"twitter-tweet\" data-dnt=\"true\" data-width=\"550\"><p dir=\"ltr\" lang=\"fr\">Pour ralentir la diffusion du Covid-19 au Gabon et ainsi en atténuer au maximum l'impact sur le plan sanitaire, j'ai décidé lors du conseil des ministres ce lundi de renforcer les mesures préventives. <a href=\"https://t.co/LzkrkwyorB\">pic.twitter.com/LzkrkwyorB</a></p>— Ali Bongo Ondimba (@PresidentABO) <a href=\"https://twitter.com/PresidentABO/status/1239592652242370565?ref_src=twsrc%5Etfw\">March 16, 2020</a></blockquote>,\n",
       " <script async=\"\" charset=\"utf-8\" src=\"https://platform.twitter.com/widgets.js\"></script>,\n",
       " '\\n',\n",
       " '\\n',\n",
       " <blockquote class=\"twitter-tweet\" data-dnt=\"true\" data-width=\"550\"><p dir=\"ltr\" lang=\"fr\">Pour réduire les risques de propagation du <a href=\"https://twitter.com/hashtag/Coronavirus?src=hash&amp;ref_src=twsrc%5Etfw\">#Coronavirus</a>, le <a href=\"https://twitter.com/gouvbenin?ref_src=twsrc%5Etfw\">@gouvbenin</a><br/> vous invite à adopter ces gestes barrières au <a href=\"https://twitter.com/hashtag/COVID19?src=hash&amp;ref_src=twsrc%5Etfw\">#COVID19</a> . Se protéger et protéger les autres, c'est le devoir du citoyen responsable.<br/>Toutes les infos utiles sur : <a href=\"https://t.co/eimzSLmTVF\">https://t.co/eimzSLmTVF</a> <a href=\"https://t.co/OanWPLnnDB\">pic.twitter.com/OanWPLnnDB</a></p>— Présidence du Bénin (@PresidenceBenin) <a href=\"https://twitter.com/PresidenceBenin/status/1240687767354392576?ref_src=twsrc%5Etfw\">March 19, 2020</a></blockquote>,\n",
       " <script async=\"\" charset=\"utf-8\" src=\"https://platform.twitter.com/widgets.js\"></script>,\n",
       " '\\n',\n",
       " '\\n',\n",
       " <blockquote class=\"twitter-tweet\" data-dnt=\"true\" data-width=\"550\"><p dir=\"ltr\" lang=\"fr\">J'invite mes compatriotes à adopter des mesures préventives, afin de se prémunir contre le Coronavirus et éviter sa propagation. Ensemble, adoptons des comportements individuels et collectifs adéquats, en suivant les conseils des services de santé.<a href=\"https://twitter.com/hashtag/BurkinaFaso?src=hash&amp;ref_src=twsrc%5Etfw\">#BurkinaFaso</a> <a href=\"https://twitter.com/hashtag/COVID19?src=hash&amp;ref_src=twsrc%5Etfw\">#COVID19</a> <a href=\"https://t.co/aM8y0srZqJ\">pic.twitter.com/aM8y0srZqJ</a></p>— Roch KABORE (@rochkaborepf) <a href=\"https://twitter.com/rochkaborepf/status/1237718515081248773?ref_src=twsrc%5Etfw\">March 11, 2020</a></blockquote>,\n",
       " <script async=\"\" charset=\"utf-8\" src=\"https://platform.twitter.com/widgets.js\"></script>,\n",
       " '\\n',\n",
       " '\\n',\n",
       " <blockquote class=\"twitter-tweet\" data-dnt=\"true\" data-width=\"550\"><p dir=\"ltr\" lang=\"und\"><a href=\"https://twitter.com/hashtag/preven%C3%A7%C3%A3ocovid19?src=hash&amp;ref_src=twsrc%5Etfw\">#prevençãocovid19</a> <a href=\"https://t.co/hiI3LwtWjv\">https://t.co/hiI3LwtWjv</a></p>— Presidente Cabo Verde (@PresidenciaCV) <a href=\"https://twitter.com/PresidenciaCV/status/1240985116551327744?ref_src=twsrc%5Etfw\">March 20, 2020</a></blockquote>,\n",
       " <script async=\"\" charset=\"utf-8\" src=\"https://platform.twitter.com/widgets.js\"></script>,\n",
       " '\\n',\n",
       " '\\n',\n",
       " <blockquote class=\"twitter-tweet\" data-dnt=\"true\" data-width=\"550\"><p dir=\"ltr\" lang=\"fr\">Mes chers compatriotes, face à la pandémie du Coronavirus COVID-19, adoptons les bonnes pratiques et mettons en application les mesures de prévention recommandées par le Ministère de la Santé et l’OMS. <a href=\"https://t.co/cSxzODR6Vs\">https://t.co/cSxzODR6Vs</a> <a href=\"https://t.co/tILcYxVCf8\">pic.twitter.com/tILcYxVCf8</a></p>— Alassane Ouattara (@AOuattara_PRCI) <a href=\"https://twitter.com/AOuattara_PRCI/status/1239496922219544577?ref_src=twsrc%5Etfw\">March 16, 2020</a></blockquote>,\n",
       " <script async=\"\" charset=\"utf-8\" src=\"https://platform.twitter.com/widgets.js\"></script>,\n",
       " '\\n',\n",
       " '\\n',\n",
       " <blockquote class=\"twitter-tweet\" data-dnt=\"true\" data-width=\"550\"><p dir=\"ltr\" lang=\"en\"><a href=\"https://twitter.com/hashtag/COVID19?src=hash&amp;ref_src=twsrc%5Etfw\">#COVID19</a> awareness campaign: H.E the Vice President Dr Isatou Touray. <a href=\"https://t.co/FhADcBZVsL\">pic.twitter.com/FhADcBZVsL</a></p>— State House of The Gambia (@Presidency_GMB) <a href=\"https://twitter.com/Presidency_GMB/status/1240692846119673857?ref_src=twsrc%5Etfw\">March 19, 2020</a></blockquote>,\n",
       " <script async=\"\" charset=\"utf-8\" src=\"https://platform.twitter.com/widgets.js\"></script>,\n",
       " '\\n',\n",
       " '\\n',\n",
       " <blockquote class=\"twitter-tweet\" data-dnt=\"true\" data-width=\"550\"><p dir=\"ltr\" lang=\"en\">Here are excerpts of my address to the nation on the updates taken to combat the spread of Coronavirus <a href=\"https://t.co/dkfcrrEiy5\">pic.twitter.com/dkfcrrEiy5</a></p>— Nana Akufo-Addo (@NAkufoAddo) <a href=\"https://twitter.com/NAkufoAddo/status/1239321707984367623?ref_src=twsrc%5Etfw\">March 15, 2020</a></blockquote>,\n",
       " <script async=\"\" charset=\"utf-8\" src=\"https://platform.twitter.com/widgets.js\"></script>,\n",
       " '\\n',\n",
       " '\\n',\n",
       " <blockquote class=\"twitter-tweet\" data-dnt=\"true\" data-width=\"550\"><p dir=\"ltr\" lang=\"fr\">Dans un contexte de crise <a href=\"https://twitter.com/hashtag/sanitaire?src=hash&amp;ref_src=twsrc%5Etfw\">#sanitaire</a> mondiale, j’ai pris de nouvelles mesures afin d’endiguer la propagation du <a href=\"https://twitter.com/hashtag/Covid19?src=hash&amp;ref_src=twsrc%5Etfw\">#Covid19</a> en République de <a href=\"https://twitter.com/hashtag/Guin%C3%A9e?src=hash&amp;ref_src=twsrc%5Etfw\">#Guinée</a><a href=\"https://twitter.com/hashtag/Kibaro?src=hash&amp;ref_src=twsrc%5Etfw\">#Kibaro</a> <a href=\"https://twitter.com/hashtag/Covid19GN?src=hash&amp;ref_src=twsrc%5Etfw\">#Covid19GN</a> <a href=\"https://twitter.com/hashtag/CoronaVirusUpdate?src=hash&amp;ref_src=twsrc%5Etfw\">#CoronaVirusUpdate</a> <a href=\"https://t.co/3GAibFbONn\">pic.twitter.com/3GAibFbONn</a></p>— Pr. Alpha CONDÉ (@President_GN) <a href=\"https://twitter.com/President_GN/status/1240747558970036225?ref_src=twsrc%5Etfw\">March 19, 2020</a></blockquote>,\n",
       " <script async=\"\" charset=\"utf-8\" src=\"https://platform.twitter.com/widgets.js\"></script>,\n",
       " '\\n',\n",
       " '\\n',\n",
       " <blockquote class=\"twitter-tweet\" data-dnt=\"true\" data-width=\"550\"><p dir=\"ltr\" lang=\"en\"><a href=\"https://twitter.com/hashtag/GuineaBissau?src=hash&amp;ref_src=twsrc%5Etfw\">#GuineaBissau</a> 's borders closed.</p>— Umaro Sissoco Embalo (@USEmbalo) <a href=\"https://twitter.com/USEmbalo/status/1240009221669863425?ref_src=twsrc%5Etfw\">March 17, 2020</a></blockquote>,\n",
       " <script async=\"\" charset=\"utf-8\" src=\"https://platform.twitter.com/widgets.js\"></script>,\n",
       " '\\n',\n",
       " '\\n',\n",
       " <blockquote class=\"twitter-tweet\" data-dnt=\"true\" data-width=\"550\"><p dir=\"ltr\" lang=\"fr\">Communiqué intégrale du Conseil Extraordinaire de Défense présidé ce 17 Mars par le Chef de l’Etat sur le <a href=\"https://twitter.com/hashtag/coronavirus?src=hash&amp;ref_src=twsrc%5Etfw\">#coronavirus</a> <a href=\"https://t.co/i3AOlM8Jk7\">pic.twitter.com/i3AOlM8Jk7</a></p>— Presidence Mali (@PresidenceMali) <a href=\"https://twitter.com/PresidenceMali/status/1240016297452331009?ref_src=twsrc%5Etfw\">March 17, 2020</a></blockquote>,\n",
       " <script async=\"\" charset=\"utf-8\" src=\"https://platform.twitter.com/widgets.js\"></script>,\n",
       " '\\n',\n",
       " '\\n',\n",
       " <blockquote class=\"twitter-tweet\" data-dnt=\"true\" data-width=\"550\"><p dir=\"ltr\" lang=\"fr\">Chers citoyens et résidents, <br/>Un cas de Covid-19 concernant un citoyen étranger ayant été confirmé, je voudrais vous rassurer que les dispositions ont été prises à tous les niveaux. Je vous engage à la prudence et au strict respect  des directives des autorités  compétentes.</p>— Mohamed Cheikh El Ghazouani محمد الشيخ الغزواني (@CheikhGhazouani) <a href=\"https://twitter.com/CheikhGhazouani/status/1238865788993507329?ref_src=twsrc%5Etfw\">March 14, 2020</a></blockquote>,\n",
       " <script async=\"\" charset=\"utf-8\" src=\"https://platform.twitter.com/widgets.js\"></script>,\n",
       " '\\n',\n",
       " '\\n',\n",
       " <blockquote class=\"twitter-tweet\" data-dnt=\"true\" data-width=\"550\"><p dir=\"ltr\" lang=\"fr\">Mes Chers Concitoyens, <br/>Depuis la grippe Espagnole, il y a un siècle, l’ humanité n’a pas connu un fléau sanitaire d’ une telle ampleur. Je le répète: il n’y a ni traitement, ni vaccin. Notre seule arme reste la prévention. <a href=\"https://t.co/akIhqXETrW\">https://t.co/akIhqXETrW</a></p>— Issoufou Mahamadou (@IssoufouMhm) <a href=\"https://twitter.com/IssoufouMhm/status/1240000723112398848?ref_src=twsrc%5Etfw\">March 17, 2020</a></blockquote>,\n",
       " <script async=\"\" charset=\"utf-8\" src=\"https://platform.twitter.com/widgets.js\"></script>,\n",
       " '\\n',\n",
       " '\\n',\n",
       " <blockquote class=\"twitter-tweet\" data-dnt=\"true\" data-width=\"550\"><p dir=\"ltr\" lang=\"en\">Protecting Nigerians from the Coronavirus is a key priority for us as a Government. We have the Ministry of Health and the Nigeria Center for Disease Control (NCDC) working round-the-clock with several other agencies, as well as State Governments, to ensure this.</p>— Muhammadu Buhari (@MBuhari) <a href=\"https://twitter.com/MBuhari/status/1241017438147354624?ref_src=twsrc%5Etfw\">March 20, 2020</a></blockquote>,\n",
       " <script async=\"\" charset=\"utf-8\" src=\"https://platform.twitter.com/widgets.js\"></script>,\n",
       " '\\n',\n",
       " '\\n',\n",
       " <blockquote class=\"twitter-tweet\" data-dnt=\"true\" data-width=\"550\"><p dir=\"ltr\" lang=\"en\">Dear President <a href=\"https://twitter.com/PaulKagame?ref_src=twsrc%5Etfw\">@PaulKagame</a>, I accept the challenge and encourage all people from Senegal and all contaminated countries to do as well against <a href=\"https://twitter.com/hashtag/COVID19?src=hash&amp;ref_src=twsrc%5Etfw\">#COVID19</a> <a href=\"https://twitter.com/hashtag/SafeHands?src=hash&amp;ref_src=twsrc%5Etfw\">#SafeHands</a><br/>What about you? <a href=\"https://t.co/1ga1ZCwYfb\">pic.twitter.com/1ga1ZCwYfb</a></p>— Macky Sall (@Macky_Sall) <a href=\"https://twitter.com/Macky_Sall/status/1239994958859382787?ref_src=twsrc%5Etfw\">March 17, 2020</a></blockquote>,\n",
       " <script async=\"\" charset=\"utf-8\" src=\"https://platform.twitter.com/widgets.js\"></script>,\n",
       " '\\n',\n",
       " '\\n',\n",
       " <blockquote class=\"twitter-tweet\" data-dnt=\"true\" data-width=\"550\"><p dir=\"ltr\" lang=\"en\">Although there are no confirmed <a href=\"https://twitter.com/hashtag/Coronavirus?src=hash&amp;ref_src=twsrc%5Etfw\">#Coronavirus</a> cases in <a href=\"https://twitter.com/hashtag/SierraLeone?src=hash&amp;ref_src=twsrc%5Etfw\">#SierraLeone</a> at this time, the Ministry of Health and Sanitation has activated the Emergency Operations Centre to Level 2 to coordinate initial preparedness and response. <br/>We have activated the Emergency contact number 117.</p>— President Julius Maada Bio (@PresidentBio) <a href=\"https://twitter.com/PresidentBio/status/1240383695627915267?ref_src=twsrc%5Etfw\">March 18, 2020</a></blockquote>,\n",
       " <script async=\"\" charset=\"utf-8\" src=\"https://platform.twitter.com/widgets.js\"></script>,\n",
       " '\\n',\n",
       " '\\n',\n",
       " <blockquote class=\"twitter-tweet\" data-dnt=\"true\" data-width=\"550\"><p dir=\"ltr\" lang=\"ca\">Manifestations coronavirus <a href=\"https://t.co/mdjyRWUuoq\">pic.twitter.com/mdjyRWUuoq</a></p>— Ministère de la Santé et de l'hygiène Publique (@MSPS_Togo) <a href=\"https://twitter.com/MSPS_Togo/status/1239881384732344325?ref_src=twsrc%5Etfw\">March 17, 2020</a></blockquote>,\n",
       " <script async=\"\" charset=\"utf-8\" src=\"https://platform.twitter.com/widgets.js\"></script>,\n",
       " '\\n']"
      ]
     },
     "execution_count": 25,
     "metadata": {},
     "output_type": "execute_result"
    }
   ],
   "source": [
    "res = get_elements(Response, search={'find_all':{'class_':'wp-block-embed__wrapper'}})\n",
    "res"
   ]
  },
  {
   "cell_type": "code",
   "execution_count": 54,
   "metadata": {},
   "outputs": [
    {
     "data": {
      "text/plain": [
       "'[\\'\\\\nhttps://twitter.com/TsholetsaDomi/status/1238324860536922112\\\\n\\', \\'\\\\nhttps://twitter.com/Azali_officiel/status/1239649350747332613\\\\n\\', \\'\\\\n\\', <blockquote class=\"twitter-tweet\" data-dnt=\"true\" data-width=\"550\"><p dir=\"ltr\" lang=\"en\">The Deputy Prime Minister Themba Masuku has today met representatives of the private sector and employees\\' unions to map a collaborative effort in the fight against <a href=\"https://twitter.com/hashtag/COVID19?src=hash&amp;ref_src=twsrc%5Etfw\">#COVID19</a>. <a href=\"https://t.co/EIYNGOEKRN\">pic.twitter.com/EIYNGOEKRN</a></p>— Eswatini Government (@EswatiniGovern1) <a href=\"https://twitter.com/EswatiniGovern1/status/1241038139889721346?ref_src=twsrc%5Etfw\">March 20, 2020</a></blockquote>, <script async=\"\" charset=\"utf-8\" src=\"https://platform.twitter.com/widgets.js\"></script>, \\'\\\\n\\', \\'\\\\nhttps://twitter.com/SE_Rajoelina/status/1241101811647500288\\\\n\\', \\'\\\\n\\', <blockquote class=\"twitter-tweet\" data-dnt=\"true\" data-width=\"550\"><p dir=\"ltr\" lang=\"en\">GUIDELINES FOR SCHOOLS IN <a href=\"https://twitter.com/hashtag/MALAWI?src=hash&amp;ref_src=twsrc%5Etfw\">#MALAWI</a> ON THE PREVENTION AND MANAGEMENT OF <a href=\"https://twitter.com/hashtag/COVID19?src=hash&amp;ref_src=twsrc%5Etfw\">#COVID19</a> <a href=\"https://twitter.com/hashtag/CORONAVIRUS?src=hash&amp;ref_src=twsrc%5Etfw\">#CORONAVIRUS</a> <a href=\"https://t.co/PL9R4XvGV3\">pic.twitter.com/PL9R4XvGV3</a></p>— Malawi Government (@MalawiGovt) <a href=\"https://twitter.com/MalawiGovt/status/1240275631323185152?ref_src=twsrc%5Etfw\">March 18, 2020</a></blockquote>, <script async=\"\" charset=\"utf-8\" src=\"https://platform.twitter.com/widgets.js\"></script>, \\'\\\\n\\', \\'\\\\nhttps://twitter.com/PKJugnauth/status/1240740484714319872\\\\n\\', \\'\\\\n\\', <blockquote class=\"twitter-tweet\" data-dnt=\"true\" data-width=\"550\"><p dir=\"ltr\" lang=\"en\">Fellow Namibians, I declared a State of Emergency on <a href=\"https://twitter.com/hashtag/COVID19?src=hash&amp;ref_src=twsrc%5Etfw\">#COVID19</a>. Cabinet approved additonal measures and responses to contain the spread of the Coronavirus. <a href=\"https://t.co/OsjrguArxf\">pic.twitter.com/OsjrguArxf</a></p>— Hage G. Geingob (@hagegeingob) <a href=\"https://twitter.com/hagegeingob/status/1240272081805336577?ref_src=twsrc%5Etfw\">March 18, 2020</a></blockquote>, <script async=\"\" charset=\"utf-8\" src=\"https://platform.twitter.com/widgets.js\"></script>, \\'\\\\n\\', \\'\\\\n\\', <blockquote class=\"twitter-tweet\" data-dnt=\"true\" data-width=\"550\"><p dir=\"ltr\" lang=\"en\"><a href=\"https://twitter.com/hashtag/COVID19measuresSC?src=hash&amp;ref_src=twsrc%5Etfw\">#COVID19measuresSC</a> <a href=\"https://twitter.com/hashtag/PrivateSector?src=hash&amp;ref_src=twsrc%5Etfw\">#PrivateSector</a> \"Government will guarantee the salaries of all employees in the private sector for the months of April, May and June. A total of SCR1.2 billion has been budgeted for this intervention. Government will not approve any redundancies.\"</p>— Seychelles Ministry of Finance (@FinanceSC) <a href=\"https://twitter.com/FinanceSC/status/1241039570608828416?ref_src=twsrc%5Etfw\">March 20, 2020</a></blockquote>, <script async=\"\" charset=\"utf-8\" src=\"https://platform.twitter.com/widgets.js\"></script>, \\'\\\\n\\', \\'\\\\n\\', <blockquote class=\"twitter-tweet\" data-dnt=\"true\" data-width=\"550\"><p dir=\"ltr\" lang=\"en\">The Minister for Cooperative Governance &amp; Traditional Affairs (COGTA) has, in terms of section 3 of the Disaster Management Act, 2002 (Act No. 57 of 2002), made the and gazetted regulations to deal with the spread of Regulations in the Schedule. <a href=\"https://twitter.com/hashtag/COVID19?src=hash&amp;ref_src=twsrc%5Etfw\">#COVID19</a> <a href=\"https://twitter.com/hashtag/CoronaVirusSA?src=hash&amp;ref_src=twsrc%5Etfw\">#CoronaVirusSA</a> <a href=\"https://t.co/3iPRnVebcs\">pic.twitter.com/3iPRnVebcs</a></p>— PresidencyZA (@PresidencyZA) <a href=\"https://twitter.com/PresidencyZA/status/1240502027446300674?ref_src=twsrc%5Etfw\">March 19, 2020</a></blockquote>, <script async=\"\" charset=\"utf-8\" src=\"https://platform.twitter.com/widgets.js\"></script>, \\'\\\\n\\', \\'\\\\n\\', <blockquote class=\"twitter-tweet\" data-dnt=\"true\" data-width=\"550\"><p dir=\"ltr\" lang=\"en\">Join the <a href=\"https://twitter.com/hashtag/SafeHands?src=hash&amp;ref_src=twsrc%5Etfw\">#SafeHands</a>\\xa0 Challenge. The key is preventing the spread of <a href=\"https://twitter.com/hashtag/COVID19?src=hash&amp;ref_src=twsrc%5Etfw\">#COVID19</a> <a href=\"https://twitter.com/Dora_Siliya?ref_src=twsrc%5Etfw\">@Dora_Siliya</a> <a href=\"https://twitter.com/ChitaluChilufy3?ref_src=twsrc%5Etfw\">@ChitaluChilufy3</a> <a href=\"https://twitter.com/noalaskinner?ref_src=twsrc%5Etfw\">@noalaskinner</a> <a href=\"https://twitter.com/coumbagadio_ZM?ref_src=twsrc%5Etfw\">@coumbagadio_ZM</a> <a href=\"https://twitter.com/unicefzambia?ref_src=twsrc%5Etfw\">@unicefzambia</a> <a href=\"https://twitter.com/UNZambia?ref_src=twsrc%5Etfw\">@UNZambia</a> <a href=\"https://t.co/vLoc72v5Np\">pic.twitter.com/vLoc72v5Np</a></p>— Ministry of Health Zambia (@mohzambia) <a href=\"https://twitter.com/mohzambia/status/1240292737892732931?ref_src=twsrc%5Etfw\">March 18, 2020</a></blockquote>, <script async=\"\" charset=\"utf-8\" src=\"https://platform.twitter.com/widgets.js\"></script>, \\'\\\\n\\', \\'\\\\n\\', <blockquote class=\"twitter-tweet\" data-dnt=\"true\" data-width=\"550\"><p dir=\"ltr\" lang=\"en\">I urge my fellow Zimbabweans to maintain excellent levels of personal hygiene. Wash your hands thoroughly with soap, cover your nose &amp; mouth with a tissue when you cough, &amp; avoid unnecessary travel abroad.  We must keep our nation, safe, secure &amp; healthy.</p>— President of Zimbabwe (@edmnangagwa) <a href=\"https://twitter.com/edmnangagwa/status/1237958955080519680?ref_src=twsrc%5Etfw\">March 12, 2020</a></blockquote>, <script async=\"\" charset=\"utf-8\" src=\"https://platform.twitter.com/widgets.js\"></script>, \\'\\\\n\\', \\'\\\\n\\', <blockquote class=\"twitter-tweet\" data-dnt=\"true\" data-width=\"550\"><p dir=\"ltr\" lang=\"fr\"><a href=\"https://twitter.com/hashtag/COVID19DJ?src=hash&amp;ref_src=twsrc%5Etfw\">#COVID19DJ</a> : FERMETURE DES MOSQUÉES<br/><br/>Voici Communiqué du Ministère des affaires musulmanes et des biens Warkfs. <a href=\"https://t.co/AQ2kQP254j\">pic.twitter.com/AQ2kQP254j</a></p>— MinSantédj (@MinSantedj) <a href=\"https://twitter.com/MinSantedj/status/1241062742611681281?ref_src=twsrc%5Etfw\">March 20, 2020</a></blockquote>, <script async=\"\" charset=\"utf-8\" src=\"https://platform.twitter.com/widgets.js\"></script>, \\'\\\\n\\', \\'\\\\n\\', <blockquote class=\"twitter-tweet\" data-dnt=\"true\" data-width=\"550\"><p dir=\"ltr\" lang=\"en\">The Ministry of Health announced this evening the first confirmed case of a Coronavirus patient who arrived at Asmara International Airport from Norway with Fly Dubai at 7:00 a.m. LT this morning.  The 39-year old patient is an Eritrean national with permanent residence in Norway</p>— Yemane G. Meskel (@hawelti) <a href=\"https://twitter.com/hawelti/status/1241426444754063366?ref_src=twsrc%5Etfw\">March 21, 2020</a></blockquote>, <script async=\"\" charset=\"utf-8\" src=\"https://platform.twitter.com/widgets.js\"></script>, \\'\\\\n\\', \\'\\\\nhttps://twitter.com/AbiyAhmedAli/status/1240291553056260099\\\\n\\', \\'\\\\n\\', <blockquote class=\"twitter-tweet\" data-dnt=\"true\" data-width=\"550\"><p dir=\"ltr\" lang=\"en\">Please join His Excellency President Uhuru Kenyatta this Saturday, 21st March 2020 at 12 noon for a broadcast prayer service to mark the National Day of Prayer on the Coronavirus pandemic. The Service will be led by a cross-section of religious leaders. <a href=\"https://t.co/kDZPDUpeGz\">pic.twitter.com/kDZPDUpeGz</a></p>— State House Kenya (@StateHouseKenya) <a href=\"https://twitter.com/StateHouseKenya/status/1240905037435547649?ref_src=twsrc%5Etfw\">March 20, 2020</a></blockquote>, <script async=\"\" charset=\"utf-8\" src=\"https://platform.twitter.com/widgets.js\"></script>, \\'\\\\n\\', \\'\\\\n\\', <blockquote class=\"twitter-tweet\" data-dnt=\"true\" data-width=\"550\"><p dir=\"ltr\" lang=\"en\">I joined <a href=\"https://twitter.com/WHO?ref_src=twsrc%5Etfw\">@WHO</a> <a href=\"https://twitter.com/hashtag/SafeHands?src=hash&amp;ref_src=twsrc%5Etfw\">#SafeHands</a> challenge. Handwashing is key to preventing the spread of <a href=\"https://twitter.com/hashtag/COVID19?src=hash&amp;ref_src=twsrc%5Etfw\">#COVID19</a>. I challenge President Kenyatta <a href=\"https://twitter.com/StateHouseKenya?ref_src=twsrc%5Etfw\">@StateHouseKenya</a>, <a href=\"https://twitter.com/Macky_Sall?ref_src=twsrc%5Etfw\">@Macky_Sall</a>, <a href=\"https://twitter.com/MagufuliJP?ref_src=twsrc%5Etfw\">@MagufuliJP</a>, President Tshisekedi <a href=\"https://twitter.com/Presidence_RDC?ref_src=twsrc%5Etfw\">@Presidence_RDC</a>,  <a href=\"https://twitter.com/CyrilRamaphosa?ref_src=twsrc%5Etfw\">@CyrilRamaphosa</a>, <a href=\"https://twitter.com/BorisJohnson?ref_src=twsrc%5Etfw\">@BorisJohnson</a>, <a href=\"https://twitter.com/KGeorgieva?ref_src=twsrc%5Etfw\">@KGeorgieva</a> to join in by sharing a video <a href=\"https://t.co/udaVPCexCJ\">pic.twitter.com/udaVPCexCJ</a></p>— Paul Kagame (@PaulKagame) <a href=\"https://twitter.com/PaulKagame/status/1239263206691999748?ref_src=twsrc%5Etfw\">March 15, 2020</a></blockquote>, <script async=\"\" charset=\"utf-8\" src=\"https://platform.twitter.com/widgets.js\"></script>, \\'\\\\n\\', \\'\\\\n\\', <blockquote class=\"twitter-tweet\" data-dnt=\"true\" data-width=\"550\"><p dir=\"ltr\" lang=\"en\">We commend all medical practitioners across the globe working hard to counter the <a href=\"https://twitter.com/hashtag/CoronavirusPandemic?src=hash&amp;ref_src=twsrc%5Etfw\">#CoronavirusPandemic</a>. I urge everyone to support all efforts and recommended medical measures to slow the spread of <a href=\"https://twitter.com/hashtag/COVID19?src=hash&amp;ref_src=twsrc%5Etfw\">#COVID19</a> and keep the numbers low. <a href=\"https://t.co/AFtDg7Vtoo\">pic.twitter.com/AFtDg7Vtoo</a></p>— Mohamed Farmaajo (@M_Farmaajo) <a href=\"https://twitter.com/M_Farmaajo/status/1239662108519923713?ref_src=twsrc%5Etfw\">March 16, 2020</a></blockquote>, <script async=\"\" charset=\"utf-8\" src=\"https://platform.twitter.com/widgets.js\"></script>, \\'\\\\n\\', \\'\\\\n\\', <blockquote class=\"twitter-tweet\" data-dnt=\"true\" data-width=\"550\"><p dir=\"ltr\" lang=\"en\">20 March 2020: Communication from the <a href=\"https://twitter.com/hashtag/SouthSudan?src=hash&amp;ref_src=twsrc%5Etfw\">#SouthSudan</a> Presidency on the Coronavirus (COVID-19) Pandemic <br/><br/> \"South Sudan remains <a href=\"https://twitter.com/hashtag/COVID19?src=hash&amp;ref_src=twsrc%5Etfw\">#COVID19</a>-free. It is time to protect our people.\" — H.E Hussein Abdelbagi Akol, VP <a href=\"https://t.co/dZigOXyW2V\">pic.twitter.com/dZigOXyW2V</a></p>— South Sudan Government (@SouthSudanGov) <a href=\"https://twitter.com/SouthSudanGov/status/1241054039959371776?ref_src=twsrc%5Etfw\">March 20, 2020</a></blockquote>, <script async=\"\" charset=\"utf-8\" src=\"https://platform.twitter.com/widgets.js\"></script>, \\'\\\\n\\', \\'\\\\n\\', <blockquote class=\"twitter-tweet\" data-dnt=\"true\" data-width=\"550\"><p dir=\"ltr\" lang=\"en\">There is no shame in not shaking hands and in social distancing, during these difficult times, we must protect ourselves and those around us.<br/>Prevention is the best cure, therefore please be sure to follow health safety and security instructions.<a href=\"https://twitter.com/hashtag/%D8%A7%D8%AD%D8%AA%D9%8A%D8%A7%D8%B7%D8%A7%D8%AA_%D8%A7%D9%84%D8%B3%D9%88%D8%AF%D8%A7%D9%86_%D9%84%D9%85%D9%86%D8%B9_%D9%83%D9%88%D8%B1%D9%88%D9%86%D8%A7?src=hash&amp;ref_src=twsrc%5Etfw\">#احتياطات_السودان_لمنع_كورونا</a> <a href=\"https://t.co/abrg7Pvb5w\">pic.twitter.com/abrg7Pvb5w</a></p>— Abdalla Hamdok (@SudanPMHamdok) <a href=\"https://twitter.com/SudanPMHamdok/status/1240656894433296385?ref_src=twsrc%5Etfw\">March 19, 2020</a></blockquote>, <script async=\"\" charset=\"utf-8\" src=\"https://platform.twitter.com/widgets.js\"></script>, \\'\\\\n\\', \\'\\\\n\\', <blockquote class=\"twitter-tweet\" data-dnt=\"true\" data-width=\"550\"><p dir=\"ltr\" lang=\"en\">We have confirmed first case of Corona patient in Tanzania. The government was prepared with isolation centers and isolation hospitals. More measures to curb the spread will continue to be announced. In the meantime, let us continue to observe health precautions.<br/><br/>Dr. H.A</p>— TanzaniaSpokesperson (@TZSpokesperson) <a href=\"https://twitter.com/TZSpokesperson/status/1239534071681859587?ref_src=twsrc%5Etfw\">March 16, 2020</a></blockquote>, <script async=\"\" charset=\"utf-8\" src=\"https://platform.twitter.com/widgets.js\"></script>, \\'\\\\n\\', \\'\\\\n\\', <blockquote class=\"twitter-tweet\" data-dnt=\"true\" data-width=\"550\"><p dir=\"ltr\" lang=\"en\">We believe that we can never do enough in the face of corona virus unless God is with us.<br/><br/>We shall hold prayers as a nation at State House, Entebbe.<br/> <br/>Join us from wherever you will be <a href=\"https://t.co/voLCrF8nPK\">pic.twitter.com/voLCrF8nPK</a></p>— Yoweri K Museveni (@KagutaMuseveni) <a href=\"https://twitter.com/KagutaMuseveni/status/1241069763582988288?ref_src=twsrc%5Etfw\">March 20, 2020</a></blockquote>, <script async=\"\" charset=\"utf-8\" src=\"https://platform.twitter.com/widgets.js\"></script>, \\'\\\\n\\', \\'\\\\n\\', <blockquote class=\"twitter-tweet\" data-dnt=\"true\" data-width=\"550\"><p dir=\"ltr\" lang=\"en\">Minister Manuel Augusto participating at SADC Council of Ministers Meeting  from the Ministry in Luanda through videoconference, due to the Coronavirus outbreak. The meeting was conducted from Dar Es Salaam,Tanzania from 16 to 18/3. Tanzania holds the current presidency of SADC. <a href=\"https://t.co/vOfLwRizKr\">pic.twitter.com/vOfLwRizKr</a></p>— MOFA/MRE -(Angola) (@angola_Mirex) <a href=\"https://twitter.com/angola_Mirex/status/1240587177903427584?ref_src=twsrc%5Etfw\">March 19, 2020</a></blockquote>, <script async=\"\" charset=\"utf-8\" src=\"https://platform.twitter.com/widgets.js\"></script>, \\'\\\\n\\', \\'\\\\n\\', <blockquote class=\"twitter-tweet\" data-dnt=\"true\" data-width=\"550\"><p dir=\"ltr\" lang=\"fr\">🔴 Une rumeur de mauvais goût sur le <a href=\"https://twitter.com/hashtag/coronavirus?src=hash&amp;ref_src=twsrc%5Etfw\">#coronavirus</a> est propagée par un ancien milicien sans-échec tout en identifiant, dans sa publication, d’honnêtes personnes, dans le but de saboter l’investissement au <a href=\"https://twitter.com/hashtag/Burundi?src=hash&amp;ref_src=twsrc%5Etfw\">#Burundi</a> et semer la panique comme ils ont l’habitude de le faire.<a href=\"https://twitter.com/hashtag/COVID19?src=hash&amp;ref_src=twsrc%5Etfw\">#COVID19</a> <a href=\"https://t.co/x4VrMaXF16\">pic.twitter.com/x4VrMaXF16</a></p>— Amb. Willy Nyamitwe (@willynyamitwe) <a href=\"https://twitter.com/willynyamitwe/status/1239240373945409540?ref_src=twsrc%5Etfw\">March 15, 2020</a></blockquote>, <script async=\"\" charset=\"utf-8\" src=\"https://platform.twitter.com/widgets.js\"></script>, \\'\\\\n\\', \\'\\\\nhttps://twitter.com/PR_Paul_BIYA/status/1239988020763398147\\\\n\\', \\'\\\\n\\', <blockquote class=\"twitter-tweet\" data-dnt=\"true\" data-width=\"550\"><p dir=\"ltr\" lang=\"fr\">La situation du premier patient testé positif au COVID-19 et pris en charge depuis hier par les services médicaux compétents, s\\'améliore, et l\\'Ambassade de son pays suit l\\'évolution de l\\'état de sa santé.</p>— Chérif Mahamat Zene (@Cherif_MZ) <a href=\"https://twitter.com/Cherif_MZ/status/1241057558049296385?ref_src=twsrc%5Etfw\">March 20, 2020</a></blockquote>, <script async=\"\" charset=\"utf-8\" src=\"https://platform.twitter.com/widgets.js\"></script>, \\'\\\\n\\', \\'\\\\nhttps://twitter.com/MinistereComCG/status/1239695479476293632\\\\n\\', \\'\\\\n\\', <blockquote class=\"twitter-tweet\" data-dnt=\"true\" data-width=\"550\"><p dir=\"ltr\" lang=\"und\"><a href=\"https://twitter.com/hashtag/RDC?src=hash&amp;ref_src=twsrc%5Etfw\">#RDC</a> 19.03.20| <a href=\"https://twitter.com/hashtag/Stop?src=hash&amp;ref_src=twsrc%5Etfw\">#Stop</a> <a href=\"https://twitter.com/hashtag/Covid_19?src=hash&amp;ref_src=twsrc%5Etfw\">#Covid_19</a> <a href=\"https://twitter.com/hashtag/COVID19RDC?src=hash&amp;ref_src=twsrc%5Etfw\">#COVID19RDC</a> <a href=\"https://twitter.com/hashtag/coronavirus?src=hash&amp;ref_src=twsrc%5Etfw\">#coronavirus</a> <a href=\"https://twitter.com/hashtag/PresidenceCD?src=hash&amp;ref_src=twsrc%5Etfw\">#PresidenceCD</a> <a href=\"https://t.co/q2dpBcX7C6\">pic.twitter.com/q2dpBcX7C6</a></p>— Présidence RDC 🇨🇩 (@Presidence_RDC) <a href=\"https://twitter.com/Presidence_RDC/status/1240736987960741889?ref_src=twsrc%5Etfw\">March 19, 2020</a></blockquote>, <script async=\"\" charset=\"utf-8\" src=\"https://platform.twitter.com/widgets.js\"></script>, \\'\\\\n\\', \\'\\\\n\\', <blockquote class=\"twitter-tweet\" data-dnt=\"true\" data-width=\"550\"><p dir=\"ltr\" lang=\"fr\">Pour ralentir la diffusion du Covid-19 au Gabon et ainsi en atténuer au maximum l\\'impact sur le plan sanitaire, j\\'ai décidé lors du conseil des ministres ce lundi de renforcer les mesures préventives. <a href=\"https://t.co/LzkrkwyorB\">pic.twitter.com/LzkrkwyorB</a></p>— Ali Bongo Ondimba (@PresidentABO) <a href=\"https://twitter.com/PresidentABO/status/1239592652242370565?ref_src=twsrc%5Etfw\">March 16, 2020</a></blockquote>, <script async=\"\" charset=\"utf-8\" src=\"https://platform.twitter.com/widgets.js\"></script>, \\'\\\\n\\', \\'\\\\n\\', <blockquote class=\"twitter-tweet\" data-dnt=\"true\" data-width=\"550\"><p dir=\"ltr\" lang=\"fr\">Pour réduire les risques de propagation du <a href=\"https://twitter.com/hashtag/Coronavirus?src=hash&amp;ref_src=twsrc%5Etfw\">#Coronavirus</a>, le <a href=\"https://twitter.com/gouvbenin?ref_src=twsrc%5Etfw\">@gouvbenin</a><br/> vous invite à adopter ces gestes barrières au <a href=\"https://twitter.com/hashtag/COVID19?src=hash&amp;ref_src=twsrc%5Etfw\">#COVID19</a> . Se protéger et protéger les autres, c\\'est le devoir du citoyen responsable.<br/>Toutes les infos utiles sur : <a href=\"https://t.co/eimzSLmTVF\">https://t.co/eimzSLmTVF</a> <a href=\"https://t.co/OanWPLnnDB\">pic.twitter.com/OanWPLnnDB</a></p>— Présidence du Bénin (@PresidenceBenin) <a href=\"https://twitter.com/PresidenceBenin/status/1240687767354392576?ref_src=twsrc%5Etfw\">March 19, 2020</a></blockquote>, <script async=\"\" charset=\"utf-8\" src=\"https://platform.twitter.com/widgets.js\"></script>, \\'\\\\n\\', \\'\\\\n\\', <blockquote class=\"twitter-tweet\" data-dnt=\"true\" data-width=\"550\"><p dir=\"ltr\" lang=\"fr\">J\\'invite mes compatriotes à adopter des mesures préventives, afin de se prémunir contre le Coronavirus et éviter sa propagation. Ensemble, adoptons des comportements individuels et collectifs adéquats, en suivant les conseils des services de santé.<a href=\"https://twitter.com/hashtag/BurkinaFaso?src=hash&amp;ref_src=twsrc%5Etfw\">#BurkinaFaso</a> <a href=\"https://twitter.com/hashtag/COVID19?src=hash&amp;ref_src=twsrc%5Etfw\">#COVID19</a> <a href=\"https://t.co/aM8y0srZqJ\">pic.twitter.com/aM8y0srZqJ</a></p>— Roch KABORE (@rochkaborepf) <a href=\"https://twitter.com/rochkaborepf/status/1237718515081248773?ref_src=twsrc%5Etfw\">March 11, 2020</a></blockquote>, <script async=\"\" charset=\"utf-8\" src=\"https://platform.twitter.com/widgets.js\"></script>, \\'\\\\n\\', \\'\\\\n\\', <blockquote class=\"twitter-tweet\" data-dnt=\"true\" data-width=\"550\"><p dir=\"ltr\" lang=\"und\"><a href=\"https://twitter.com/hashtag/preven%C3%A7%C3%A3ocovid19?src=hash&amp;ref_src=twsrc%5Etfw\">#prevençãocovid19</a> <a href=\"https://t.co/hiI3LwtWjv\">https://t.co/hiI3LwtWjv</a></p>— Presidente Cabo Verde (@PresidenciaCV) <a href=\"https://twitter.com/PresidenciaCV/status/1240985116551327744?ref_src=twsrc%5Etfw\">March 20, 2020</a></blockquote>, <script async=\"\" charset=\"utf-8\" src=\"https://platform.twitter.com/widgets.js\"></script>, \\'\\\\n\\', \\'\\\\n\\', <blockquote class=\"twitter-tweet\" data-dnt=\"true\" data-width=\"550\"><p dir=\"ltr\" lang=\"fr\">Mes chers compatriotes, face à la pandémie du Coronavirus COVID-19, adoptons les bonnes pratiques et mettons en application les mesures de prévention recommandées par le Ministère de la Santé et l’OMS. <a href=\"https://t.co/cSxzODR6Vs\">https://t.co/cSxzODR6Vs</a> <a href=\"https://t.co/tILcYxVCf8\">pic.twitter.com/tILcYxVCf8</a></p>— Alassane Ouattara (@AOuattara_PRCI) <a href=\"https://twitter.com/AOuattara_PRCI/status/1239496922219544577?ref_src=twsrc%5Etfw\">March 16, 2020</a></blockquote>, <script async=\"\" charset=\"utf-8\" src=\"https://platform.twitter.com/widgets.js\"></script>, \\'\\\\n\\', \\'\\\\n\\', <blockquote class=\"twitter-tweet\" data-dnt=\"true\" data-width=\"550\"><p dir=\"ltr\" lang=\"en\"><a href=\"https://twitter.com/hashtag/COVID19?src=hash&amp;ref_src=twsrc%5Etfw\">#COVID19</a> awareness campaign: H.E the Vice President Dr Isatou Touray. <a href=\"https://t.co/FhADcBZVsL\">pic.twitter.com/FhADcBZVsL</a></p>— State House of The Gambia (@Presidency_GMB) <a href=\"https://twitter.com/Presidency_GMB/status/1240692846119673857?ref_src=twsrc%5Etfw\">March 19, 2020</a></blockquote>, <script async=\"\" charset=\"utf-8\" src=\"https://platform.twitter.com/widgets.js\"></script>, \\'\\\\n\\', \\'\\\\n\\', <blockquote class=\"twitter-tweet\" data-dnt=\"true\" data-width=\"550\"><p dir=\"ltr\" lang=\"en\">Here are excerpts of my address to the nation on the updates taken to combat the spread of Coronavirus <a href=\"https://t.co/dkfcrrEiy5\">pic.twitter.com/dkfcrrEiy5</a></p>— Nana Akufo-Addo (@NAkufoAddo) <a href=\"https://twitter.com/NAkufoAddo/status/1239321707984367623?ref_src=twsrc%5Etfw\">March 15, 2020</a></blockquote>, <script async=\"\" charset=\"utf-8\" src=\"https://platform.twitter.com/widgets.js\"></script>, \\'\\\\n\\', \\'\\\\n\\', <blockquote class=\"twitter-tweet\" data-dnt=\"true\" data-width=\"550\"><p dir=\"ltr\" lang=\"fr\">Dans un contexte de crise <a href=\"https://twitter.com/hashtag/sanitaire?src=hash&amp;ref_src=twsrc%5Etfw\">#sanitaire</a> mondiale, j’ai pris de nouvelles mesures afin d’endiguer la propagation du <a href=\"https://twitter.com/hashtag/Covid19?src=hash&amp;ref_src=twsrc%5Etfw\">#Covid19</a> en République de <a href=\"https://twitter.com/hashtag/Guin%C3%A9e?src=hash&amp;ref_src=twsrc%5Etfw\">#Guinée</a><a href=\"https://twitter.com/hashtag/Kibaro?src=hash&amp;ref_src=twsrc%5Etfw\">#Kibaro</a> <a href=\"https://twitter.com/hashtag/Covid19GN?src=hash&amp;ref_src=twsrc%5Etfw\">#Covid19GN</a> <a href=\"https://twitter.com/hashtag/CoronaVirusUpdate?src=hash&amp;ref_src=twsrc%5Etfw\">#CoronaVirusUpdate</a> <a href=\"https://t.co/3GAibFbONn\">pic.twitter.com/3GAibFbONn</a></p>— Pr. Alpha CONDÉ (@President_GN) <a href=\"https://twitter.com/President_GN/status/1240747558970036225?ref_src=twsrc%5Etfw\">March 19, 2020</a></blockquote>, <script async=\"\" charset=\"utf-8\" src=\"https://platform.twitter.com/widgets.js\"></script>, \\'\\\\n\\', \\'\\\\n\\', <blockquote class=\"twitter-tweet\" data-dnt=\"true\" data-width=\"550\"><p dir=\"ltr\" lang=\"en\"><a href=\"https://twitter.com/hashtag/GuineaBissau?src=hash&amp;ref_src=twsrc%5Etfw\">#GuineaBissau</a> \\'s borders closed.</p>— Umaro Sissoco Embalo (@USEmbalo) <a href=\"https://twitter.com/USEmbalo/status/1240009221669863425?ref_src=twsrc%5Etfw\">March 17, 2020</a></blockquote>, <script async=\"\" charset=\"utf-8\" src=\"https://platform.twitter.com/widgets.js\"></script>, \\'\\\\n\\', \\'\\\\n\\', <blockquote class=\"twitter-tweet\" data-dnt=\"true\" data-width=\"550\"><p dir=\"ltr\" lang=\"fr\">Communiqué intégrale du Conseil Extraordinaire de Défense présidé ce 17 Mars par le Chef de l’Etat sur le <a href=\"https://twitter.com/hashtag/coronavirus?src=hash&amp;ref_src=twsrc%5Etfw\">#coronavirus</a> <a href=\"https://t.co/i3AOlM8Jk7\">pic.twitter.com/i3AOlM8Jk7</a></p>— Presidence Mali (@PresidenceMali) <a href=\"https://twitter.com/PresidenceMali/status/1240016297452331009?ref_src=twsrc%5Etfw\">March 17, 2020</a></blockquote>, <script async=\"\" charset=\"utf-8\" src=\"https://platform.twitter.com/widgets.js\"></script>, \\'\\\\n\\', \\'\\\\n\\', <blockquote class=\"twitter-tweet\" data-dnt=\"true\" data-width=\"550\"><p dir=\"ltr\" lang=\"fr\">Chers citoyens et résidents, <br/>Un cas de Covid-19 concernant un citoyen étranger ayant été confirmé, je voudrais vous rassurer que les dispositions ont été prises à tous les niveaux. Je vous engage à la prudence et au strict respect  des directives des autorités  compétentes.</p>— Mohamed Cheikh El Ghazouani محمد الشيخ الغزواني (@CheikhGhazouani) <a href=\"https://twitter.com/CheikhGhazouani/status/1238865788993507329?ref_src=twsrc%5Etfw\">March 14, 2020</a></blockquote>, <script async=\"\" charset=\"utf-8\" src=\"https://platform.twitter.com/widgets.js\"></script>, \\'\\\\n\\', \\'\\\\n\\', <blockquote class=\"twitter-tweet\" data-dnt=\"true\" data-width=\"550\"><p dir=\"ltr\" lang=\"fr\">Mes Chers Concitoyens, <br/>Depuis la grippe Espagnole, il y a un siècle, l’ humanité n’a pas connu un fléau sanitaire d’ une telle ampleur. Je le répète: il n’y a ni traitement, ni vaccin. Notre seule arme reste la prévention. <a href=\"https://t.co/akIhqXETrW\">https://t.co/akIhqXETrW</a></p>— Issoufou Mahamadou (@IssoufouMhm) <a href=\"https://twitter.com/IssoufouMhm/status/1240000723112398848?ref_src=twsrc%5Etfw\">March 17, 2020</a></blockquote>, <script async=\"\" charset=\"utf-8\" src=\"https://platform.twitter.com/widgets.js\"></script>, \\'\\\\n\\', \\'\\\\n\\', <blockquote class=\"twitter-tweet\" data-dnt=\"true\" data-width=\"550\"><p dir=\"ltr\" lang=\"en\">Protecting Nigerians from the Coronavirus is a key priority for us as a Government. We have the Ministry of Health and the Nigeria Center for Disease Control (NCDC) working round-the-clock with several other agencies, as well as State Governments, to ensure this.</p>— Muhammadu Buhari (@MBuhari) <a href=\"https://twitter.com/MBuhari/status/1241017438147354624?ref_src=twsrc%5Etfw\">March 20, 2020</a></blockquote>, <script async=\"\" charset=\"utf-8\" src=\"https://platform.twitter.com/widgets.js\"></script>, \\'\\\\n\\', \\'\\\\n\\', <blockquote class=\"twitter-tweet\" data-dnt=\"true\" data-width=\"550\"><p dir=\"ltr\" lang=\"en\">Dear President <a href=\"https://twitter.com/PaulKagame?ref_src=twsrc%5Etfw\">@PaulKagame</a>, I accept the challenge and encourage all people from Senegal and all contaminated countries to do as well against <a href=\"https://twitter.com/hashtag/COVID19?src=hash&amp;ref_src=twsrc%5Etfw\">#COVID19</a> <a href=\"https://twitter.com/hashtag/SafeHands?src=hash&amp;ref_src=twsrc%5Etfw\">#SafeHands</a><br/>What about you? <a href=\"https://t.co/1ga1ZCwYfb\">pic.twitter.com/1ga1ZCwYfb</a></p>— Macky Sall (@Macky_Sall) <a href=\"https://twitter.com/Macky_Sall/status/1239994958859382787?ref_src=twsrc%5Etfw\">March 17, 2020</a></blockquote>, <script async=\"\" charset=\"utf-8\" src=\"https://platform.twitter.com/widgets.js\"></script>, \\'\\\\n\\', \\'\\\\n\\', <blockquote class=\"twitter-tweet\" data-dnt=\"true\" data-width=\"550\"><p dir=\"ltr\" lang=\"en\">Although there are no confirmed <a href=\"https://twitter.com/hashtag/Coronavirus?src=hash&amp;ref_src=twsrc%5Etfw\">#Coronavirus</a> cases in <a href=\"https://twitter.com/hashtag/SierraLeone?src=hash&amp;ref_src=twsrc%5Etfw\">#SierraLeone</a> at this time, the Ministry of Health and Sanitation has activated the Emergency Operations Centre to Level 2 to coordinate initial preparedness and response. <br/>We have activated the Emergency contact number 117.</p>— President Julius Maada Bio (@PresidentBio) <a href=\"https://twitter.com/PresidentBio/status/1240383695627915267?ref_src=twsrc%5Etfw\">March 18, 2020</a></blockquote>, <script async=\"\" charset=\"utf-8\" src=\"https://platform.twitter.com/widgets.js\"></script>, \\'\\\\n\\', \\'\\\\n\\', <blockquote class=\"twitter-tweet\" data-dnt=\"true\" data-width=\"550\"><p dir=\"ltr\" lang=\"ca\">Manifestations coronavirus <a href=\"https://t.co/mdjyRWUuoq\">pic.twitter.com/mdjyRWUuoq</a></p>— Ministère de la Santé et de l\\'hygiène Publique (@MSPS_Togo) <a href=\"https://twitter.com/MSPS_Togo/status/1239881384732344325?ref_src=twsrc%5Etfw\">March 17, 2020</a></blockquote>, <script async=\"\" charset=\"utf-8\" src=\"https://platform.twitter.com/widgets.js\"></script>, \\'\\\\n\\']'"
      ]
     },
     "execution_count": 54,
     "metadata": {},
     "output_type": "execute_result"
    }
   ],
   "source": [
    "res_str = str(res)\n",
    "res_str"
   ]
  },
  {
   "cell_type": "code",
   "execution_count": 55,
   "metadata": {},
   "outputs": [],
   "source": [
    "list_str = res_str.split('twitter-tweet')"
   ]
  },
  {
   "cell_type": "code",
   "execution_count": 94,
   "metadata": {},
   "outputs": [
    {
     "data": {
      "text/html": [
       "<div>\n",
       "<style scoped>\n",
       "    .dataframe tbody tr th:only-of-type {\n",
       "        vertical-align: middle;\n",
       "    }\n",
       "\n",
       "    .dataframe tbody tr th {\n",
       "        vertical-align: top;\n",
       "    }\n",
       "\n",
       "    .dataframe thead th {\n",
       "        text-align: right;\n",
       "    }\n",
       "</style>\n",
       "<table border=\"1\" class=\"dataframe\">\n",
       "  <thead>\n",
       "    <tr style=\"text-align: right;\">\n",
       "      <th></th>\n",
       "      <th>0</th>\n",
       "    </tr>\n",
       "  </thead>\n",
       "  <tbody>\n",
       "    <tr>\n",
       "      <th>0</th>\n",
       "      <td>NaN</td>\n",
       "    </tr>\n",
       "    <tr>\n",
       "      <th>1</th>\n",
       "      <td>@EswatiniGovern1</td>\n",
       "    </tr>\n",
       "    <tr>\n",
       "      <th>2</th>\n",
       "      <td>@MalawiGovt</td>\n",
       "    </tr>\n",
       "    <tr>\n",
       "      <th>3</th>\n",
       "      <td>@hagegeingob</td>\n",
       "    </tr>\n",
       "    <tr>\n",
       "      <th>4</th>\n",
       "      <td>@FinanceSC</td>\n",
       "    </tr>\n",
       "    <tr>\n",
       "      <th>5</th>\n",
       "      <td>@PresidencyZA</td>\n",
       "    </tr>\n",
       "    <tr>\n",
       "      <th>6</th>\n",
       "      <td>@mohzambia</td>\n",
       "    </tr>\n",
       "    <tr>\n",
       "      <th>7</th>\n",
       "      <td>@edmnangagwa</td>\n",
       "    </tr>\n",
       "    <tr>\n",
       "      <th>8</th>\n",
       "      <td>@MinSantedj</td>\n",
       "    </tr>\n",
       "    <tr>\n",
       "      <th>9</th>\n",
       "      <td>@hawelti</td>\n",
       "    </tr>\n",
       "    <tr>\n",
       "      <th>10</th>\n",
       "      <td>@StateHouseKenya</td>\n",
       "    </tr>\n",
       "  </tbody>\n",
       "</table>\n",
       "</div>"
      ],
      "text/plain": [
       "                   0\n",
       "0                NaN\n",
       "1   @EswatiniGovern1\n",
       "2        @MalawiGovt\n",
       "3       @hagegeingob\n",
       "4         @FinanceSC\n",
       "5      @PresidencyZA\n",
       "6         @mohzambia\n",
       "7       @edmnangagwa\n",
       "8        @MinSantedj\n",
       "9           @hawelti\n",
       "10  @StateHouseKenya"
      ]
     },
     "execution_count": 94,
     "metadata": {},
     "output_type": "execute_result"
    }
   ],
   "source": [
    "new_list = pd.Series(list_str) \n",
    "pattern = r\"\\((@.+)\\)\"\n",
    "\n",
    "new_list1 = series_list.str.extract(pattern)\n",
    "\n",
    "new_list1.head(11)"
   ]
  },
  {
   "cell_type": "code",
   "execution_count": 63,
   "metadata": {},
   "outputs": [
    {
     "data": {
      "text/html": [
       "<div>\n",
       "<style scoped>\n",
       "    .dataframe tbody tr th:only-of-type {\n",
       "        vertical-align: middle;\n",
       "    }\n",
       "\n",
       "    .dataframe tbody tr th {\n",
       "        vertical-align: top;\n",
       "    }\n",
       "\n",
       "    .dataframe thead th {\n",
       "        text-align: right;\n",
       "    }\n",
       "</style>\n",
       "<table border=\"1\" class=\"dataframe\">\n",
       "  <thead>\n",
       "    <tr style=\"text-align: right;\">\n",
       "      <th></th>\n",
       "      <th>0</th>\n",
       "    </tr>\n",
       "  </thead>\n",
       "  <tbody>\n",
       "    <tr>\n",
       "      <th>1</th>\n",
       "      <td>@EswatiniGovern1</td>\n",
       "    </tr>\n",
       "    <tr>\n",
       "      <th>2</th>\n",
       "      <td>@MalawiGovt</td>\n",
       "    </tr>\n",
       "    <tr>\n",
       "      <th>3</th>\n",
       "      <td>@hagegeingob</td>\n",
       "    </tr>\n",
       "    <tr>\n",
       "      <th>4</th>\n",
       "      <td>@FinanceSC</td>\n",
       "    </tr>\n",
       "    <tr>\n",
       "      <th>5</th>\n",
       "      <td>@PresidencyZA</td>\n",
       "    </tr>\n",
       "    <tr>\n",
       "      <th>6</th>\n",
       "      <td>@mohzambia</td>\n",
       "    </tr>\n",
       "    <tr>\n",
       "      <th>7</th>\n",
       "      <td>@edmnangagwa</td>\n",
       "    </tr>\n",
       "    <tr>\n",
       "      <th>8</th>\n",
       "      <td>@MinSantedj</td>\n",
       "    </tr>\n",
       "    <tr>\n",
       "      <th>9</th>\n",
       "      <td>@hawelti</td>\n",
       "    </tr>\n",
       "    <tr>\n",
       "      <th>10</th>\n",
       "      <td>@StateHouseKenya</td>\n",
       "    </tr>\n",
       "  </tbody>\n",
       "</table>\n",
       "</div>"
      ],
      "text/plain": [
       "                   0\n",
       "1   @EswatiniGovern1\n",
       "2        @MalawiGovt\n",
       "3       @hagegeingob\n",
       "4         @FinanceSC\n",
       "5      @PresidencyZA\n",
       "6         @mohzambia\n",
       "7       @edmnangagwa\n",
       "8        @MinSantedj\n",
       "9           @hawelti\n",
       "10  @StateHouseKenya"
      ]
     },
     "execution_count": 63,
     "metadata": {},
     "output_type": "execute_result"
    }
   ],
   "source": [
    "new_list2=new_list1.dropna()\n",
    "new_list2.head(10)"
   ]
  },
  {
   "cell_type": "code",
   "execution_count": 108,
   "metadata": {},
   "outputs": [],
   "source": [
    "new_list2.columns= ['username']"
   ]
  },
  {
   "cell_type": "code",
   "execution_count": 109,
   "metadata": {},
   "outputs": [],
   "source": [
    "new_list3=new_list2.head(10)"
   ]
  },
  {
   "cell_type": "code",
   "execution_count": 110,
   "metadata": {},
   "outputs": [],
   "source": [
    "new_list3.to_csv('Top 10 most popular african leaders.csv')"
   ]
  },
  {
   "cell_type": "code",
   "execution_count": 111,
   "metadata": {},
   "outputs": [
    {
     "name": "stdout",
     "output_type": "stream",
     "text": [
      "   Unnamed: 0          username\n",
      "0           1  @EswatiniGovern1\n",
      "1           2       @MalawiGovt\n",
      "2           3      @hagegeingob\n",
      "3           4        @FinanceSC\n",
      "4           5     @PresidencyZA\n",
      "5           6        @mohzambia\n",
      "6           7      @edmnangagwa\n",
      "7           8       @MinSantedj\n",
      "8           9          @hawelti\n",
      "9          10  @StateHouseKenya\n"
     ]
    }
   ],
   "source": [
    "df1 = pandas.read_csv(\"Top 10 most popular african leaders.csv\")\n",
    "print(df1)"
   ]
  },
  {
   "cell_type": "code",
   "execution_count": 105,
   "metadata": {},
   "outputs": [],
   "source": [
    "df1.drop(df1.columns[df1.columns.str.contains('unnamed',case = False)],axis = 1, inplace = True)"
   ]
  },
  {
   "cell_type": "code",
   "execution_count": 112,
   "metadata": {},
   "outputs": [
    {
     "data": {
      "text/html": [
       "<div>\n",
       "<style scoped>\n",
       "    .dataframe tbody tr th:only-of-type {\n",
       "        vertical-align: middle;\n",
       "    }\n",
       "\n",
       "    .dataframe tbody tr th {\n",
       "        vertical-align: top;\n",
       "    }\n",
       "\n",
       "    .dataframe thead th {\n",
       "        text-align: right;\n",
       "    }\n",
       "</style>\n",
       "<table border=\"1\" class=\"dataframe\">\n",
       "  <thead>\n",
       "    <tr style=\"text-align: right;\">\n",
       "      <th></th>\n",
       "      <th>Unnamed: 0</th>\n",
       "      <th>username</th>\n",
       "    </tr>\n",
       "  </thead>\n",
       "  <tbody>\n",
       "    <tr>\n",
       "      <th>0</th>\n",
       "      <td>1</td>\n",
       "      <td>@EswatiniGovern1</td>\n",
       "    </tr>\n",
       "    <tr>\n",
       "      <th>1</th>\n",
       "      <td>2</td>\n",
       "      <td>@MalawiGovt</td>\n",
       "    </tr>\n",
       "    <tr>\n",
       "      <th>2</th>\n",
       "      <td>3</td>\n",
       "      <td>@hagegeingob</td>\n",
       "    </tr>\n",
       "    <tr>\n",
       "      <th>3</th>\n",
       "      <td>4</td>\n",
       "      <td>@FinanceSC</td>\n",
       "    </tr>\n",
       "    <tr>\n",
       "      <th>4</th>\n",
       "      <td>5</td>\n",
       "      <td>@PresidencyZA</td>\n",
       "    </tr>\n",
       "    <tr>\n",
       "      <th>5</th>\n",
       "      <td>6</td>\n",
       "      <td>@mohzambia</td>\n",
       "    </tr>\n",
       "    <tr>\n",
       "      <th>6</th>\n",
       "      <td>7</td>\n",
       "      <td>@edmnangagwa</td>\n",
       "    </tr>\n",
       "    <tr>\n",
       "      <th>7</th>\n",
       "      <td>8</td>\n",
       "      <td>@MinSantedj</td>\n",
       "    </tr>\n",
       "    <tr>\n",
       "      <th>8</th>\n",
       "      <td>9</td>\n",
       "      <td>@hawelti</td>\n",
       "    </tr>\n",
       "    <tr>\n",
       "      <th>9</th>\n",
       "      <td>10</td>\n",
       "      <td>@StateHouseKenya</td>\n",
       "    </tr>\n",
       "  </tbody>\n",
       "</table>\n",
       "</div>"
      ],
      "text/plain": [
       "   Unnamed: 0          username\n",
       "0           1  @EswatiniGovern1\n",
       "1           2       @MalawiGovt\n",
       "2           3      @hagegeingob\n",
       "3           4        @FinanceSC\n",
       "4           5     @PresidencyZA\n",
       "5           6        @mohzambia\n",
       "6           7      @edmnangagwa\n",
       "7           8       @MinSantedj\n",
       "8           9          @hawelti\n",
       "9          10  @StateHouseKenya"
      ]
     },
     "execution_count": 112,
     "metadata": {},
     "output_type": "execute_result"
    }
   ],
   "source": [
    "df1"
   ]
  },
  {
   "cell_type": "code",
   "execution_count": null,
   "metadata": {},
   "outputs": [],
   "source": []
  }
 ],
 "metadata": {
  "kernelspec": {
   "display_name": "Python 3",
   "language": "python",
   "name": "python3"
  },
  "language_info": {
   "codemirror_mode": {
    "name": "ipython",
    "version": 3
   },
   "file_extension": ".py",
   "mimetype": "text/x-python",
   "name": "python",
   "nbconvert_exporter": "python",
   "pygments_lexer": "ipython3",
   "version": "3.7.7"
  },
  "toc": {
   "base_numbering": 1,
   "nav_menu": {},
   "number_sections": true,
   "sideBar": true,
   "skip_h1_title": false,
   "title_cell": "Table of Contents",
   "title_sidebar": "Contents",
   "toc_cell": false,
   "toc_position": {},
   "toc_section_display": true,
   "toc_window_display": false
  }
 },
 "nbformat": 4,
 "nbformat_minor": 4
}
