{
  "nbformat": 4,
  "nbformat_minor": 0,
  "metadata": {
    "colab": {
      "name": "Final_submission.ipynb",
      "provenance": [],
      "toc_visible": true
    },
    "kernelspec": {
      "name": "python3",
      "display_name": "Python 3"
    }
  },
  "cells": [
    {
      "cell_type": "markdown",
      "metadata": {
        "id": "hyymimuj_36R",
        "colab_type": "text"
      },
      "source": [
        "# Library Importation and Loading of Data Set"
      ]
    },
    {
      "cell_type": "code",
      "metadata": {
        "id": "gFIq7C7uEdTx",
        "colab_type": "code",
        "colab": {}
      },
      "source": [
        "# import the necessary libraries\n",
        "\n",
        "import numpy as np\n",
        "import pandas as pd\n",
        "import matplotlib.pyplot as plt\n",
        "import seaborn as sns"
      ],
      "execution_count": 6,
      "outputs": []
    },
    {
      "cell_type": "code",
      "metadata": {
        "id": "0FP9EMsXF2mX",
        "colab_type": "code",
        "colab": {}
      },
      "source": [
        "#upload the dataset\n",
        "data = pd.read_csv('/content/drive/My Drive/week 2/Week2_challenge_data_source.csv')"
      ],
      "execution_count": 5,
      "outputs": []
    },
    {
      "cell_type": "code",
      "metadata": {
        "id": "8RFHO3l8S3kf",
        "colab_type": "code",
        "colab": {
          "base_uri": "https://localhost:8080/",
          "height": 864
        },
        "outputId": "aea4fe74-5cfe-4bd6-b00d-33522e3a33d8"
      },
      "source": [
        "# replacing all the null values with the mean\n",
        "data = data.fillna(data.mean())\n",
        "data"
      ],
      "execution_count": 4,
      "outputs": [
        {
          "output_type": "execute_result",
          "data": {
            "text/html": [
              "<div>\n",
              "<style scoped>\n",
              "    .dataframe tbody tr th:only-of-type {\n",
              "        vertical-align: middle;\n",
              "    }\n",
              "\n",
              "    .dataframe tbody tr th {\n",
              "        vertical-align: top;\n",
              "    }\n",
              "\n",
              "    .dataframe thead th {\n",
              "        text-align: right;\n",
              "    }\n",
              "</style>\n",
              "<table border=\"1\" class=\"dataframe\">\n",
              "  <thead>\n",
              "    <tr style=\"text-align: right;\">\n",
              "      <th></th>\n",
              "      <th>Bearer Id</th>\n",
              "      <th>Start</th>\n",
              "      <th>Start ms</th>\n",
              "      <th>End</th>\n",
              "      <th>End ms</th>\n",
              "      <th>Dur. (ms)</th>\n",
              "      <th>IMSI</th>\n",
              "      <th>MSISDN/Number</th>\n",
              "      <th>IMEI</th>\n",
              "      <th>Last Location Name</th>\n",
              "      <th>Avg RTT DL (ms)</th>\n",
              "      <th>Avg RTT UL (ms)</th>\n",
              "      <th>Avg Bearer TP DL (kbps)</th>\n",
              "      <th>Avg Bearer TP UL (kbps)</th>\n",
              "      <th>TCP DL Retrans. Vol (Bytes)</th>\n",
              "      <th>TCP UL Retrans. Vol (Bytes)</th>\n",
              "      <th>DL TP &lt; 50 Kbps (%)</th>\n",
              "      <th>50 Kbps &lt; DL TP &lt; 250 Kbps (%)</th>\n",
              "      <th>250 Kbps &lt; DL TP &lt; 1 Mbps (%)</th>\n",
              "      <th>DL TP &gt; 1 Mbps (%)</th>\n",
              "      <th>UL TP &lt; 10 Kbps (%)</th>\n",
              "      <th>10 Kbps &lt; UL TP &lt; 50 Kbps (%)</th>\n",
              "      <th>50 Kbps &lt; UL TP &lt; 300 Kbps (%)</th>\n",
              "      <th>UL TP &gt; 300 Kbps (%)</th>\n",
              "      <th>HTTP DL (Bytes)</th>\n",
              "      <th>HTTP UL (Bytes)</th>\n",
              "      <th>Activity Duration DL (ms)</th>\n",
              "      <th>Activity Duration UL (ms)</th>\n",
              "      <th>Dur. (ms).1</th>\n",
              "      <th>Handset Manufacturer</th>\n",
              "      <th>Handset Type</th>\n",
              "      <th>Nb of sec with 125000B &lt; Vol DL</th>\n",
              "      <th>Nb of sec with 1250B &lt; Vol UL &lt; 6250B</th>\n",
              "      <th>Nb of sec with 31250B &lt; Vol DL &lt; 125000B</th>\n",
              "      <th>Nb of sec with 37500B &lt; Vol UL</th>\n",
              "      <th>Nb of sec with 6250B &lt; Vol DL &lt; 31250B</th>\n",
              "      <th>Nb of sec with 6250B &lt; Vol UL &lt; 37500B</th>\n",
              "      <th>Nb of sec with Vol DL &lt; 6250B</th>\n",
              "      <th>Nb of sec with Vol UL &lt; 1250B</th>\n",
              "      <th>Social Media DL (Bytes)</th>\n",
              "      <th>Social Media UL (Bytes)</th>\n",
              "      <th>Google DL (Bytes)</th>\n",
              "      <th>Google UL (Bytes)</th>\n",
              "      <th>Email DL (Bytes)</th>\n",
              "      <th>Email UL (Bytes)</th>\n",
              "      <th>Youtube DL (Bytes)</th>\n",
              "      <th>Youtube UL (Bytes)</th>\n",
              "      <th>Netflix DL (Bytes)</th>\n",
              "      <th>Netflix UL (Bytes)</th>\n",
              "      <th>Gaming DL (Bytes)</th>\n",
              "      <th>Gaming UL (Bytes)</th>\n",
              "      <th>Other DL (Bytes)</th>\n",
              "      <th>Other UL (Bytes)</th>\n",
              "      <th>Total UL (Bytes)</th>\n",
              "      <th>Total DL (Bytes)</th>\n",
              "    </tr>\n",
              "  </thead>\n",
              "  <tbody>\n",
              "    <tr>\n",
              "      <th>0</th>\n",
              "      <td>1.311450e+19</td>\n",
              "      <td>4/4/2019 12:01</td>\n",
              "      <td>770.0000</td>\n",
              "      <td>4/25/2019 14:35</td>\n",
              "      <td>662.00000</td>\n",
              "      <td>1.823652e+06</td>\n",
              "      <td>2.082010e+14</td>\n",
              "      <td>3.366496e+10</td>\n",
              "      <td>3.552120e+13</td>\n",
              "      <td>9.16457E+15</td>\n",
              "      <td>42.000000</td>\n",
              "      <td>5.000000</td>\n",
              "      <td>23.000000</td>\n",
              "      <td>44.000000</td>\n",
              "      <td>2.080991e+07</td>\n",
              "      <td>759658.664811</td>\n",
              "      <td>100.000000</td>\n",
              "      <td>0.000000</td>\n",
              "      <td>0.000000</td>\n",
              "      <td>0.000000</td>\n",
              "      <td>100.000000</td>\n",
              "      <td>0.000000</td>\n",
              "      <td>0.000000</td>\n",
              "      <td>0.000000</td>\n",
              "      <td>1.144710e+08</td>\n",
              "      <td>3.242301e+06</td>\n",
              "      <td>3.762400e+04</td>\n",
              "      <td>3.878700e+04</td>\n",
              "      <td>1.823653e+09</td>\n",
              "      <td>Samsung</td>\n",
              "      <td>Samsung Galaxy A5 Sm-A520F</td>\n",
              "      <td>989.699998</td>\n",
              "      <td>340.434395</td>\n",
              "      <td>810.837401</td>\n",
              "      <td>149.257052</td>\n",
              "      <td>965.464756</td>\n",
              "      <td>141.304812</td>\n",
              "      <td>213.000000</td>\n",
              "      <td>214.000000</td>\n",
              "      <td>1545765.000</td>\n",
              "      <td>24420.00000</td>\n",
              "      <td>1634479.000</td>\n",
              "      <td>1271433.000</td>\n",
              "      <td>3563542.000</td>\n",
              "      <td>137762.0000</td>\n",
              "      <td>15854611.0</td>\n",
              "      <td>2501332.00</td>\n",
              "      <td>8198936.00</td>\n",
              "      <td>9656251.00</td>\n",
              "      <td>278082303.0</td>\n",
              "      <td>1.434415e+07</td>\n",
              "      <td>171744450.0</td>\n",
              "      <td>8.814393e+06</td>\n",
              "      <td>3.674974e+07</td>\n",
              "      <td>3.088796e+08</td>\n",
              "    </tr>\n",
              "    <tr>\n",
              "      <th>1</th>\n",
              "      <td>1.311450e+19</td>\n",
              "      <td>4/9/2019 13:04</td>\n",
              "      <td>235.0000</td>\n",
              "      <td>4/25/2019 8:15</td>\n",
              "      <td>606.00000</td>\n",
              "      <td>1.365104e+06</td>\n",
              "      <td>2.082020e+14</td>\n",
              "      <td>3.368185e+10</td>\n",
              "      <td>3.579400e+13</td>\n",
              "      <td>L77566A</td>\n",
              "      <td>65.000000</td>\n",
              "      <td>5.000000</td>\n",
              "      <td>16.000000</td>\n",
              "      <td>26.000000</td>\n",
              "      <td>2.080991e+07</td>\n",
              "      <td>759658.664811</td>\n",
              "      <td>100.000000</td>\n",
              "      <td>0.000000</td>\n",
              "      <td>0.000000</td>\n",
              "      <td>0.000000</td>\n",
              "      <td>100.000000</td>\n",
              "      <td>0.000000</td>\n",
              "      <td>0.000000</td>\n",
              "      <td>0.000000</td>\n",
              "      <td>1.144710e+08</td>\n",
              "      <td>3.242301e+06</td>\n",
              "      <td>1.680000e+02</td>\n",
              "      <td>3.560000e+03</td>\n",
              "      <td>1.365104e+09</td>\n",
              "      <td>Samsung</td>\n",
              "      <td>Samsung Galaxy J5 (Sm-J530)</td>\n",
              "      <td>989.699998</td>\n",
              "      <td>340.434395</td>\n",
              "      <td>810.837401</td>\n",
              "      <td>149.257052</td>\n",
              "      <td>965.464756</td>\n",
              "      <td>141.304812</td>\n",
              "      <td>971.000000</td>\n",
              "      <td>1022.000000</td>\n",
              "      <td>1926113.000</td>\n",
              "      <td>7165.00000</td>\n",
              "      <td>3493924.000</td>\n",
              "      <td>920172.000</td>\n",
              "      <td>629046.000</td>\n",
              "      <td>308339.0000</td>\n",
              "      <td>20247395.0</td>\n",
              "      <td>19111729.00</td>\n",
              "      <td>18338413.00</td>\n",
              "      <td>17227132.00</td>\n",
              "      <td>608750074.0</td>\n",
              "      <td>1.170709e+06</td>\n",
              "      <td>526904238.0</td>\n",
              "      <td>1.505514e+07</td>\n",
              "      <td>5.380039e+07</td>\n",
              "      <td>6.533850e+08</td>\n",
              "    </tr>\n",
              "    <tr>\n",
              "      <th>2</th>\n",
              "      <td>1.311450e+19</td>\n",
              "      <td>4/9/2019 17:42</td>\n",
              "      <td>1.0000</td>\n",
              "      <td>4/25/2019 11:58</td>\n",
              "      <td>652.00000</td>\n",
              "      <td>1.361762e+06</td>\n",
              "      <td>2.082000e+14</td>\n",
              "      <td>3.376063e+10</td>\n",
              "      <td>3.528150e+13</td>\n",
              "      <td>D42335A</td>\n",
              "      <td>109.795706</td>\n",
              "      <td>17.662883</td>\n",
              "      <td>6.000000</td>\n",
              "      <td>9.000000</td>\n",
              "      <td>2.080991e+07</td>\n",
              "      <td>759658.664811</td>\n",
              "      <td>100.000000</td>\n",
              "      <td>0.000000</td>\n",
              "      <td>0.000000</td>\n",
              "      <td>0.000000</td>\n",
              "      <td>100.000000</td>\n",
              "      <td>0.000000</td>\n",
              "      <td>0.000000</td>\n",
              "      <td>0.000000</td>\n",
              "      <td>1.144710e+08</td>\n",
              "      <td>3.242301e+06</td>\n",
              "      <td>0.000000e+00</td>\n",
              "      <td>0.000000e+00</td>\n",
              "      <td>1.361763e+09</td>\n",
              "      <td>Samsung</td>\n",
              "      <td>Samsung Galaxy A8 (2018)</td>\n",
              "      <td>989.699998</td>\n",
              "      <td>340.434395</td>\n",
              "      <td>810.837401</td>\n",
              "      <td>149.257052</td>\n",
              "      <td>965.464756</td>\n",
              "      <td>141.304812</td>\n",
              "      <td>751.000000</td>\n",
              "      <td>695.000000</td>\n",
              "      <td>1684053.000</td>\n",
              "      <td>42224.00000</td>\n",
              "      <td>8535055.000</td>\n",
              "      <td>1694064.000</td>\n",
              "      <td>2690151.000</td>\n",
              "      <td>672973.0000</td>\n",
              "      <td>19725661.0</td>\n",
              "      <td>14699576.00</td>\n",
              "      <td>17587794.00</td>\n",
              "      <td>6163408.00</td>\n",
              "      <td>229584621.0</td>\n",
              "      <td>3.956300e+05</td>\n",
              "      <td>410692588.0</td>\n",
              "      <td>4.215763e+06</td>\n",
              "      <td>2.788364e+07</td>\n",
              "      <td>2.798073e+08</td>\n",
              "    </tr>\n",
              "    <tr>\n",
              "      <th>3</th>\n",
              "      <td>1.311450e+19</td>\n",
              "      <td>4/10/2019 0:31</td>\n",
              "      <td>486.0000</td>\n",
              "      <td>4/25/2019 7:36</td>\n",
              "      <td>171.00000</td>\n",
              "      <td>1.321509e+06</td>\n",
              "      <td>2.082010e+14</td>\n",
              "      <td>3.375034e+10</td>\n",
              "      <td>3.535660e+13</td>\n",
              "      <td>T21824A</td>\n",
              "      <td>109.795706</td>\n",
              "      <td>17.662883</td>\n",
              "      <td>44.000000</td>\n",
              "      <td>44.000000</td>\n",
              "      <td>2.080991e+07</td>\n",
              "      <td>759658.664811</td>\n",
              "      <td>100.000000</td>\n",
              "      <td>0.000000</td>\n",
              "      <td>0.000000</td>\n",
              "      <td>0.000000</td>\n",
              "      <td>100.000000</td>\n",
              "      <td>0.000000</td>\n",
              "      <td>0.000000</td>\n",
              "      <td>0.000000</td>\n",
              "      <td>1.144710e+08</td>\n",
              "      <td>3.242301e+06</td>\n",
              "      <td>3.330000e+03</td>\n",
              "      <td>3.788200e+04</td>\n",
              "      <td>1.321510e+09</td>\n",
              "      <td>undefined</td>\n",
              "      <td>undefined</td>\n",
              "      <td>989.699998</td>\n",
              "      <td>340.434395</td>\n",
              "      <td>810.837401</td>\n",
              "      <td>149.257052</td>\n",
              "      <td>965.464756</td>\n",
              "      <td>141.304812</td>\n",
              "      <td>17.000000</td>\n",
              "      <td>207.000000</td>\n",
              "      <td>644121.000</td>\n",
              "      <td>13372.00000</td>\n",
              "      <td>9023734.000</td>\n",
              "      <td>2788027.000</td>\n",
              "      <td>1439754.000</td>\n",
              "      <td>631229.0000</td>\n",
              "      <td>21388122.0</td>\n",
              "      <td>15146643.00</td>\n",
              "      <td>13994646.00</td>\n",
              "      <td>1097942.00</td>\n",
              "      <td>799538153.0</td>\n",
              "      <td>1.084972e+07</td>\n",
              "      <td>749039933.0</td>\n",
              "      <td>1.279728e+07</td>\n",
              "      <td>4.332422e+07</td>\n",
              "      <td>8.460285e+08</td>\n",
              "    </tr>\n",
              "    <tr>\n",
              "      <th>4</th>\n",
              "      <td>1.311450e+19</td>\n",
              "      <td>4/12/2019 20:10</td>\n",
              "      <td>565.0000</td>\n",
              "      <td>4/25/2019 10:40</td>\n",
              "      <td>954.00000</td>\n",
              "      <td>1.089009e+06</td>\n",
              "      <td>2.082010e+14</td>\n",
              "      <td>3.369980e+10</td>\n",
              "      <td>3.540700e+13</td>\n",
              "      <td>D88865A</td>\n",
              "      <td>109.795706</td>\n",
              "      <td>17.662883</td>\n",
              "      <td>6.000000</td>\n",
              "      <td>9.000000</td>\n",
              "      <td>2.080991e+07</td>\n",
              "      <td>759658.664811</td>\n",
              "      <td>100.000000</td>\n",
              "      <td>0.000000</td>\n",
              "      <td>0.000000</td>\n",
              "      <td>0.000000</td>\n",
              "      <td>100.000000</td>\n",
              "      <td>0.000000</td>\n",
              "      <td>0.000000</td>\n",
              "      <td>0.000000</td>\n",
              "      <td>1.144710e+08</td>\n",
              "      <td>3.242301e+06</td>\n",
              "      <td>0.000000e+00</td>\n",
              "      <td>0.000000e+00</td>\n",
              "      <td>1.089009e+09</td>\n",
              "      <td>Samsung</td>\n",
              "      <td>Samsung Sm-G390F</td>\n",
              "      <td>989.699998</td>\n",
              "      <td>340.434395</td>\n",
              "      <td>810.837401</td>\n",
              "      <td>149.257052</td>\n",
              "      <td>965.464756</td>\n",
              "      <td>141.304812</td>\n",
              "      <td>607.000000</td>\n",
              "      <td>604.000000</td>\n",
              "      <td>862600.000</td>\n",
              "      <td>50188.00000</td>\n",
              "      <td>6248284.000</td>\n",
              "      <td>1500559.000</td>\n",
              "      <td>1936496.000</td>\n",
              "      <td>173853.0000</td>\n",
              "      <td>15259380.0</td>\n",
              "      <td>18962873.00</td>\n",
              "      <td>17124581.00</td>\n",
              "      <td>415218.00</td>\n",
              "      <td>527707248.0</td>\n",
              "      <td>3.529801e+06</td>\n",
              "      <td>550709500.0</td>\n",
              "      <td>1.391032e+07</td>\n",
              "      <td>3.854281e+07</td>\n",
              "      <td>5.691386e+08</td>\n",
              "    </tr>\n",
              "    <tr>\n",
              "      <th>...</th>\n",
              "      <td>...</td>\n",
              "      <td>...</td>\n",
              "      <td>...</td>\n",
              "      <td>...</td>\n",
              "      <td>...</td>\n",
              "      <td>...</td>\n",
              "      <td>...</td>\n",
              "      <td>...</td>\n",
              "      <td>...</td>\n",
              "      <td>...</td>\n",
              "      <td>...</td>\n",
              "      <td>...</td>\n",
              "      <td>...</td>\n",
              "      <td>...</td>\n",
              "      <td>...</td>\n",
              "      <td>...</td>\n",
              "      <td>...</td>\n",
              "      <td>...</td>\n",
              "      <td>...</td>\n",
              "      <td>...</td>\n",
              "      <td>...</td>\n",
              "      <td>...</td>\n",
              "      <td>...</td>\n",
              "      <td>...</td>\n",
              "      <td>...</td>\n",
              "      <td>...</td>\n",
              "      <td>...</td>\n",
              "      <td>...</td>\n",
              "      <td>...</td>\n",
              "      <td>...</td>\n",
              "      <td>...</td>\n",
              "      <td>...</td>\n",
              "      <td>...</td>\n",
              "      <td>...</td>\n",
              "      <td>...</td>\n",
              "      <td>...</td>\n",
              "      <td>...</td>\n",
              "      <td>...</td>\n",
              "      <td>...</td>\n",
              "      <td>...</td>\n",
              "      <td>...</td>\n",
              "      <td>...</td>\n",
              "      <td>...</td>\n",
              "      <td>...</td>\n",
              "      <td>...</td>\n",
              "      <td>...</td>\n",
              "      <td>...</td>\n",
              "      <td>...</td>\n",
              "      <td>...</td>\n",
              "      <td>...</td>\n",
              "      <td>...</td>\n",
              "      <td>...</td>\n",
              "      <td>...</td>\n",
              "      <td>...</td>\n",
              "      <td>...</td>\n",
              "    </tr>\n",
              "    <tr>\n",
              "      <th>149996</th>\n",
              "      <td>7.277830e+18</td>\n",
              "      <td>4/29/2019 7:28</td>\n",
              "      <td>451.0000</td>\n",
              "      <td>4/30/2019 6:02</td>\n",
              "      <td>214.00000</td>\n",
              "      <td>8.123000e+04</td>\n",
              "      <td>2.082020e+14</td>\n",
              "      <td>3.365069e+10</td>\n",
              "      <td>3.548310e+13</td>\n",
              "      <td>D20434A</td>\n",
              "      <td>32.000000</td>\n",
              "      <td>0.000000</td>\n",
              "      <td>52.000000</td>\n",
              "      <td>65.000000</td>\n",
              "      <td>2.080991e+07</td>\n",
              "      <td>759658.664811</td>\n",
              "      <td>100.000000</td>\n",
              "      <td>0.000000</td>\n",
              "      <td>0.000000</td>\n",
              "      <td>0.000000</td>\n",
              "      <td>100.000000</td>\n",
              "      <td>0.000000</td>\n",
              "      <td>0.000000</td>\n",
              "      <td>0.000000</td>\n",
              "      <td>1.144710e+08</td>\n",
              "      <td>3.242301e+06</td>\n",
              "      <td>4.237600e+04</td>\n",
              "      <td>4.191500e+04</td>\n",
              "      <td>8.123076e+07</td>\n",
              "      <td>Apple</td>\n",
              "      <td>Apple iPhone 8 Plus (A1897)</td>\n",
              "      <td>989.699998</td>\n",
              "      <td>340.434395</td>\n",
              "      <td>810.837401</td>\n",
              "      <td>149.257052</td>\n",
              "      <td>965.464756</td>\n",
              "      <td>141.304812</td>\n",
              "      <td>223.000000</td>\n",
              "      <td>229.000000</td>\n",
              "      <td>3464974.000</td>\n",
              "      <td>52091.00000</td>\n",
              "      <td>9967603.000</td>\n",
              "      <td>2817311.000</td>\n",
              "      <td>57639.000</td>\n",
              "      <td>633237.0000</td>\n",
              "      <td>16191667.0</td>\n",
              "      <td>11763428.00</td>\n",
              "      <td>17883703.00</td>\n",
              "      <td>19678161.00</td>\n",
              "      <td>526609673.0</td>\n",
              "      <td>9.197207e+06</td>\n",
              "      <td>3264510.0</td>\n",
              "      <td>1.348742e+07</td>\n",
              "      <td>5.762885e+07</td>\n",
              "      <td>5.741753e+08</td>\n",
              "    </tr>\n",
              "    <tr>\n",
              "      <th>149997</th>\n",
              "      <td>7.349880e+18</td>\n",
              "      <td>4/29/2019 7:28</td>\n",
              "      <td>483.0000</td>\n",
              "      <td>4/30/2019 10:41</td>\n",
              "      <td>187.00000</td>\n",
              "      <td>9.797000e+04</td>\n",
              "      <td>2.082020e+14</td>\n",
              "      <td>3.366345e+10</td>\n",
              "      <td>3.566050e+13</td>\n",
              "      <td>D10223C</td>\n",
              "      <td>27.000000</td>\n",
              "      <td>2.000000</td>\n",
              "      <td>23.000000</td>\n",
              "      <td>54.000000</td>\n",
              "      <td>2.080991e+07</td>\n",
              "      <td>759658.664811</td>\n",
              "      <td>100.000000</td>\n",
              "      <td>0.000000</td>\n",
              "      <td>0.000000</td>\n",
              "      <td>0.000000</td>\n",
              "      <td>100.000000</td>\n",
              "      <td>0.000000</td>\n",
              "      <td>0.000000</td>\n",
              "      <td>0.000000</td>\n",
              "      <td>1.144710e+08</td>\n",
              "      <td>3.242301e+06</td>\n",
              "      <td>1.726400e+04</td>\n",
              "      <td>1.675900e+04</td>\n",
              "      <td>9.797070e+07</td>\n",
              "      <td>Apple</td>\n",
              "      <td>Apple iPhone Se (A1723)</td>\n",
              "      <td>989.699998</td>\n",
              "      <td>340.434395</td>\n",
              "      <td>810.837401</td>\n",
              "      <td>149.257052</td>\n",
              "      <td>965.464756</td>\n",
              "      <td>141.304812</td>\n",
              "      <td>105.000000</td>\n",
              "      <td>102.000000</td>\n",
              "      <td>2344568.000</td>\n",
              "      <td>7613.00000</td>\n",
              "      <td>2229420.000</td>\n",
              "      <td>2185941.000</td>\n",
              "      <td>1954414.000</td>\n",
              "      <td>167304.0000</td>\n",
              "      <td>13877234.0</td>\n",
              "      <td>8288284.00</td>\n",
              "      <td>19350146.00</td>\n",
              "      <td>21293148.00</td>\n",
              "      <td>626893062.0</td>\n",
              "      <td>4.735033e+06</td>\n",
              "      <td>712180387.0</td>\n",
              "      <td>2.457758e+06</td>\n",
              "      <td>3.913508e+07</td>\n",
              "      <td>6.666488e+08</td>\n",
              "    </tr>\n",
              "    <tr>\n",
              "      <th>149998</th>\n",
              "      <td>1.311450e+19</td>\n",
              "      <td>4/29/2019 7:28</td>\n",
              "      <td>283.0000</td>\n",
              "      <td>4/30/2019 10:46</td>\n",
              "      <td>810.00000</td>\n",
              "      <td>9.824900e+04</td>\n",
              "      <td>2.082020e+14</td>\n",
              "      <td>3.362189e+10</td>\n",
              "      <td>3.572120e+13</td>\n",
              "      <td>T51102A</td>\n",
              "      <td>43.000000</td>\n",
              "      <td>6.000000</td>\n",
              "      <td>43.000000</td>\n",
              "      <td>47.000000</td>\n",
              "      <td>2.080991e+07</td>\n",
              "      <td>759658.664811</td>\n",
              "      <td>100.000000</td>\n",
              "      <td>0.000000</td>\n",
              "      <td>0.000000</td>\n",
              "      <td>0.000000</td>\n",
              "      <td>100.000000</td>\n",
              "      <td>0.000000</td>\n",
              "      <td>0.000000</td>\n",
              "      <td>0.000000</td>\n",
              "      <td>1.144710e+08</td>\n",
              "      <td>3.242301e+06</td>\n",
              "      <td>2.500300e+04</td>\n",
              "      <td>2.864000e+04</td>\n",
              "      <td>9.824953e+07</td>\n",
              "      <td>Apple</td>\n",
              "      <td>Apple iPhone Xs (A2097)</td>\n",
              "      <td>989.699998</td>\n",
              "      <td>340.434395</td>\n",
              "      <td>810.837401</td>\n",
              "      <td>149.257052</td>\n",
              "      <td>965.464756</td>\n",
              "      <td>141.304812</td>\n",
              "      <td>104.000000</td>\n",
              "      <td>108.000000</td>\n",
              "      <td>1245845.000</td>\n",
              "      <td>14394.00000</td>\n",
              "      <td>3850890.000</td>\n",
              "      <td>2734579.000</td>\n",
              "      <td>1525734.000</td>\n",
              "      <td>532543.0000</td>\n",
              "      <td>22660510.0</td>\n",
              "      <td>1855903.00</td>\n",
              "      <td>9963942.00</td>\n",
              "      <td>5065760.00</td>\n",
              "      <td>553539484.0</td>\n",
              "      <td>1.339432e+07</td>\n",
              "      <td>121100856.0</td>\n",
              "      <td>1.131473e+07</td>\n",
              "      <td>3.491222e+07</td>\n",
              "      <td>5.927864e+08</td>\n",
              "    </tr>\n",
              "    <tr>\n",
              "      <th>149999</th>\n",
              "      <td>1.311450e+19</td>\n",
              "      <td>4/29/2019 7:28</td>\n",
              "      <td>696.0000</td>\n",
              "      <td>4/30/2019 10:40</td>\n",
              "      <td>327.00000</td>\n",
              "      <td>9.791000e+04</td>\n",
              "      <td>2.082020e+14</td>\n",
              "      <td>3.361962e+10</td>\n",
              "      <td>8.618620e+13</td>\n",
              "      <td>L88342B</td>\n",
              "      <td>37.000000</td>\n",
              "      <td>5.000000</td>\n",
              "      <td>34.000000</td>\n",
              "      <td>37.000000</td>\n",
              "      <td>2.080991e+07</td>\n",
              "      <td>759658.664811</td>\n",
              "      <td>100.000000</td>\n",
              "      <td>0.000000</td>\n",
              "      <td>0.000000</td>\n",
              "      <td>0.000000</td>\n",
              "      <td>100.000000</td>\n",
              "      <td>0.000000</td>\n",
              "      <td>0.000000</td>\n",
              "      <td>0.000000</td>\n",
              "      <td>1.144710e+08</td>\n",
              "      <td>3.242301e+06</td>\n",
              "      <td>1.340500e+04</td>\n",
              "      <td>3.408800e+04</td>\n",
              "      <td>9.791063e+07</td>\n",
              "      <td>Huawei</td>\n",
              "      <td>Huawei Fig-Lx1</td>\n",
              "      <td>989.699998</td>\n",
              "      <td>340.434395</td>\n",
              "      <td>810.837401</td>\n",
              "      <td>149.257052</td>\n",
              "      <td>965.464756</td>\n",
              "      <td>141.304812</td>\n",
              "      <td>43.000000</td>\n",
              "      <td>82.000000</td>\n",
              "      <td>801547.000</td>\n",
              "      <td>21562.00000</td>\n",
              "      <td>4189773.000</td>\n",
              "      <td>3567494.000</td>\n",
              "      <td>2228270.000</td>\n",
              "      <td>622644.0000</td>\n",
              "      <td>8817106.0</td>\n",
              "      <td>8305402.00</td>\n",
              "      <td>3322253.00</td>\n",
              "      <td>13172589.00</td>\n",
              "      <td>352536971.0</td>\n",
              "      <td>2.529475e+06</td>\n",
              "      <td>814713113.0</td>\n",
              "      <td>1.406930e+06</td>\n",
              "      <td>2.962610e+07</td>\n",
              "      <td>3.718959e+08</td>\n",
              "    </tr>\n",
              "    <tr>\n",
              "      <th>150000</th>\n",
              "      <td>1.013887e+19</td>\n",
              "      <td>NaN</td>\n",
              "      <td>499.1882</td>\n",
              "      <td>NaN</td>\n",
              "      <td>498.80088</td>\n",
              "      <td>1.046086e+05</td>\n",
              "      <td>2.082017e+14</td>\n",
              "      <td>4.188282e+10</td>\n",
              "      <td>4.847454e+13</td>\n",
              "      <td>NaN</td>\n",
              "      <td>109.795706</td>\n",
              "      <td>17.662883</td>\n",
              "      <td>13300.045927</td>\n",
              "      <td>1770.428647</td>\n",
              "      <td>2.080991e+07</td>\n",
              "      <td>759658.664811</td>\n",
              "      <td>92.844754</td>\n",
              "      <td>3.069355</td>\n",
              "      <td>1.717341</td>\n",
              "      <td>1.609654</td>\n",
              "      <td>98.530142</td>\n",
              "      <td>0.776749</td>\n",
              "      <td>0.147987</td>\n",
              "      <td>0.078923</td>\n",
              "      <td>1.144710e+08</td>\n",
              "      <td>3.242301e+06</td>\n",
              "      <td>1.829177e+06</td>\n",
              "      <td>1.408880e+06</td>\n",
              "      <td>1.046091e+08</td>\n",
              "      <td>NaN</td>\n",
              "      <td>NaN</td>\n",
              "      <td>989.699998</td>\n",
              "      <td>340.434395</td>\n",
              "      <td>810.837401</td>\n",
              "      <td>149.257052</td>\n",
              "      <td>965.464756</td>\n",
              "      <td>141.304812</td>\n",
              "      <td>3719.787552</td>\n",
              "      <td>4022.083454</td>\n",
              "      <td>1795321.774</td>\n",
              "      <td>32928.43438</td>\n",
              "      <td>5750752.619</td>\n",
              "      <td>2056541.926</td>\n",
              "      <td>1791728.868</td>\n",
              "      <td>467373.4419</td>\n",
              "      <td>11634072.5</td>\n",
              "      <td>11009410.13</td>\n",
              "      <td>11626851.72</td>\n",
              "      <td>11001754.82</td>\n",
              "      <td>422044702.6</td>\n",
              "      <td>8.288398e+06</td>\n",
              "      <td>421100544.2</td>\n",
              "      <td>8.264799e+06</td>\n",
              "      <td>4.112121e+07</td>\n",
              "      <td>4.546434e+08</td>\n",
              "    </tr>\n",
              "  </tbody>\n",
              "</table>\n",
              "<p>150001 rows × 55 columns</p>\n",
              "</div>"
            ],
            "text/plain": [
              "           Bearer Id            Start  ...  Total UL (Bytes) Total DL (Bytes)\n",
              "0       1.311450e+19   4/4/2019 12:01  ...      3.674974e+07     3.088796e+08\n",
              "1       1.311450e+19   4/9/2019 13:04  ...      5.380039e+07     6.533850e+08\n",
              "2       1.311450e+19   4/9/2019 17:42  ...      2.788364e+07     2.798073e+08\n",
              "3       1.311450e+19   4/10/2019 0:31  ...      4.332422e+07     8.460285e+08\n",
              "4       1.311450e+19  4/12/2019 20:10  ...      3.854281e+07     5.691386e+08\n",
              "...              ...              ...  ...               ...              ...\n",
              "149996  7.277830e+18   4/29/2019 7:28  ...      5.762885e+07     5.741753e+08\n",
              "149997  7.349880e+18   4/29/2019 7:28  ...      3.913508e+07     6.666488e+08\n",
              "149998  1.311450e+19   4/29/2019 7:28  ...      3.491222e+07     5.927864e+08\n",
              "149999  1.311450e+19   4/29/2019 7:28  ...      2.962610e+07     3.718959e+08\n",
              "150000  1.013887e+19              NaN  ...      4.112121e+07     4.546434e+08\n",
              "\n",
              "[150001 rows x 55 columns]"
            ]
          },
          "metadata": {
            "tags": []
          },
          "execution_count": 4
        }
      ]
    },
    {
      "cell_type": "markdown",
      "metadata": {
        "id": "Nj1ycbAEyHfh",
        "colab_type": "text"
      },
      "source": [
        "# TASK 2"
      ]
    },
    {
      "cell_type": "markdown",
      "metadata": {
        "id": "s2vtf5sW2ENT",
        "colab_type": "text"
      },
      "source": [
        "## User Engagement parametrics"
      ]
    },
    {
      "cell_type": "code",
      "metadata": {
        "id": "D_01MO1KKRUY",
        "colab_type": "code",
        "colab": {
          "base_uri": "https://localhost:8080/",
          "height": 34
        },
        "outputId": "9310bc01-d868-46ed-ba30-eb6f9db6b44b"
      },
      "source": [
        "data.groupby('MSISDN/Number')['session_frequency']"
      ],
      "execution_count": 11,
      "outputs": [
        {
          "output_type": "execute_result",
          "data": {
            "text/plain": [
              "<pandas.core.groupby.generic.SeriesGroupBy object at 0x7f56b24e2390>"
            ]
          },
          "metadata": {
            "tags": []
          },
          "execution_count": 11
        }
      ]
    },
    {
      "cell_type": "markdown",
      "metadata": {
        "id": "SZ-6xEejU0pA",
        "colab_type": "text"
      },
      "source": [
        "1.Session frequency"
      ]
    },
    {
      "cell_type": "code",
      "metadata": {
        "id": "Pn6-RlzmUAkR",
        "colab_type": "code",
        "colab": {
          "base_uri": "https://localhost:8080/",
          "height": 221
        },
        "outputId": "fe615faf-9165-4543-d5e6-bb08e3dfcb22"
      },
      "source": [
        "data['customer']= data['MSISDN/Number'].sum()\n",
        "data['customer']"
      ],
      "execution_count": 8,
      "outputs": [
        {
          "output_type": "execute_result",
          "data": {
            "text/plain": [
              "0         6.237818e+15\n",
              "1         6.237818e+15\n",
              "2         6.237818e+15\n",
              "3         6.237818e+15\n",
              "4         6.237818e+15\n",
              "              ...     \n",
              "149996    6.237818e+15\n",
              "149997    6.237818e+15\n",
              "149998    6.237818e+15\n",
              "149999    6.237818e+15\n",
              "150000    6.237818e+15\n",
              "Name: customer, Length: 150001, dtype: float64"
            ]
          },
          "metadata": {
            "tags": []
          },
          "execution_count": 8
        }
      ]
    },
    {
      "cell_type": "code",
      "metadata": {
        "id": "KHTYGe1ZSwwe",
        "colab_type": "code",
        "colab": {
          "base_uri": "https://localhost:8080/",
          "height": 221
        },
        "outputId": "00b6063a-f2b4-4d9c-ff5b-465740cae2b1"
      },
      "source": [
        "data['customer_count'] = data['MSISDN/Number'].count()\n",
        "data['customer_count']"
      ],
      "execution_count": 9,
      "outputs": [
        {
          "output_type": "execute_result",
          "data": {
            "text/plain": [
              "0         148935\n",
              "1         148935\n",
              "2         148935\n",
              "3         148935\n",
              "4         148935\n",
              "           ...  \n",
              "149996    148935\n",
              "149997    148935\n",
              "149998    148935\n",
              "149999    148935\n",
              "150000    148935\n",
              "Name: customer_count, Length: 150001, dtype: int64"
            ]
          },
          "metadata": {
            "tags": []
          },
          "execution_count": 9
        }
      ]
    },
    {
      "cell_type": "code",
      "metadata": {
        "id": "ev3p61E9Uhj-",
        "colab_type": "code",
        "colab": {
          "base_uri": "https://localhost:8080/",
          "height": 221
        },
        "outputId": "2ed17906-659a-4f20-f9f4-dca75b8452e3"
      },
      "source": [
        "#session_frequency = customer/customer_count\n",
        "data['session_frequency'] = data['customer'] / data['customer_count']\n",
        "data['session_frequency']"
      ],
      "execution_count": 10,
      "outputs": [
        {
          "output_type": "execute_result",
          "data": {
            "text/plain": [
              "0         4.188282e+10\n",
              "1         4.188282e+10\n",
              "2         4.188282e+10\n",
              "3         4.188282e+10\n",
              "4         4.188282e+10\n",
              "              ...     \n",
              "149996    4.188282e+10\n",
              "149997    4.188282e+10\n",
              "149998    4.188282e+10\n",
              "149999    4.188282e+10\n",
              "150000    4.188282e+10\n",
              "Name: session_frequency, Length: 150001, dtype: float64"
            ]
          },
          "metadata": {
            "tags": []
          },
          "execution_count": 10
        }
      ]
    },
    {
      "cell_type": "markdown",
      "metadata": {
        "id": "DquiDKU4U5uJ",
        "colab_type": "text"
      },
      "source": [
        "2.Duration of session"
      ]
    },
    {
      "cell_type": "code",
      "metadata": {
        "id": "MUxFospLVBAB",
        "colab_type": "code",
        "colab": {
          "base_uri": "https://localhost:8080/",
          "height": 34
        },
        "outputId": "143ac24f-0673-48d2-8060-735cddb44fb3"
      },
      "source": [
        "data['Start ms'].sum()\n"
      ],
      "execution_count": null,
      "outputs": [
        {
          "output_type": "execute_result",
          "data": {
            "text/plain": [
              "74878729.1882"
            ]
          },
          "metadata": {
            "tags": []
          },
          "execution_count": 9
        }
      ]
    },
    {
      "cell_type": "code",
      "metadata": {
        "id": "30Ive5UdVIve",
        "colab_type": "code",
        "colab": {
          "base_uri": "https://localhost:8080/",
          "height": 34
        },
        "outputId": "8d093578-74e0-4eec-85cf-947f96c33fd1"
      },
      "source": [
        "data['End ms'].sum()"
      ],
      "execution_count": null,
      "outputs": [
        {
          "output_type": "execute_result",
          "data": {
            "text/plain": [
              "74820630.80088"
            ]
          },
          "metadata": {
            "tags": []
          },
          "execution_count": 10
        }
      ]
    },
    {
      "cell_type": "code",
      "metadata": {
        "id": "gb1ZtVATZcJs",
        "colab_type": "code",
        "colab": {
          "base_uri": "https://localhost:8080/",
          "height": 221
        },
        "outputId": "defb32b8-5c6d-4cd5-cf31-594e11df6fc5"
      },
      "source": [
        "data['dur_sess']= data['Start ms'].sum() - data['End ms'].sum()\n",
        "data['dur_sess']"
      ],
      "execution_count": null,
      "outputs": [
        {
          "output_type": "execute_result",
          "data": {
            "text/plain": [
              "0         58098.38732\n",
              "1         58098.38732\n",
              "2         58098.38732\n",
              "3         58098.38732\n",
              "4         58098.38732\n",
              "             ...     \n",
              "149996    58098.38732\n",
              "149997    58098.38732\n",
              "149998    58098.38732\n",
              "149999    58098.38732\n",
              "150000    58098.38732\n",
              "Name: dur_sess, Length: 150001, dtype: float64"
            ]
          },
          "metadata": {
            "tags": []
          },
          "execution_count": 11
        }
      ]
    },
    {
      "cell_type": "markdown",
      "metadata": {
        "id": "VEKclqLMa-bC",
        "colab_type": "text"
      },
      "source": [
        "3. Session Total Traffic"
      ]
    },
    {
      "cell_type": "code",
      "metadata": {
        "id": "EhGE0ZN0bEuI",
        "colab_type": "code",
        "colab": {
          "base_uri": "https://localhost:8080/",
          "height": 34
        },
        "outputId": "4f8ead3b-a106-40ad-a4d7-edb55b930f00"
      },
      "source": [
        "data['Total DL (Bytes)'].sum()\n"
      ],
      "execution_count": null,
      "outputs": [
        {
          "output_type": "execute_result",
          "data": {
            "text/plain": [
              "68196969155275.08"
            ]
          },
          "metadata": {
            "tags": []
          },
          "execution_count": 12
        }
      ]
    },
    {
      "cell_type": "code",
      "metadata": {
        "id": "F8Ubfi5ObRnR",
        "colab_type": "code",
        "colab": {
          "base_uri": "https://localhost:8080/",
          "height": 34
        },
        "outputId": "fae7c573-bda1-4c70-f243-f42a83c0e446"
      },
      "source": [
        " data['Total UL (Bytes)'].sum()\n"
      ],
      "execution_count": null,
      "outputs": [
        {
          "output_type": "execute_result",
          "data": {
            "text/plain": [
              "6168222065022.292"
            ]
          },
          "metadata": {
            "tags": []
          },
          "execution_count": 111
        }
      ]
    },
    {
      "cell_type": "code",
      "metadata": {
        "id": "dLh9k-9DbwKG",
        "colab_type": "code",
        "colab": {
          "base_uri": "https://localhost:8080/",
          "height": 221
        },
        "outputId": "ca648e62-07d6-4654-cbb8-15fd941f461a"
      },
      "source": [
        "data['total_traffic'] = data['Total DL (Bytes)'].sum() + data['Total UL (Bytes)'].sum()\n",
        "data['total_traffic']"
      ],
      "execution_count": null,
      "outputs": [
        {
          "output_type": "execute_result",
          "data": {
            "text/plain": [
              "0         7.436519e+13\n",
              "1         7.436519e+13\n",
              "2         7.436519e+13\n",
              "3         7.436519e+13\n",
              "4         7.436519e+13\n",
              "              ...     \n",
              "149996    7.436519e+13\n",
              "149997    7.436519e+13\n",
              "149998    7.436519e+13\n",
              "149999    7.436519e+13\n",
              "150000    7.436519e+13\n",
              "Name: total_traffic, Length: 150001, dtype: float64"
            ]
          },
          "metadata": {
            "tags": []
          },
          "execution_count": 112
        }
      ]
    },
    {
      "cell_type": "markdown",
      "metadata": {
        "id": "_BKPKcEfcP-I",
        "colab_type": "text"
      },
      "source": [
        "Aggregate above metrics per  customer id"
      ]
    },
    {
      "cell_type": "code",
      "metadata": {
        "id": "3W2Xyuenk8M7",
        "colab_type": "code",
        "colab": {
          "base_uri": "https://localhost:8080/",
          "height": 359
        },
        "outputId": "98ed2568-0a80-4cfe-8133-deae54ae91c8"
      },
      "source": [
        "user_eng = pd.DataFrame(data,columns =['MSISDN/Number','total_traffic','dur_sess','session_frequency'])\n",
        "user_eng.sort_values(by=['MSISDN/Number'],ascending = False).head(10)\n"
      ],
      "execution_count": null,
      "outputs": [
        {
          "output_type": "execute_result",
          "data": {
            "text/html": [
              "<div>\n",
              "<style scoped>\n",
              "    .dataframe tbody tr th:only-of-type {\n",
              "        vertical-align: middle;\n",
              "    }\n",
              "\n",
              "    .dataframe tbody tr th {\n",
              "        vertical-align: top;\n",
              "    }\n",
              "\n",
              "    .dataframe thead th {\n",
              "        text-align: right;\n",
              "    }\n",
              "</style>\n",
              "<table border=\"1\" class=\"dataframe\">\n",
              "  <thead>\n",
              "    <tr style=\"text-align: right;\">\n",
              "      <th></th>\n",
              "      <th>MSISDN/Number</th>\n",
              "      <th>total_traffic</th>\n",
              "      <th>dur_sess</th>\n",
              "      <th>session_frequency</th>\n",
              "    </tr>\n",
              "  </thead>\n",
              "  <tbody>\n",
              "    <tr>\n",
              "      <th>125037</th>\n",
              "      <td>8.823970e+14</td>\n",
              "      <td>7.436519e+13</td>\n",
              "      <td>58098.38732</td>\n",
              "      <td>4.188282e+10</td>\n",
              "    </tr>\n",
              "    <tr>\n",
              "      <th>126054</th>\n",
              "      <td>3.370000e+14</td>\n",
              "      <td>7.436519e+13</td>\n",
              "      <td>58098.38732</td>\n",
              "      <td>4.188282e+10</td>\n",
              "    </tr>\n",
              "    <tr>\n",
              "      <th>100015</th>\n",
              "      <td>3.197020e+12</td>\n",
              "      <td>7.436519e+13</td>\n",
              "      <td>58098.38732</td>\n",
              "      <td>4.188282e+10</td>\n",
              "    </tr>\n",
              "    <tr>\n",
              "      <th>150000</th>\n",
              "      <td>4.188282e+10</td>\n",
              "      <td>7.436519e+13</td>\n",
              "      <td>58098.38732</td>\n",
              "      <td>4.188282e+10</td>\n",
              "    </tr>\n",
              "    <tr>\n",
              "      <th>102883</th>\n",
              "      <td>4.188282e+10</td>\n",
              "      <td>7.436519e+13</td>\n",
              "      <td>58098.38732</td>\n",
              "      <td>4.188282e+10</td>\n",
              "    </tr>\n",
              "    <tr>\n",
              "      <th>88502</th>\n",
              "      <td>4.188282e+10</td>\n",
              "      <td>7.436519e+13</td>\n",
              "      <td>58098.38732</td>\n",
              "      <td>4.188282e+10</td>\n",
              "    </tr>\n",
              "    <tr>\n",
              "      <th>88531</th>\n",
              "      <td>4.188282e+10</td>\n",
              "      <td>7.436519e+13</td>\n",
              "      <td>58098.38732</td>\n",
              "      <td>4.188282e+10</td>\n",
              "    </tr>\n",
              "    <tr>\n",
              "      <th>88566</th>\n",
              "      <td>4.188282e+10</td>\n",
              "      <td>7.436519e+13</td>\n",
              "      <td>58098.38732</td>\n",
              "      <td>4.188282e+10</td>\n",
              "    </tr>\n",
              "    <tr>\n",
              "      <th>14054</th>\n",
              "      <td>4.188282e+10</td>\n",
              "      <td>7.436519e+13</td>\n",
              "      <td>58098.38732</td>\n",
              "      <td>4.188282e+10</td>\n",
              "    </tr>\n",
              "    <tr>\n",
              "      <th>88643</th>\n",
              "      <td>4.188282e+10</td>\n",
              "      <td>7.436519e+13</td>\n",
              "      <td>58098.38732</td>\n",
              "      <td>4.188282e+10</td>\n",
              "    </tr>\n",
              "  </tbody>\n",
              "</table>\n",
              "</div>"
            ],
            "text/plain": [
              "        MSISDN/Number  total_traffic     dur_sess  session_frequency\n",
              "125037   8.823970e+14   7.436519e+13  58098.38732       4.188282e+10\n",
              "126054   3.370000e+14   7.436519e+13  58098.38732       4.188282e+10\n",
              "100015   3.197020e+12   7.436519e+13  58098.38732       4.188282e+10\n",
              "150000   4.188282e+10   7.436519e+13  58098.38732       4.188282e+10\n",
              "102883   4.188282e+10   7.436519e+13  58098.38732       4.188282e+10\n",
              "88502    4.188282e+10   7.436519e+13  58098.38732       4.188282e+10\n",
              "88531    4.188282e+10   7.436519e+13  58098.38732       4.188282e+10\n",
              "88566    4.188282e+10   7.436519e+13  58098.38732       4.188282e+10\n",
              "14054    4.188282e+10   7.436519e+13  58098.38732       4.188282e+10\n",
              "88643    4.188282e+10   7.436519e+13  58098.38732       4.188282e+10"
            ]
          },
          "metadata": {
            "tags": []
          },
          "execution_count": 113
        }
      ]
    },
    {
      "cell_type": "markdown",
      "metadata": {
        "id": "7elDgwbqpIId",
        "colab_type": "text"
      },
      "source": [
        "## Normalization"
      ]
    },
    {
      "cell_type": "code",
      "metadata": {
        "id": "7BFDLeEUpMLA",
        "colab_type": "code",
        "colab": {
          "base_uri": "https://localhost:8080/",
          "height": 102
        },
        "outputId": "5814df9c-888e-4f6b-8d45-a4d73d9c6b4c"
      },
      "source": [
        "user_eng_max = user_eng.max()\n",
        "user_eng_max"
      ],
      "execution_count": null,
      "outputs": [
        {
          "output_type": "execute_result",
          "data": {
            "text/plain": [
              "MSISDN/Number        8.823970e+14\n",
              "total_traffic        7.436519e+13\n",
              "dur_sess             5.809839e+04\n",
              "session_frequency    4.188282e+10\n",
              "dtype: float64"
            ]
          },
          "metadata": {
            "tags": []
          },
          "execution_count": 78
        }
      ]
    },
    {
      "cell_type": "code",
      "metadata": {
        "id": "ni6mORVlpHRY",
        "colab_type": "code",
        "colab": {
          "base_uri": "https://localhost:8080/",
          "height": 34
        },
        "outputId": "c73307df-799a-461b-d5c4-bfc7d85e9071"
      },
      "source": [
        "norm_eng =user_eng/user_eng_max\n",
        "norm_eng"
      ],
      "execution_count": null,
      "outputs": [
        {
          "output_type": "execute_result",
          "data": {
            "text/plain": [
              "<pandas.core.groupby.generic.DataFrameGroupBy object at 0x7f4e38523588>"
            ]
          },
          "metadata": {
            "tags": []
          },
          "execution_count": 108
        }
      ]
    },
    {
      "cell_type": "markdown",
      "metadata": {
        "id": "FCigqZ9A5--D",
        "colab_type": "text"
      },
      "source": [
        "## K-Means"
      ]
    },
    {
      "cell_type": "code",
      "metadata": {
        "id": "NEQi4aEI56Ni",
        "colab_type": "code",
        "colab": {
          "base_uri": "https://localhost:8080/",
          "height": 129
        },
        "outputId": "7fa3ffa7-8a2f-41bd-9c23-3d20538b70b8"
      },
      "source": [
        "x = norm_eng\n",
        "color = ['blue','green','cyan']\n",
        "\n",
        "plt.scatter(x['MSISDN/Number'],x[ ],x[])\n",
        "plt.xlabel()\n",
        "plt.ylabel()\n",
        "plt.show()"
      ],
      "execution_count": null,
      "outputs": [
        {
          "output_type": "error",
          "ename": "SyntaxError",
          "evalue": "ignored",
          "traceback": [
            "\u001b[0;36m  File \u001b[0;32m\"<ipython-input-117-55051a2120e0>\"\u001b[0;36m, line \u001b[0;32m4\u001b[0m\n\u001b[0;31m    plt.scatter(x[],x[],x[])\u001b[0m\n\u001b[0m                  ^\u001b[0m\n\u001b[0;31mSyntaxError\u001b[0m\u001b[0;31m:\u001b[0m invalid syntax\n"
          ]
        }
      ]
    },
    {
      "cell_type": "markdown",
      "metadata": {
        "id": "NaoCl-srr05-",
        "colab_type": "text"
      },
      "source": [
        "## Compute mean,max,min and count of each metric"
      ]
    },
    {
      "cell_type": "code",
      "metadata": {
        "id": "mHCFM5FRqPGN",
        "colab_type": "code",
        "colab": {
          "base_uri": "https://localhost:8080/",
          "height": 297
        },
        "outputId": "d7356fe1-547d-400b-f19e-b55c9d12990a"
      },
      "source": [
        "user_eng.describe()"
      ],
      "execution_count": null,
      "outputs": [
        {
          "output_type": "execute_result",
          "data": {
            "text/html": [
              "<div>\n",
              "<style scoped>\n",
              "    .dataframe tbody tr th:only-of-type {\n",
              "        vertical-align: middle;\n",
              "    }\n",
              "\n",
              "    .dataframe tbody tr th {\n",
              "        vertical-align: top;\n",
              "    }\n",
              "\n",
              "    .dataframe thead th {\n",
              "        text-align: right;\n",
              "    }\n",
              "</style>\n",
              "<table border=\"1\" class=\"dataframe\">\n",
              "  <thead>\n",
              "    <tr style=\"text-align: right;\">\n",
              "      <th></th>\n",
              "      <th>MSISDN/Number</th>\n",
              "      <th>total_traffic</th>\n",
              "      <th>dur_sess</th>\n",
              "      <th>session_frequency</th>\n",
              "    </tr>\n",
              "  </thead>\n",
              "  <tbody>\n",
              "    <tr>\n",
              "      <th>count</th>\n",
              "      <td>1.500010e+05</td>\n",
              "      <td>1.500010e+05</td>\n",
              "      <td>1.500010e+05</td>\n",
              "      <td>1.500010e+05</td>\n",
              "    </tr>\n",
              "    <tr>\n",
              "      <th>mean</th>\n",
              "      <td>4.188282e+10</td>\n",
              "      <td>7.436519e+13</td>\n",
              "      <td>5.809839e+04</td>\n",
              "      <td>4.188282e+10</td>\n",
              "    </tr>\n",
              "    <tr>\n",
              "      <th>std</th>\n",
              "      <td>2.438731e+12</td>\n",
              "      <td>1.140160e+02</td>\n",
              "      <td>2.005697e-07</td>\n",
              "      <td>7.629420e-05</td>\n",
              "    </tr>\n",
              "    <tr>\n",
              "      <th>min</th>\n",
              "      <td>3.360100e+10</td>\n",
              "      <td>7.436519e+13</td>\n",
              "      <td>5.809839e+04</td>\n",
              "      <td>4.188282e+10</td>\n",
              "    </tr>\n",
              "    <tr>\n",
              "      <th>25%</th>\n",
              "      <td>3.365151e+10</td>\n",
              "      <td>7.436519e+13</td>\n",
              "      <td>5.809839e+04</td>\n",
              "      <td>4.188282e+10</td>\n",
              "    </tr>\n",
              "    <tr>\n",
              "      <th>50%</th>\n",
              "      <td>3.366380e+10</td>\n",
              "      <td>7.436519e+13</td>\n",
              "      <td>5.809839e+04</td>\n",
              "      <td>4.188282e+10</td>\n",
              "    </tr>\n",
              "    <tr>\n",
              "      <th>75%</th>\n",
              "      <td>3.368473e+10</td>\n",
              "      <td>7.436519e+13</td>\n",
              "      <td>5.809839e+04</td>\n",
              "      <td>4.188282e+10</td>\n",
              "    </tr>\n",
              "    <tr>\n",
              "      <th>max</th>\n",
              "      <td>8.823970e+14</td>\n",
              "      <td>7.436519e+13</td>\n",
              "      <td>5.809839e+04</td>\n",
              "      <td>4.188282e+10</td>\n",
              "    </tr>\n",
              "  </tbody>\n",
              "</table>\n",
              "</div>"
            ],
            "text/plain": [
              "       MSISDN/Number  total_traffic      dur_sess  session_frequency\n",
              "count   1.500010e+05   1.500010e+05  1.500010e+05       1.500010e+05\n",
              "mean    4.188282e+10   7.436519e+13  5.809839e+04       4.188282e+10\n",
              "std     2.438731e+12   1.140160e+02  2.005697e-07       7.629420e-05\n",
              "min     3.360100e+10   7.436519e+13  5.809839e+04       4.188282e+10\n",
              "25%     3.365151e+10   7.436519e+13  5.809839e+04       4.188282e+10\n",
              "50%     3.366380e+10   7.436519e+13  5.809839e+04       4.188282e+10\n",
              "75%     3.368473e+10   7.436519e+13  5.809839e+04       4.188282e+10\n",
              "max     8.823970e+14   7.436519e+13  5.809839e+04       4.188282e+10"
            ]
          },
          "metadata": {
            "tags": []
          },
          "execution_count": 18
        }
      ]
    },
    {
      "cell_type": "code",
      "metadata": {
        "id": "ASew4hCIpyLZ",
        "colab_type": "code",
        "colab": {
          "base_uri": "https://localhost:8080/",
          "height": 102
        },
        "outputId": "023dd6be-53e1-4b8a-9e1f-ea65306dd088"
      },
      "source": [
        "user_eng.max()"
      ],
      "execution_count": null,
      "outputs": [
        {
          "output_type": "execute_result",
          "data": {
            "text/plain": [
              "MSISDN/Number        8.823970e+14\n",
              "total_traffic        7.436519e+13\n",
              "dur_sess             5.809839e+04\n",
              "session_frequency    4.188282e+10\n",
              "dtype: float64"
            ]
          },
          "metadata": {
            "tags": []
          },
          "execution_count": 19
        }
      ]
    },
    {
      "cell_type": "code",
      "metadata": {
        "id": "AZeH-x3Ip6zR",
        "colab_type": "code",
        "colab": {
          "base_uri": "https://localhost:8080/",
          "height": 102
        },
        "outputId": "aebe665f-78d9-46e1-9c72-defb8f5dadf9"
      },
      "source": [
        "user_eng.min()"
      ],
      "execution_count": null,
      "outputs": [
        {
          "output_type": "execute_result",
          "data": {
            "text/plain": [
              "MSISDN/Number        3.360100e+10\n",
              "total_traffic        7.436519e+13\n",
              "dur_sess             5.809839e+04\n",
              "session_frequency    4.188282e+10\n",
              "dtype: float64"
            ]
          },
          "metadata": {
            "tags": []
          },
          "execution_count": 20
        }
      ]
    },
    {
      "cell_type": "code",
      "metadata": {
        "id": "8qCazxy9qDJ-",
        "colab_type": "code",
        "colab": {
          "base_uri": "https://localhost:8080/",
          "height": 102
        },
        "outputId": "50e890b4-3e07-4fbd-92e3-5cc004c7c505"
      },
      "source": [
        "user_eng.mean()"
      ],
      "execution_count": null,
      "outputs": [
        {
          "output_type": "execute_result",
          "data": {
            "text/plain": [
              "MSISDN/Number        4.188282e+10\n",
              "total_traffic        7.436519e+13\n",
              "dur_sess             5.809839e+04\n",
              "session_frequency    4.188282e+10\n",
              "dtype: float64"
            ]
          },
          "metadata": {
            "tags": []
          },
          "execution_count": 21
        }
      ]
    },
    {
      "cell_type": "code",
      "metadata": {
        "id": "T60iK0DVqZE-",
        "colab_type": "code",
        "colab": {
          "base_uri": "https://localhost:8080/",
          "height": 102
        },
        "outputId": "3ca0fe9b-00f2-49a3-adba-334346a8ce3d"
      },
      "source": [
        "user_eng.count()"
      ],
      "execution_count": null,
      "outputs": [
        {
          "output_type": "execute_result",
          "data": {
            "text/plain": [
              "MSISDN/Number        150001\n",
              "total_traffic        150001\n",
              "dur_sess             150001\n",
              "session_frequency    150001\n",
              "dtype: int64"
            ]
          },
          "metadata": {
            "tags": []
          },
          "execution_count": 22
        }
      ]
    },
    {
      "cell_type": "code",
      "metadata": {
        "id": "5nu6m9kjsIrx",
        "colab_type": "code",
        "colab": {}
      },
      "source": [
        "# visual interpretation\n"
      ],
      "execution_count": null,
      "outputs": []
    },
    {
      "cell_type": "markdown",
      "metadata": {
        "id": "c81M1BdSsSOr",
        "colab_type": "text"
      },
      "source": [
        "## Aggregate user total traffic per application and derive the top 10 most engaged users per application"
      ]
    },
    {
      "cell_type": "markdown",
      "metadata": {
        "id": "V63dZlJeuWWC",
        "colab_type": "text"
      },
      "source": [
        "#### Social media"
      ]
    },
    {
      "cell_type": "code",
      "metadata": {
        "id": "8QK-W45EwRie",
        "colab_type": "code",
        "colab": {}
      },
      "source": [
        " data['Total_traffic'] = data['total_traffic'].sum()"
      ],
      "execution_count": null,
      "outputs": []
    },
    {
      "cell_type": "code",
      "metadata": {
        "id": "AdojJxnSsjgN",
        "colab_type": "code",
        "colab": {}
      },
      "source": [
        "data['Social Media'] = data['Social Media DL (Bytes)']+data['Social Media UL (Bytes)']"
      ],
      "execution_count": null,
      "outputs": []
    },
    {
      "cell_type": "code",
      "metadata": {
        "id": "WrC5gfJDsTx9",
        "colab_type": "code",
        "colab": {}
      },
      "source": [
        "data['Social Media traffic']= data['Social Media']/ data['Total_traffic']"
      ],
      "execution_count": null,
      "outputs": []
    },
    {
      "cell_type": "code",
      "metadata": {
        "id": "VDLqSDKVtLu5",
        "colab_type": "code",
        "colab": {
          "base_uri": "https://localhost:8080/",
          "height": 359
        },
        "outputId": "fd09e0ff-20c6-40c8-d81a-478d4a2910a1"
      },
      "source": [
        "social_media = pd.DataFrame(data,columns=['Social Media traffic'])\n",
        "\n",
        "social_media.sort_values(by=['Social Media traffic'],ascending = False).head(10)"
      ],
      "execution_count": null,
      "outputs": [
        {
          "output_type": "execute_result",
          "data": {
            "text/html": [
              "<div>\n",
              "<style scoped>\n",
              "    .dataframe tbody tr th:only-of-type {\n",
              "        vertical-align: middle;\n",
              "    }\n",
              "\n",
              "    .dataframe tbody tr th {\n",
              "        vertical-align: top;\n",
              "    }\n",
              "\n",
              "    .dataframe thead th {\n",
              "        text-align: right;\n",
              "    }\n",
              "</style>\n",
              "<table border=\"1\" class=\"dataframe\">\n",
              "  <thead>\n",
              "    <tr style=\"text-align: right;\">\n",
              "      <th></th>\n",
              "      <th>Social Media traffic</th>\n",
              "    </tr>\n",
              "  </thead>\n",
              "  <tbody>\n",
              "    <tr>\n",
              "      <th>32217</th>\n",
              "      <td>3.272890e-13</td>\n",
              "    </tr>\n",
              "    <tr>\n",
              "      <th>105238</th>\n",
              "      <td>3.272334e-13</td>\n",
              "    </tr>\n",
              "    <tr>\n",
              "      <th>147105</th>\n",
              "      <td>3.271055e-13</td>\n",
              "    </tr>\n",
              "    <tr>\n",
              "      <th>50251</th>\n",
              "      <td>3.270979e-13</td>\n",
              "    </tr>\n",
              "    <tr>\n",
              "      <th>98107</th>\n",
              "      <td>3.270916e-13</td>\n",
              "    </tr>\n",
              "    <tr>\n",
              "      <th>31907</th>\n",
              "      <td>3.270408e-13</td>\n",
              "    </tr>\n",
              "    <tr>\n",
              "      <th>45504</th>\n",
              "      <td>3.270350e-13</td>\n",
              "    </tr>\n",
              "    <tr>\n",
              "      <th>11151</th>\n",
              "      <td>3.270057e-13</td>\n",
              "    </tr>\n",
              "    <tr>\n",
              "      <th>9945</th>\n",
              "      <td>3.269865e-13</td>\n",
              "    </tr>\n",
              "    <tr>\n",
              "      <th>7417</th>\n",
              "      <td>3.269863e-13</td>\n",
              "    </tr>\n",
              "  </tbody>\n",
              "</table>\n",
              "</div>"
            ],
            "text/plain": [
              "        Social Media traffic\n",
              "32217           3.272890e-13\n",
              "105238          3.272334e-13\n",
              "147105          3.271055e-13\n",
              "50251           3.270979e-13\n",
              "98107           3.270916e-13\n",
              "31907           3.270408e-13\n",
              "45504           3.270350e-13\n",
              "11151           3.270057e-13\n",
              "9945            3.269865e-13\n",
              "7417            3.269863e-13"
            ]
          },
          "metadata": {
            "tags": []
          },
          "execution_count": 26
        }
      ]
    },
    {
      "cell_type": "markdown",
      "metadata": {
        "id": "vcL9cV9muaAM",
        "colab_type": "text"
      },
      "source": [
        "#### Netflix"
      ]
    },
    {
      "cell_type": "code",
      "metadata": {
        "id": "XN8Aqh5hufMH",
        "colab_type": "code",
        "colab": {}
      },
      "source": [
        "data['Netflix'] = data['Netflix DL (Bytes)'] + data['Netflix UL (Bytes)']"
      ],
      "execution_count": null,
      "outputs": []
    },
    {
      "cell_type": "code",
      "metadata": {
        "id": "Pm8IYByJufcc",
        "colab_type": "code",
        "colab": {}
      },
      "source": [
        "data['Netflix traffic']= data['Netflix'] / data['Total_traffic']"
      ],
      "execution_count": null,
      "outputs": []
    },
    {
      "cell_type": "code",
      "metadata": {
        "id": "r2YTwT7vufrs",
        "colab_type": "code",
        "colab": {
          "base_uri": "https://localhost:8080/",
          "height": 359
        },
        "outputId": "127df93b-ed9a-445b-acd7-71adc8ed54b5"
      },
      "source": [
        "netflix = pd.DataFrame(data,columns=['Netflix traffic'])\n",
        "\n",
        "netflix.sort_values(by=['Netflix traffic'],ascending = False).head(10)"
      ],
      "execution_count": null,
      "outputs": [
        {
          "output_type": "execute_result",
          "data": {
            "text/html": [
              "<div>\n",
              "<style scoped>\n",
              "    .dataframe tbody tr th:only-of-type {\n",
              "        vertical-align: middle;\n",
              "    }\n",
              "\n",
              "    .dataframe tbody tr th {\n",
              "        vertical-align: top;\n",
              "    }\n",
              "\n",
              "    .dataframe thead th {\n",
              "        text-align: right;\n",
              "    }\n",
              "</style>\n",
              "<table border=\"1\" class=\"dataframe\">\n",
              "  <thead>\n",
              "    <tr style=\"text-align: right;\">\n",
              "      <th></th>\n",
              "      <th>Netflix traffic</th>\n",
              "    </tr>\n",
              "  </thead>\n",
              "  <tbody>\n",
              "    <tr>\n",
              "      <th>60136</th>\n",
              "      <td>4.051882e-12</td>\n",
              "    </tr>\n",
              "    <tr>\n",
              "      <th>134942</th>\n",
              "      <td>4.051017e-12</td>\n",
              "    </tr>\n",
              "    <tr>\n",
              "      <th>38586</th>\n",
              "      <td>4.044012e-12</td>\n",
              "    </tr>\n",
              "    <tr>\n",
              "      <th>25959</th>\n",
              "      <td>4.039922e-12</td>\n",
              "    </tr>\n",
              "    <tr>\n",
              "      <th>72644</th>\n",
              "      <td>4.038991e-12</td>\n",
              "    </tr>\n",
              "    <tr>\n",
              "      <th>56035</th>\n",
              "      <td>4.035280e-12</td>\n",
              "    </tr>\n",
              "    <tr>\n",
              "      <th>134936</th>\n",
              "      <td>4.035101e-12</td>\n",
              "    </tr>\n",
              "    <tr>\n",
              "      <th>54868</th>\n",
              "      <td>4.034025e-12</td>\n",
              "    </tr>\n",
              "    <tr>\n",
              "      <th>18413</th>\n",
              "      <td>4.032652e-12</td>\n",
              "    </tr>\n",
              "    <tr>\n",
              "      <th>86468</th>\n",
              "      <td>4.031486e-12</td>\n",
              "    </tr>\n",
              "  </tbody>\n",
              "</table>\n",
              "</div>"
            ],
            "text/plain": [
              "        Netflix traffic\n",
              "60136      4.051882e-12\n",
              "134942     4.051017e-12\n",
              "38586      4.044012e-12\n",
              "25959      4.039922e-12\n",
              "72644      4.038991e-12\n",
              "56035      4.035280e-12\n",
              "134936     4.035101e-12\n",
              "54868      4.034025e-12\n",
              "18413      4.032652e-12\n",
              "86468      4.031486e-12"
            ]
          },
          "metadata": {
            "tags": []
          },
          "execution_count": 29
        }
      ]
    },
    {
      "cell_type": "markdown",
      "metadata": {
        "id": "dyeS5RaQvik3",
        "colab_type": "text"
      },
      "source": [
        "#### Youtube"
      ]
    },
    {
      "cell_type": "code",
      "metadata": {
        "id": "0Cvvg1JfvoEU",
        "colab_type": "code",
        "colab": {}
      },
      "source": [
        "data['Youtube'] = data['Youtube DL (Bytes)'] + data['Youtube UL (Bytes)']"
      ],
      "execution_count": null,
      "outputs": []
    },
    {
      "cell_type": "code",
      "metadata": {
        "id": "vo85YnaUvoVp",
        "colab_type": "code",
        "colab": {}
      },
      "source": [
        "data['Youtube traffic']= data['Youtube'] / data['Total_traffic']"
      ],
      "execution_count": null,
      "outputs": []
    },
    {
      "cell_type": "code",
      "metadata": {
        "id": "bguQwd5evojV",
        "colab_type": "code",
        "colab": {
          "base_uri": "https://localhost:8080/",
          "height": 359
        },
        "outputId": "5ff789b4-8cf4-45c9-f9ac-c31d12585bba"
      },
      "source": [
        "youtube = pd.DataFrame(data,columns=['Youtube traffic'])\n",
        "\n",
        "youtube.sort_values(by=['Youtube traffic'],ascending = False).head(10)"
      ],
      "execution_count": null,
      "outputs": [
        {
          "output_type": "execute_result",
          "data": {
            "text/html": [
              "<div>\n",
              "<style scoped>\n",
              "    .dataframe tbody tr th:only-of-type {\n",
              "        vertical-align: middle;\n",
              "    }\n",
              "\n",
              "    .dataframe tbody tr th {\n",
              "        vertical-align: top;\n",
              "    }\n",
              "\n",
              "    .dataframe thead th {\n",
              "        text-align: right;\n",
              "    }\n",
              "</style>\n",
              "<table border=\"1\" class=\"dataframe\">\n",
              "  <thead>\n",
              "    <tr style=\"text-align: right;\">\n",
              "      <th></th>\n",
              "      <th>Youtube traffic</th>\n",
              "    </tr>\n",
              "  </thead>\n",
              "  <tbody>\n",
              "    <tr>\n",
              "      <th>66493</th>\n",
              "      <td>4.051159e-12</td>\n",
              "    </tr>\n",
              "    <tr>\n",
              "      <th>102091</th>\n",
              "      <td>4.050166e-12</td>\n",
              "    </tr>\n",
              "    <tr>\n",
              "      <th>15638</th>\n",
              "      <td>4.049362e-12</td>\n",
              "    </tr>\n",
              "    <tr>\n",
              "      <th>107601</th>\n",
              "      <td>4.048706e-12</td>\n",
              "    </tr>\n",
              "    <tr>\n",
              "      <th>135103</th>\n",
              "      <td>4.048319e-12</td>\n",
              "    </tr>\n",
              "    <tr>\n",
              "      <th>118044</th>\n",
              "      <td>4.044026e-12</td>\n",
              "    </tr>\n",
              "    <tr>\n",
              "      <th>45398</th>\n",
              "      <td>4.043875e-12</td>\n",
              "    </tr>\n",
              "    <tr>\n",
              "      <th>134564</th>\n",
              "      <td>4.043510e-12</td>\n",
              "    </tr>\n",
              "    <tr>\n",
              "      <th>13805</th>\n",
              "      <td>4.042489e-12</td>\n",
              "    </tr>\n",
              "    <tr>\n",
              "      <th>68228</th>\n",
              "      <td>4.042324e-12</td>\n",
              "    </tr>\n",
              "  </tbody>\n",
              "</table>\n",
              "</div>"
            ],
            "text/plain": [
              "        Youtube traffic\n",
              "66493      4.051159e-12\n",
              "102091     4.050166e-12\n",
              "15638      4.049362e-12\n",
              "107601     4.048706e-12\n",
              "135103     4.048319e-12\n",
              "118044     4.044026e-12\n",
              "45398      4.043875e-12\n",
              "134564     4.043510e-12\n",
              "13805      4.042489e-12\n",
              "68228      4.042324e-12"
            ]
          },
          "metadata": {
            "tags": []
          },
          "execution_count": 32
        }
      ]
    },
    {
      "cell_type": "markdown",
      "metadata": {
        "id": "aM35yiORvlWI",
        "colab_type": "text"
      },
      "source": [
        "#### Google"
      ]
    },
    {
      "cell_type": "code",
      "metadata": {
        "id": "WyFhjeSYvsc8",
        "colab_type": "code",
        "colab": {}
      },
      "source": [
        "data['Google'] = data['Google DL (Bytes)'] + data['Google UL (Bytes)']"
      ],
      "execution_count": null,
      "outputs": []
    },
    {
      "cell_type": "code",
      "metadata": {
        "id": "Iu5yvnacvsuV",
        "colab_type": "code",
        "colab": {}
      },
      "source": [
        "data['Google traffic']= data['Google'] / data['Total_traffic']"
      ],
      "execution_count": null,
      "outputs": []
    },
    {
      "cell_type": "code",
      "metadata": {
        "id": "ZNkeRBkqvs-W",
        "colab_type": "code",
        "colab": {
          "base_uri": "https://localhost:8080/",
          "height": 359
        },
        "outputId": "74815f39-e894-41c5-f6b2-84e230ce5862"
      },
      "source": [
        "google = pd.DataFrame(data,columns=['Google traffic'])\n",
        "\n",
        "google.sort_values(by=['Google traffic'],ascending = False).head(10)"
      ],
      "execution_count": null,
      "outputs": [
        {
          "output_type": "execute_result",
          "data": {
            "text/html": [
              "<div>\n",
              "<style scoped>\n",
              "    .dataframe tbody tr th:only-of-type {\n",
              "        vertical-align: middle;\n",
              "    }\n",
              "\n",
              "    .dataframe tbody tr th {\n",
              "        vertical-align: top;\n",
              "    }\n",
              "\n",
              "    .dataframe thead th {\n",
              "        text-align: right;\n",
              "    }\n",
              "</style>\n",
              "<table border=\"1\" class=\"dataframe\">\n",
              "  <thead>\n",
              "    <tr style=\"text-align: right;\">\n",
              "      <th></th>\n",
              "      <th>Google traffic</th>\n",
              "    </tr>\n",
              "  </thead>\n",
              "  <tbody>\n",
              "    <tr>\n",
              "      <th>92913</th>\n",
              "      <td>1.392110e-12</td>\n",
              "    </tr>\n",
              "    <tr>\n",
              "      <th>48780</th>\n",
              "      <td>1.391083e-12</td>\n",
              "    </tr>\n",
              "    <tr>\n",
              "      <th>80821</th>\n",
              "      <td>1.390298e-12</td>\n",
              "    </tr>\n",
              "    <tr>\n",
              "      <th>27384</th>\n",
              "      <td>1.390169e-12</td>\n",
              "    </tr>\n",
              "    <tr>\n",
              "      <th>3297</th>\n",
              "      <td>1.390108e-12</td>\n",
              "    </tr>\n",
              "    <tr>\n",
              "      <th>53075</th>\n",
              "      <td>1.390080e-12</td>\n",
              "    </tr>\n",
              "    <tr>\n",
              "      <th>82610</th>\n",
              "      <td>1.388985e-12</td>\n",
              "    </tr>\n",
              "    <tr>\n",
              "      <th>90229</th>\n",
              "      <td>1.388064e-12</td>\n",
              "    </tr>\n",
              "    <tr>\n",
              "      <th>16844</th>\n",
              "      <td>1.387854e-12</td>\n",
              "    </tr>\n",
              "    <tr>\n",
              "      <th>74104</th>\n",
              "      <td>1.387711e-12</td>\n",
              "    </tr>\n",
              "  </tbody>\n",
              "</table>\n",
              "</div>"
            ],
            "text/plain": [
              "       Google traffic\n",
              "92913    1.392110e-12\n",
              "48780    1.391083e-12\n",
              "80821    1.390298e-12\n",
              "27384    1.390169e-12\n",
              "3297     1.390108e-12\n",
              "53075    1.390080e-12\n",
              "82610    1.388985e-12\n",
              "90229    1.388064e-12\n",
              "16844    1.387854e-12\n",
              "74104    1.387711e-12"
            ]
          },
          "metadata": {
            "tags": []
          },
          "execution_count": 35
        }
      ]
    },
    {
      "cell_type": "markdown",
      "metadata": {
        "id": "SyRfDavjvtcY",
        "colab_type": "text"
      },
      "source": [
        "#### Email"
      ]
    },
    {
      "cell_type": "code",
      "metadata": {
        "id": "IcgD81xavu41",
        "colab_type": "code",
        "colab": {}
      },
      "source": [
        "data['Email'] = data['Email DL (Bytes)'] + data['Email UL (Bytes)']"
      ],
      "execution_count": null,
      "outputs": []
    },
    {
      "cell_type": "code",
      "metadata": {
        "id": "XY9r8n5NvvNG",
        "colab_type": "code",
        "colab": {}
      },
      "source": [
        "data['Email traffic']= data['Email'] / data['Total_traffic']"
      ],
      "execution_count": null,
      "outputs": []
    },
    {
      "cell_type": "code",
      "metadata": {
        "id": "w1POxeDKvvfo",
        "colab_type": "code",
        "colab": {
          "base_uri": "https://localhost:8080/",
          "height": 359
        },
        "outputId": "b89c3ef3-b2af-4058-cb8b-cee599185091"
      },
      "source": [
        "email = pd.DataFrame(data,columns=['Email traffic'])\n",
        "\n",
        "email.sort_values(by=['Email traffic'],ascending = False).head(10)"
      ],
      "execution_count": null,
      "outputs": [
        {
          "output_type": "execute_result",
          "data": {
            "text/html": [
              "<div>\n",
              "<style scoped>\n",
              "    .dataframe tbody tr th:only-of-type {\n",
              "        vertical-align: middle;\n",
              "    }\n",
              "\n",
              "    .dataframe tbody tr th {\n",
              "        vertical-align: top;\n",
              "    }\n",
              "\n",
              "    .dataframe thead th {\n",
              "        text-align: right;\n",
              "    }\n",
              "</style>\n",
              "<table border=\"1\" class=\"dataframe\">\n",
              "  <thead>\n",
              "    <tr style=\"text-align: right;\">\n",
              "      <th></th>\n",
              "      <th>Email traffic</th>\n",
              "    </tr>\n",
              "  </thead>\n",
              "  <tbody>\n",
              "    <tr>\n",
              "      <th>43873</th>\n",
              "      <td>4.050287e-13</td>\n",
              "    </tr>\n",
              "    <tr>\n",
              "      <th>88190</th>\n",
              "      <td>4.046292e-13</td>\n",
              "    </tr>\n",
              "    <tr>\n",
              "      <th>14756</th>\n",
              "      <td>4.045773e-13</td>\n",
              "    </tr>\n",
              "    <tr>\n",
              "      <th>57130</th>\n",
              "      <td>4.045531e-13</td>\n",
              "    </tr>\n",
              "    <tr>\n",
              "      <th>28657</th>\n",
              "      <td>4.043904e-13</td>\n",
              "    </tr>\n",
              "    <tr>\n",
              "      <th>103717</th>\n",
              "      <td>4.043243e-13</td>\n",
              "    </tr>\n",
              "    <tr>\n",
              "      <th>114816</th>\n",
              "      <td>4.043151e-13</td>\n",
              "    </tr>\n",
              "    <tr>\n",
              "      <th>142441</th>\n",
              "      <td>4.041721e-13</td>\n",
              "    </tr>\n",
              "    <tr>\n",
              "      <th>79122</th>\n",
              "      <td>4.040438e-13</td>\n",
              "    </tr>\n",
              "    <tr>\n",
              "      <th>136825</th>\n",
              "      <td>4.040434e-13</td>\n",
              "    </tr>\n",
              "  </tbody>\n",
              "</table>\n",
              "</div>"
            ],
            "text/plain": [
              "        Email traffic\n",
              "43873    4.050287e-13\n",
              "88190    4.046292e-13\n",
              "14756    4.045773e-13\n",
              "57130    4.045531e-13\n",
              "28657    4.043904e-13\n",
              "103717   4.043243e-13\n",
              "114816   4.043151e-13\n",
              "142441   4.041721e-13\n",
              "79122    4.040438e-13\n",
              "136825   4.040434e-13"
            ]
          },
          "metadata": {
            "tags": []
          },
          "execution_count": 38
        }
      ]
    },
    {
      "cell_type": "markdown",
      "metadata": {
        "id": "qNKq02pzvv8s",
        "colab_type": "text"
      },
      "source": [
        "#### Other"
      ]
    },
    {
      "cell_type": "code",
      "metadata": {
        "id": "MSuhZpgHv0EV",
        "colab_type": "code",
        "colab": {}
      },
      "source": [
        "data['Other'] = data['Other DL (Bytes)'] + data['Other UL (Bytes)']"
      ],
      "execution_count": null,
      "outputs": []
    },
    {
      "cell_type": "code",
      "metadata": {
        "id": "cB85kqmuv0Tq",
        "colab_type": "code",
        "colab": {}
      },
      "source": [
        "data['Other traffic']= data['Other'] / data['Total_traffic']"
      ],
      "execution_count": null,
      "outputs": []
    },
    {
      "cell_type": "code",
      "metadata": {
        "id": "RLdbRejav0hJ",
        "colab_type": "code",
        "colab": {
          "base_uri": "https://localhost:8080/",
          "height": 359
        },
        "outputId": "08859083-d872-48d2-cf7c-523d27dce255"
      },
      "source": [
        "other = pd.DataFrame(data,columns=['Other traffic'])\n",
        "\n",
        "other.sort_values(by=['Other traffic'],ascending = False).head(10)"
      ],
      "execution_count": null,
      "outputs": [
        {
          "output_type": "execute_result",
          "data": {
            "text/html": [
              "<div>\n",
              "<style scoped>\n",
              "    .dataframe tbody tr th:only-of-type {\n",
              "        vertical-align: middle;\n",
              "    }\n",
              "\n",
              "    .dataframe tbody tr th {\n",
              "        vertical-align: top;\n",
              "    }\n",
              "\n",
              "    .dataframe thead th {\n",
              "        text-align: right;\n",
              "    }\n",
              "</style>\n",
              "<table border=\"1\" class=\"dataframe\">\n",
              "  <thead>\n",
              "    <tr style=\"text-align: right;\">\n",
              "      <th></th>\n",
              "      <th>Other traffic</th>\n",
              "    </tr>\n",
              "  </thead>\n",
              "  <tbody>\n",
              "    <tr>\n",
              "      <th>104253</th>\n",
              "      <td>7.705354e-11</td>\n",
              "    </tr>\n",
              "    <tr>\n",
              "      <th>86643</th>\n",
              "      <td>7.705037e-11</td>\n",
              "    </tr>\n",
              "    <tr>\n",
              "      <th>102717</th>\n",
              "      <td>7.703242e-11</td>\n",
              "    </tr>\n",
              "    <tr>\n",
              "      <th>87257</th>\n",
              "      <td>7.702377e-11</td>\n",
              "    </tr>\n",
              "    <tr>\n",
              "      <th>36065</th>\n",
              "      <td>7.701165e-11</td>\n",
              "    </tr>\n",
              "    <tr>\n",
              "      <th>139600</th>\n",
              "      <td>7.700357e-11</td>\n",
              "    </tr>\n",
              "    <tr>\n",
              "      <th>24097</th>\n",
              "      <td>7.700026e-11</td>\n",
              "    </tr>\n",
              "    <tr>\n",
              "      <th>97609</th>\n",
              "      <td>7.699561e-11</td>\n",
              "    </tr>\n",
              "    <tr>\n",
              "      <th>83452</th>\n",
              "      <td>7.699336e-11</td>\n",
              "    </tr>\n",
              "    <tr>\n",
              "      <th>18393</th>\n",
              "      <td>7.698781e-11</td>\n",
              "    </tr>\n",
              "  </tbody>\n",
              "</table>\n",
              "</div>"
            ],
            "text/plain": [
              "        Other traffic\n",
              "104253   7.705354e-11\n",
              "86643    7.705037e-11\n",
              "102717   7.703242e-11\n",
              "87257    7.702377e-11\n",
              "36065    7.701165e-11\n",
              "139600   7.700357e-11\n",
              "24097    7.700026e-11\n",
              "97609    7.699561e-11\n",
              "83452    7.699336e-11\n",
              "18393    7.698781e-11"
            ]
          },
          "metadata": {
            "tags": []
          },
          "execution_count": 41
        }
      ]
    },
    {
      "cell_type": "markdown",
      "metadata": {
        "id": "96gI1FS8ytFH",
        "colab_type": "text"
      },
      "source": [
        "## Plot the top 3 most used applications. \n"
      ]
    },
    {
      "cell_type": "code",
      "metadata": {
        "id": "KzzqOCPUywkN",
        "colab_type": "code",
        "colab": {}
      },
      "source": [
        "# sum each application's DL & UL\n",
        "data['Social Media'] = data['Social Media DL (Bytes)']+data['Social Media UL (Bytes)']\n",
        "data['Netflix'] = data['Netflix DL (Bytes)'] + data['Netflix UL (Bytes)']\n",
        "data['Youtube'] = data['Youtube DL (Bytes)'] + data['Youtube UL (Bytes)']\n",
        "data['Google'] = data['Google DL (Bytes)'] + data['Google UL (Bytes)']\n",
        "data['Email'] = data['Email DL (Bytes)'] + data['Email UL (Bytes)']\n",
        "data['Other'] = data['Other DL (Bytes)'] + data['Other UL (Bytes)']"
      ],
      "execution_count": null,
      "outputs": []
    },
    {
      "cell_type": "code",
      "metadata": {
        "id": "4EQpGXY8zNad",
        "colab_type": "code",
        "colab": {}
      },
      "source": [
        "# create a dataframe to store the values\n",
        "application = pd.DataFrame(data, columns = ['Social Media','Netflix','Youtube','Google','Email','Other'])\n",
        "total_app = application.sum()"
      ],
      "execution_count": null,
      "outputs": []
    },
    {
      "cell_type": "code",
      "metadata": {
        "id": "TlzIysUmzaA4",
        "colab_type": "code",
        "colab": {
          "base_uri": "https://localhost:8080/",
          "height": 136
        },
        "outputId": "b1066513-9919-470d-fcee-f2259898e02b"
      },
      "source": [
        "# sort\n",
        "total_app.sort_values(ascending = False)"
      ],
      "execution_count": null,
      "outputs": [
        {
          "output_type": "execute_result",
          "data": {
            "text/plain": [
              "Other           6.440523e+13\n",
              "Youtube         3.396545e+12\n",
              "Netflix         3.394314e+12\n",
              "Google          1.171102e+12\n",
              "Email           3.388676e+11\n",
              "Social Media    2.742394e+11\n",
              "dtype: float64"
            ]
          },
          "metadata": {
            "tags": []
          },
          "execution_count": 44
        }
      ]
    },
    {
      "cell_type": "code",
      "metadata": {
        "id": "XJOJ-j19zbCM",
        "colab_type": "code",
        "colab": {
          "base_uri": "https://localhost:8080/",
          "height": 85
        },
        "outputId": "b3543acb-c956-46bb-9909-1d4acf47977b"
      },
      "source": [
        "# display the top 3 apps\n",
        "top3_app = total_app.sort_values(ascending = False).head(3)\n",
        "top3_app"
      ],
      "execution_count": null,
      "outputs": [
        {
          "output_type": "execute_result",
          "data": {
            "text/plain": [
              "Other      6.440523e+13\n",
              "Youtube    3.396545e+12\n",
              "Netflix    3.394314e+12\n",
              "dtype: float64"
            ]
          },
          "metadata": {
            "tags": []
          },
          "execution_count": 45
        }
      ]
    },
    {
      "cell_type": "code",
      "metadata": {
        "id": "rS2zJdQf1QDZ",
        "colab_type": "code",
        "colab": {
          "base_uri": "https://localhost:8080/",
          "height": 293
        },
        "outputId": "4826a188-37b1-40bf-84b2-a9432c9411f0"
      },
      "source": [
        "#visualize top 3 app\n",
        "top3_app.plot.bar(x = top3_app,y=None,rot = 0)"
      ],
      "execution_count": null,
      "outputs": [
        {
          "output_type": "execute_result",
          "data": {
            "text/plain": [
              "<matplotlib.axes._subplots.AxesSubplot at 0x7f4e38eccc50>"
            ]
          },
          "metadata": {
            "tags": []
          },
          "execution_count": 46
        },
        {
          "output_type": "display_data",
          "data": {
            "image/png": "[encoded data removed]",
            "text/plain": [
              "<Figure size 432x288 with 1 Axes>"
            ]
          },
          "metadata": {
            "tags": [],
            "needs_background": "light"
          }
        }
      ]
    },
    {
      "cell_type": "code",
      "metadata": {
        "id": "jaRyZbKq9nsE",
        "colab_type": "code",
        "colab": {}
      },
      "source": [
        ""
      ],
      "execution_count": null,
      "outputs": []
    },
    {
      "cell_type": "code",
      "metadata": {
        "id": "hBobvV5N7gj4",
        "colab_type": "code",
        "colab": {}
      },
      "source": [
        ""
      ],
      "execution_count": null,
      "outputs": []
    },
    {
      "cell_type": "markdown",
      "metadata": {
        "id": "jnLjSP4J9m59",
        "colab_type": "text"
      },
      "source": [
        "# TASK 3"
      ]
    },
    {
      "cell_type": "markdown",
      "metadata": {
        "id": "ESnxgwMS_rKr",
        "colab_type": "text"
      },
      "source": [
        "## Task 3. 1"
      ]
    },
    {
      "cell_type": "markdown",
      "metadata": {
        "id": "_jZFBVAtA7XI",
        "colab_type": "text"
      },
      "source": [
        "### Aggregate, per customer for the following\n",
        "\n",
        "\n",
        "\n",
        "\n"
      ]
    },
    {
      "cell_type": "markdown",
      "metadata": {
        "id": "vkUujY2OBFEk",
        "colab_type": "text"
      },
      "source": [
        "#### 1. Average TCP retransmission"
      ]
    },
    {
      "cell_type": "code",
      "metadata": {
        "id": "GmQzpof7BhNr",
        "colab_type": "code",
        "colab": {}
      },
      "source": [
        "# findin total TCP retranmission\n",
        "data['TCP retransmission'] = (data['TCP DL Retrans. Vol (Bytes)'] + data['TCP UL Retrans. Vol (Bytes)'])\n",
        "total_tcp_retrans = data['TCP retransmission'].sum()"
      ],
      "execution_count": null,
      "outputs": []
    },
    {
      "cell_type": "code",
      "metadata": {
        "id": "c4hVUP-mDS4S",
        "colab_type": "code",
        "colab": {
          "base_uri": "https://localhost:8080/",
          "height": 34
        },
        "outputId": "ba1fad99-d424-4748-eb8d-cdc4d586dcb3"
      },
      "source": [
        "# Getting total number of customers\n",
        "customer_no = data['MSISDN/Number'].count()\n",
        "customer_no "
      ],
      "execution_count": null,
      "outputs": [
        {
          "output_type": "execute_result",
          "data": {
            "text/plain": [
              "150001"
            ]
          },
          "metadata": {
            "tags": []
          },
          "execution_count": 49
        }
      ]
    },
    {
      "cell_type": "code",
      "metadata": {
        "id": "VWWw5Dv8Dk5A",
        "colab_type": "code",
        "colab": {
          "base_uri": "https://localhost:8080/",
          "height": 34
        },
        "outputId": "dcc908ff-66fb-421e-d600-7a2f9f7ce24a"
      },
      "source": [
        "avg_tcp_retrans = total_tcp_retrans/customer_no\n",
        "avg_tcp_retrans"
      ],
      "execution_count": null,
      "outputs": [
        {
          "output_type": "execute_result",
          "data": {
            "text/plain": [
              "21569572.935152996"
            ]
          },
          "metadata": {
            "tags": []
          },
          "execution_count": 50
        }
      ]
    },
    {
      "cell_type": "code",
      "metadata": {
        "id": "EDWBTRNoCj3m",
        "colab_type": "code",
        "colab": {
          "base_uri": "https://localhost:8080/",
          "height": 221
        },
        "outputId": "7cb8a468-68ad-4735-ca64-f942f7b1b2e3"
      },
      "source": [
        "data['Total customer'] = data['MSISDN/Number'].count()\n",
        "data['Total customer'] "
      ],
      "execution_count": null,
      "outputs": [
        {
          "output_type": "execute_result",
          "data": {
            "text/plain": [
              "0         150001\n",
              "1         150001\n",
              "2         150001\n",
              "3         150001\n",
              "4         150001\n",
              "           ...  \n",
              "149996    150001\n",
              "149997    150001\n",
              "149998    150001\n",
              "149999    150001\n",
              "150000    150001\n",
              "Name: Total customer, Length: 150001, dtype: int64"
            ]
          },
          "metadata": {
            "tags": []
          },
          "execution_count": 51
        }
      ]
    },
    {
      "cell_type": "markdown",
      "metadata": {
        "id": "THJYgIqaBQrx",
        "colab_type": "text"
      },
      "source": [
        "#### 2. Average RTT"
      ]
    },
    {
      "cell_type": "code",
      "metadata": {
        "id": "PXHG3MAcBsqH",
        "colab_type": "code",
        "colab": {
          "base_uri": "https://localhost:8080/",
          "height": 34
        },
        "outputId": "ebbb5d29-c172-42da-81d8-db9aee8a31c6"
      },
      "source": [
        "# computing total rtt\n",
        "data['Total RTT'] = data['Avg RTT DL (ms)'] + data['Avg RTT UL (ms)']\n",
        "rtt = data['Total RTT'].sum()\n",
        "rtt"
      ],
      "execution_count": null,
      "outputs": [
        {
          "output_type": "execute_result",
          "data": {
            "text/plain": [
              "19118915.80328805"
            ]
          },
          "metadata": {
            "tags": []
          },
          "execution_count": 52
        }
      ]
    },
    {
      "cell_type": "code",
      "metadata": {
        "id": "OiXL86AEEi-5",
        "colab_type": "code",
        "colab": {
          "base_uri": "https://localhost:8080/",
          "height": 34
        },
        "outputId": "d548bec6-61c7-45ee-d56a-a57dcbdcb922"
      },
      "source": [
        "avg_rtt = rtt /  customer_no\n",
        "avg_rtt"
      ],
      "execution_count": null,
      "outputs": [
        {
          "output_type": "execute_result",
          "data": {
            "text/plain": [
              "127.45858896466056"
            ]
          },
          "metadata": {
            "tags": []
          },
          "execution_count": 53
        }
      ]
    },
    {
      "cell_type": "markdown",
      "metadata": {
        "id": "2BL9Re6tBU79",
        "colab_type": "text"
      },
      "source": [
        "#### 3. Handset type"
      ]
    },
    {
      "cell_type": "code",
      "metadata": {
        "id": "NuiVb8S-BtR0",
        "colab_type": "code",
        "colab": {
          "base_uri": "https://localhost:8080/",
          "height": 34
        },
        "outputId": "1efdb387-8921-45a5-95a7-905d8a8b84c8"
      },
      "source": [
        "handset = data['Handset Type'].count()\n",
        "handset"
      ],
      "execution_count": null,
      "outputs": [
        {
          "output_type": "execute_result",
          "data": {
            "text/plain": [
              "149429"
            ]
          },
          "metadata": {
            "tags": []
          },
          "execution_count": 54
        }
      ]
    },
    {
      "cell_type": "code",
      "metadata": {
        "id": "gT8ZzzpJFt9i",
        "colab_type": "code",
        "colab": {
          "base_uri": "https://localhost:8080/",
          "height": 34
        },
        "outputId": "632ff5da-b129-4316-a2f1-baf932a6d62d"
      },
      "source": [
        "avg_handset = handset/customer_no\n",
        "avg_handset"
      ],
      "execution_count": null,
      "outputs": [
        {
          "output_type": "execute_result",
          "data": {
            "text/plain": [
              "0.9961866920887195"
            ]
          },
          "metadata": {
            "tags": []
          },
          "execution_count": 55
        }
      ]
    },
    {
      "cell_type": "markdown",
      "metadata": {
        "id": "YeDhxdVbBXPl",
        "colab_type": "text"
      },
      "source": [
        "#### 4. Average throughput"
      ]
    },
    {
      "cell_type": "code",
      "metadata": {
        "id": "9GuMi0z2AnXB",
        "colab_type": "code",
        "colab": {}
      },
      "source": [
        "# compute average throughput\n",
        "data['Total Avg throughput'] = data['Avg Bearer TP DL (kbps)'] + data['Avg Bearer TP UL (kbps)']"
      ],
      "execution_count": null,
      "outputs": []
    },
    {
      "cell_type": "code",
      "metadata": {
        "id": "_trE-AHDH53z",
        "colab_type": "code",
        "colab": {
          "base_uri": "https://localhost:8080/",
          "height": 34
        },
        "outputId": "a97e45a1-63ed-4926-bc9e-fa24b2a1d576"
      },
      "source": [
        "total_avg_throughput = data['Total Avg throughput'].sum()\n",
        "total_avg_throughput"
      ],
      "execution_count": null,
      "outputs": [
        {
          "output_type": "execute_result",
          "data": {
            "text/plain": [
              "2260586256.474573"
            ]
          },
          "metadata": {
            "tags": []
          },
          "execution_count": 57
        }
      ]
    },
    {
      "cell_type": "code",
      "metadata": {
        "id": "bfdc2n3CJBc-",
        "colab_type": "code",
        "colab": {
          "base_uri": "https://localhost:8080/",
          "height": 34
        },
        "outputId": "99a68ede-8a58-4bb2-fb41-d22a9c6f4bff"
      },
      "source": [
        "# average throughput per customer\n",
        "avg_throughput = total_avg_throughput/customer_no\n",
        "avg_throughput"
      ],
      "execution_count": null,
      "outputs": [
        {
          "output_type": "execute_result",
          "data": {
            "text/plain": [
              "15070.474573333331"
            ]
          },
          "metadata": {
            "tags": []
          },
          "execution_count": 58
        }
      ]
    },
    {
      "cell_type": "markdown",
      "metadata": {
        "id": "Nkpwdfz0X0pM",
        "colab_type": "text"
      },
      "source": [
        "## Task 3.2 "
      ]
    },
    {
      "cell_type": "markdown",
      "metadata": {
        "id": "ykP5xaA0Ku_W",
        "colab_type": "text"
      },
      "source": [
        "### Compute & list 10 of the top, bottom and most frequent of:"
      ]
    },
    {
      "cell_type": "markdown",
      "metadata": {
        "id": "RkLOPJisK2Ko",
        "colab_type": "text"
      },
      "source": [
        "####TCP values in the dataset. \n"
      ]
    },
    {
      "cell_type": "code",
      "metadata": {
        "id": "vZo7L1lhK-ta",
        "colab_type": "code",
        "colab": {
          "base_uri": "https://localhost:8080/",
          "height": 51
        },
        "outputId": "4edfe965-484a-4907-b56c-c48123d5e5a6"
      },
      "source": [
        "data['TCP retransmission'].mode()"
      ],
      "execution_count": null,
      "outputs": [
        {
          "output_type": "execute_result",
          "data": {
            "text/plain": [
              "0    2.156957e+07\n",
              "dtype: float64"
            ]
          },
          "metadata": {
            "tags": []
          },
          "execution_count": 59
        }
      ]
    },
    {
      "cell_type": "code",
      "metadata": {
        "id": "UsxX2NCtQ09N",
        "colab_type": "code",
        "colab": {
          "base_uri": "https://localhost:8080/",
          "height": 204
        },
        "outputId": "d8ccb2b9-c45a-4a86-c017-b796640d2c84"
      },
      "source": [
        "data['TCP retransmission'].sort_values(ascending = False).head(10)"
      ],
      "execution_count": null,
      "outputs": [
        {
          "output_type": "execute_result",
          "data": {
            "text/plain": [
              "34636     4.344116e+09\n",
              "140797    4.301477e+09\n",
              "77950     4.294432e+09\n",
              "135677    4.291465e+09\n",
              "3741      4.288121e+09\n",
              "119667    4.275492e+09\n",
              "39608     4.268647e+09\n",
              "59011     4.261616e+09\n",
              "76971     4.260174e+09\n",
              "41182     4.254660e+09\n",
              "Name: TCP retransmission, dtype: float64"
            ]
          },
          "metadata": {
            "tags": []
          },
          "execution_count": 60
        }
      ]
    },
    {
      "cell_type": "code",
      "metadata": {
        "id": "C-2uLEfEQ-kq",
        "colab_type": "code",
        "colab": {
          "base_uri": "https://localhost:8080/",
          "height": 204
        },
        "outputId": "a95a7232-edb1-44f1-b2c2-7d77319f20ec"
      },
      "source": [
        "data['TCP retransmission'].sort_values(ascending = False).tail(10)"
      ],
      "execution_count": null,
      "outputs": [
        {
          "output_type": "execute_result",
          "data": {
            "text/plain": [
              "12849     143.0\n",
              "95955     134.0\n",
              "83214     134.0\n",
              "99947     129.0\n",
              "8794      128.0\n",
              "97061     113.0\n",
              "13142     108.0\n",
              "18417     106.0\n",
              "111100     97.0\n",
              "143594     86.0\n",
              "Name: TCP retransmission, dtype: float64"
            ]
          },
          "metadata": {
            "tags": []
          },
          "execution_count": 61
        }
      ]
    },
    {
      "cell_type": "markdown",
      "metadata": {
        "id": "T6jGi4hlK_QG",
        "colab_type": "text"
      },
      "source": [
        "#### RTT values in the dataset."
      ]
    },
    {
      "cell_type": "code",
      "metadata": {
        "id": "VMddMiznLAG-",
        "colab_type": "code",
        "colab": {
          "base_uri": "https://localhost:8080/",
          "height": 51
        },
        "outputId": "189b4051-6d08-4268-bdee-eabb3c5fa5ac"
      },
      "source": [
        "data['Total RTT'].mode()"
      ],
      "execution_count": null,
      "outputs": [
        {
          "output_type": "execute_result",
          "data": {
            "text/plain": [
              "0    127.458589\n",
              "dtype: float64"
            ]
          },
          "metadata": {
            "tags": []
          },
          "execution_count": 62
        }
      ]
    },
    {
      "cell_type": "code",
      "metadata": {
        "id": "llZhp7a7Tj5g",
        "colab_type": "code",
        "colab": {
          "base_uri": "https://localhost:8080/",
          "height": 204
        },
        "outputId": "4b2065ba-a3fd-472d-9e6b-1d1fd1feabb7"
      },
      "source": [
        "data['Total RTT'].sort_values(ascending = False).head(10)"
      ],
      "execution_count": null,
      "outputs": [
        {
          "output_type": "execute_result",
          "data": {
            "text/plain": [
              "30155     96924.0\n",
              "29916     64641.0\n",
              "17894     55812.0\n",
              "5963      54848.0\n",
              "22839     27278.0\n",
              "23442     26300.0\n",
              "1361      25922.0\n",
              "81256     25715.0\n",
              "97312     25388.0\n",
              "100575    24738.0\n",
              "Name: Total RTT, dtype: float64"
            ]
          },
          "metadata": {
            "tags": []
          },
          "execution_count": 63
        }
      ]
    },
    {
      "cell_type": "code",
      "metadata": {
        "id": "Hka98aSRTn4I",
        "colab_type": "code",
        "colab": {
          "base_uri": "https://localhost:8080/",
          "height": 204
        },
        "outputId": "fb03c91a-c1fa-4773-cf4a-0b86d23c491b"
      },
      "source": [
        "data['Total RTT'].sort_values(ascending = False).tail(10)"
      ],
      "execution_count": null,
      "outputs": [
        {
          "output_type": "execute_result",
          "data": {
            "text/plain": [
              "8756      6.0\n",
              "123210    6.0\n",
              "103544    5.0\n",
              "50966     4.0\n",
              "144923    4.0\n",
              "71738     2.0\n",
              "42602     0.0\n",
              "124538    0.0\n",
              "103321    0.0\n",
              "143878    0.0\n",
              "Name: Total RTT, dtype: float64"
            ]
          },
          "metadata": {
            "tags": []
          },
          "execution_count": 64
        }
      ]
    },
    {
      "cell_type": "markdown",
      "metadata": {
        "id": "0SJGkDM4UYwx",
        "colab_type": "text"
      },
      "source": [
        "#### Average Througput"
      ]
    },
    {
      "cell_type": "code",
      "metadata": {
        "id": "IGZERRWTUusY",
        "colab_type": "code",
        "colab": {
          "base_uri": "https://localhost:8080/",
          "height": 51
        },
        "outputId": "aad755be-5429-4b95-9f71-bf25f99e746b"
      },
      "source": [
        "# most frequent \n",
        "data['Total Avg throughput'].mode()"
      ],
      "execution_count": null,
      "outputs": [
        {
          "output_type": "execute_result",
          "data": {
            "text/plain": [
              "0    63.0\n",
              "dtype: float64"
            ]
          },
          "metadata": {
            "tags": []
          },
          "execution_count": 65
        }
      ]
    },
    {
      "cell_type": "code",
      "metadata": {
        "id": "pFHoUGNPW4f5",
        "colab_type": "code",
        "colab": {
          "base_uri": "https://localhost:8080/",
          "height": 204
        },
        "outputId": "5644b4cd-bc02-4e1d-e643-2b2f53962806"
      },
      "source": [
        "# top 10 values of Evg throughput\n",
        "data['Total Avg throughput'].sort_values(ascending = False).head(10)"
      ],
      "execution_count": null,
      "outputs": [
        {
          "output_type": "execute_result",
          "data": {
            "text/plain": [
              "120876    382262.0\n",
              "143670    313244.0\n",
              "141250    304299.0\n",
              "91298     300546.0\n",
              "116794    283931.0\n",
              "141449    281144.0\n",
              "149616    277152.0\n",
              "92177     276205.0\n",
              "116550    274052.0\n",
              "117776    269888.0\n",
              "Name: Total Avg throughput, dtype: float64"
            ]
          },
          "metadata": {
            "tags": []
          },
          "execution_count": 66
        }
      ]
    },
    {
      "cell_type": "code",
      "metadata": {
        "id": "ugg1QxNHW_Jf",
        "colab_type": "code",
        "colab": {
          "base_uri": "https://localhost:8080/",
          "height": 204
        },
        "outputId": "b6a24d4e-0fd9-4744-b4c1-8a51b66d4e96"
      },
      "source": [
        "# bottom 10 \n",
        "data['Total Avg throughput'].sort_values(ascending = False).tail(10)"
      ],
      "execution_count": null,
      "outputs": [
        {
          "output_type": "execute_result",
          "data": {
            "text/plain": [
              "80605     0.0\n",
              "47392     0.0\n",
              "12131     0.0\n",
              "20506     0.0\n",
              "8844      0.0\n",
              "23355     0.0\n",
              "58398     0.0\n",
              "135713    0.0\n",
              "51720     0.0\n",
              "65133     0.0\n",
              "Name: Total Avg throughput, dtype: float64"
            ]
          },
          "metadata": {
            "tags": []
          },
          "execution_count": 67
        }
      ]
    },
    {
      "cell_type": "markdown",
      "metadata": {
        "id": "u2_6GV6HXkC1",
        "colab_type": "text"
      },
      "source": [
        "## Task 3.3"
      ]
    },
    {
      "cell_type": "markdown",
      "metadata": {
        "id": "K4NZTk3bXqET",
        "colab_type": "text"
      },
      "source": [
        "The distribution of the average throughput  per handset type and provide interpretation for your findings.\n"
      ]
    },
    {
      "cell_type": "code",
      "metadata": {
        "id": "_0KyLQgRXvJ_",
        "colab_type": "code",
        "colab": {
          "base_uri": "https://localhost:8080/",
          "height": 34
        },
        "outputId": "a0cb79cc-8a92-4c2c-8adc-a122f5f9ee01"
      },
      "source": [
        "avg_handset/avg_throughput"
      ],
      "execution_count": null,
      "outputs": [
        {
          "output_type": "execute_result",
          "data": {
            "text/plain": [
              "6.610187935630351e-05"
            ]
          },
          "metadata": {
            "tags": []
          },
          "execution_count": 68
        }
      ]
    },
    {
      "cell_type": "markdown",
      "metadata": {
        "id": "EFT6br5bXtPt",
        "colab_type": "text"
      },
      "source": [
        "The average TCP retransmission view per handset type and provide interpretation for your findings.\n"
      ]
    },
    {
      "cell_type": "code",
      "metadata": {
        "id": "E8LX3Q6ZXwWP",
        "colab_type": "code",
        "colab": {
          "base_uri": "https://localhost:8080/",
          "height": 34
        },
        "outputId": "64b1a741-d3dc-43e2-d7b1-2e096ae4f22c"
      },
      "source": [
        "avg_handset/avg_tcp_retrans"
      ],
      "execution_count": null,
      "outputs": [
        {
          "output_type": "execute_result",
          "data": {
            "text/plain": [
              "4.6184812980936904e-08"
            ]
          },
          "metadata": {
            "tags": []
          },
          "execution_count": 69
        }
      ]
    },
    {
      "cell_type": "code",
      "metadata": {
        "id": "5GY2x9xZZCzw",
        "colab_type": "code",
        "colab": {}
      },
      "source": [
        ""
      ],
      "execution_count": null,
      "outputs": []
    },
    {
      "cell_type": "markdown",
      "metadata": {
        "id": "d1x7SctrY3AG",
        "colab_type": "text"
      },
      "source": [
        "## Task 3.4 \n"
      ]
    },
    {
      "cell_type": "markdown",
      "metadata": {
        "id": "Ln62lMzhY8L_",
        "colab_type": "text"
      },
      "source": [
        "### Using the experience metrics above, perform a k-means clustering (where k = 3) to segment users into groups of experiences and provide a brief description of each cluster. "
      ]
    },
    {
      "cell_type": "code",
      "metadata": {
        "id": "warZUwqcZD56",
        "colab_type": "code",
        "colab": {}
      },
      "source": [
        ""
      ],
      "execution_count": null,
      "outputs": []
    }
  ]
}