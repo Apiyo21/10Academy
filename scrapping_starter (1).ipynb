{
 "cells": [
  {
   "cell_type": "markdown",
   "metadata": {},
   "source": [
    "\n",
    "\n",
    "\n",
    "\n",
    "\n",
    "\n",
    "\n",
    "\n",
    "\n",
    "## Web scrapping using python\n",
    "\n",
    "#### References\n",
    "1. [Practical Introduction to Web Scraping in Python](https://realpython.com/python-web-scraping-practical-introduction/)\n",
    "2. [Web Scraping using Python](https://www.datacamp.com/community/tutorials/web-scraping-using-python)"
   ]
  },
  {
   "cell_type": "code",
   "execution_count": null,
   "metadata": {},
   "outputs": [],
   "source": [
    "# $ python3 -m venv venv\n",
    "# $ . ./venv/bin/activate"
   ]
  },
  {
   "cell_type": "code",
   "execution_count": 1,
   "metadata": {
    "ExecuteTime": {
     "end_time": "2020-07-14T15:00:25.199711Z",
     "start_time": "2020-07-14T14:59:46.637748Z"
    }
   },
   "outputs": [
    {
     "name": "stdout",
     "output_type": "stream",
     "text": [
      "Collecting requests\n",
      "  Downloading requests-2.24.0-py2.py3-none-any.whl (61 kB)\n",
      "Collecting BeautifulSoup4\n",
      "  Downloading beautifulsoup4-4.9.1-py3-none-any.whl (115 kB)\n",
      "Collecting fire\n",
      "  Downloading fire-0.3.1.tar.gz (81 kB)\n",
      "Collecting certifi>=2017.4.17\n",
      "  Downloading certifi-2020.6.20-py2.py3-none-any.whl (156 kB)\n",
      "Collecting urllib3!=1.25.0,!=1.25.1,<1.26,>=1.21.1\n",
      "  Downloading urllib3-1.25.9-py2.py3-none-any.whl (126 kB)\n",
      "Collecting chardet<4,>=3.0.2\n",
      "  Downloading chardet-3.0.4-py2.py3-none-any.whl (133 kB)\n",
      "Collecting idna<3,>=2.5\n",
      "  Downloading idna-2.10-py2.py3-none-any.whl (58 kB)\n",
      "Collecting soupsieve>1.2\n",
      "  Downloading soupsieve-2.0.1-py3-none-any.whl (32 kB)\n",
      "Requirement already satisfied: six in c:\\users\\memory ogwari\\appdata\\local\\programs\\python\\python37\\lib\\site-packages (from fire) (1.14.0)\n",
      "Requirement already satisfied: termcolor in c:\\users\\memory ogwari\\appdata\\local\\programs\\python\\python37\\lib\\site-packages (from fire) (1.1.0)\n",
      "Building wheels for collected packages: fire\n",
      "  Building wheel for fire (setup.py): started\n",
      "  Building wheel for fire (setup.py): finished with status 'done'\n",
      "  Created wheel for fire: filename=fire-0.3.1-py2.py3-none-any.whl size=111010 sha256=c49bc365d8674c2583dd74df6d0cb8bd23609f4cd721d2889fa97f9dafef1850\n",
      "  Stored in directory: c:\\users\\memory ogwari\\appdata\\local\\pip\\cache\\wheels\\95\\38\\e1\\8b62337a8ecf5728bdc1017e828f253f7a9cf25db999861bec\n",
      "Successfully built fire\n",
      "Installing collected packages: certifi, urllib3, chardet, idna, requests, soupsieve, BeautifulSoup4, fire\n",
      "Successfully installed BeautifulSoup4-4.9.1 certifi-2020.6.20 chardet-3.0.4 fire-0.3.1 idna-2.10 requests-2.24.0 soupsieve-2.0.1 urllib3-1.25.9\n"
     ]
    }
   ],
   "source": [
    "#Better\n",
    "!pip install requests BeautifulSoup4 fire"
   ]
  },
  {
   "cell_type": "code",
   "execution_count": 2,
   "metadata": {
    "ExecuteTime": {
     "end_time": "2020-07-14T15:02:57.114464Z",
     "start_time": "2020-07-14T15:01:17.133190Z"
    }
   },
   "outputs": [
    {
     "name": "stdout",
     "output_type": "stream",
     "text": [
      "Requirement already satisfied: pandas in c:\\users\\memory ogwari\\anaconda3\\lib\\site-packages (1.0.3)\n",
      "Requirement already satisfied: pytz>=2017.2 in c:\\users\\memory ogwari\\anaconda3\\lib\\site-packages (from pandas) (2020.1)\n",
      "Requirement already satisfied: numpy>=1.13.3 in c:\\users\\memory ogwari\\anaconda3\\lib\\site-packages (from pandas) (1.19.0)\n",
      "Requirement already satisfied: python-dateutil>=2.6.1 in c:\\users\\memory ogwari\\anaconda3\\lib\\site-packages (from pandas) (2.8.1)\n",
      "Requirement already satisfied: six>=1.5 in c:\\users\\memory ogwari\\anaconda3\\lib\\site-packages (from python-dateutil>=2.6.1->pandas) (1.15.0)\n"
     ]
    }
   ],
   "source": [
    "from requests import get\n",
    "from requests.exceptions import RequestException\n",
    "from contextlib import closing\n",
    "from bs4 import BeautifulSoup\n",
    "!pip install pandas\n",
    "import pandas as pd\n",
    "import os, sys\n",
    "\n",
    "import fire"
   ]
  },
  {
   "cell_type": "code",
   "execution_count": 14,
   "metadata": {
    "ExecuteTime": {
     "end_time": "2020-07-14T15:03:02.315639Z",
     "start_time": "2020-07-14T15:03:02.285655Z"
    }
   },
   "outputs": [],
   "source": [
    "#%%writefile ../pyscrap_url.py\n",
    "\n",
    "def simple_get(url):\n",
    "    \"\"\"\n",
    "    Attempts to get the content at `url` by making an HTTP GET request.\n",
    "    If the content-type of response is some kind of HTML/XML, return the\n",
    "    text content, otherwise return None.\n",
    "    \"\"\"\n",
    "    try:\n",
    "        with closing(get(url, stream=True)) as resp:\n",
    "            if is_good_response(resp):\n",
    "                return resp.content  #.encode(BeautifulSoup.original_encoding)\n",
    "            else:\n",
    "                return None\n",
    "\n",
    "    except RequestException as e:\n",
    "        log_error('Error during requests to {0} : {1}'.format(url, str(e)))\n",
    "        return None\n",
    "\n",
    "\n",
    "def is_good_response(resp):\n",
    "    \"\"\"\n",
    "    Returns True if the response seems to be HTML, False otherwise.\n",
    "    \"\"\"\n",
    "    content_type = resp.headers['Content-Type'].lower()\n",
    "    return (resp.status_code == 200 \n",
    "            and content_type is not None \n",
    "            and content_type.find('html') > -1)\n",
    "\n",
    "\n",
    "def log_error(e):\n",
    "    \"\"\"\n",
    "    It is always a good idea to log errors. \n",
    "    This function just prints them, but you can\n",
    "    make it do anything.\n",
    "    \"\"\"\n",
    "    print(e)\n",
    "    \n",
    "def get_elements(url, tag='',search={}, fname=None):\n",
    "    \"\"\"\n",
    "    Downloads a page specified by the url parameter\n",
    "    and returns a list of strings, one per tag element\n",
    "    \"\"\"\n",
    "    \n",
    "    if isinstance(url,str):\n",
    "        response = simple_get(url)\n",
    "    else:\n",
    "        #if already it is a loaded html page\n",
    "        response = url\n",
    "\n",
    "    if response is not None:\n",
    "        html = BeautifulSoup(response, 'html.parser')\n",
    "        \n",
    "        res = []\n",
    "        if tag:    \n",
    "            for li in html.select(tag):\n",
    "                for name in li.text.split('\\n'):\n",
    "                    if len(name) > 0:\n",
    "                        res.append(name.strip())\n",
    "                       \n",
    "                \n",
    "        if search:\n",
    "            soup = html            \n",
    "            \n",
    "            \n",
    "            r = ''\n",
    "            if 'find' in search.keys():\n",
    "                print('findaing',search['find'])\n",
    "                soup = soup.find(**search['find'])\n",
    "                r = soup\n",
    "\n",
    "                \n",
    "            if 'find_all' in search.keys():\n",
    "                print('findaing all of',search['find_all'])\n",
    "                r = soup.find_all(**search['find_all'])\n",
    "   \n",
    "            if r:\n",
    "                for x in list(r):\n",
    "                    if len(x) > 0:\n",
    "                        res.extend(x)\n",
    "            \n",
    "        return res\n",
    "\n",
    "    # Raise an exception if we failed to get any data from the url\n",
    "    raise Exception('Error retrieving contents at {}'.format(url))    \n",
    "    \n",
    "    \n",
    "if get_ipython().__class__.__name__ == '__main__':\n",
    "    fire(get_tag_elements)"
   ]
  },
  {
   "cell_type": "code",
   "execution_count": 15,
   "metadata": {
    "ExecuteTime": {
     "end_time": "2020-07-16T10:40:00.448992Z",
     "start_time": "2020-07-16T10:39:46.262372Z"
    }
   },
   "outputs": [
    {
     "data": {
      "text/plain": [
       "['100. Jeffrey Gettleman (@gettleman)',\n",
       " '99. Africa24 Media (@a24media)',\n",
       " '98. Scapegoat (@andiMakinana)',\n",
       " '97. Africa Check (@AfricaCheck)',\n",
       " '96. James Copnall (@JamesCopnall)',\n",
       " '95. Online Africa (@oafrica)',\n",
       " '94. Patrick Ngowi (@PatrickNgowi)',\n",
       " '93. DOS African Affairs (@StateAfrica)',\n",
       " '92. MoadowAJE (@Moadow)',\n",
       " '91. Brendan Boyle (@BrendanSAfrica)',\n",
       " '90. City of Tshwane (@CityTshwane)',\n",
       " '89. VISI Magazine (@VISI_Mag)',\n",
       " '88. andBeyond (@andBeyondSafari)',\n",
       " '87. This Is Africa (@ThisIsAfricaTIA)',\n",
       " '86. Sarah Carter (@sarzss)',\n",
       " '85. The EIU Africa team (@TheEIU_Africa)',\n",
       " '84. Investing In Africa (@InvestInAfrica)',\n",
       " '83. Barry Malone (@malonebarry)',\n",
       " '82. ARTsouthAFRICA (@artsouthafrica)',\n",
       " '81. Kahn Morbee (@KahnMorbee)',\n",
       " '80. Jamal Osman (@JamalMOsman)',\n",
       " '79. iamsuede™ (@iamsuede)',\n",
       " '78. Mike Stopforth (@mikestopforth)',\n",
       " '77. Equal Education (@equal_education)',\n",
       " '76. Tristan McConnell (@t_mcconnell)',\n",
       " '75. Kate Forbes (@forbeesta)',\n",
       " '74. Vanessa Raphaely (@hurricanevaness)',\n",
       " '73. Karen Allen (@BBCKarenAllen)',\n",
       " '72. Jax Panik (@jaxpanik)',\n",
       " '71. This Is Africa (@thisisafrica)',\n",
       " '70. Audi South Africa (@audisouthafrica)',\n",
       " '69. ONE (@ONEinAfrica)',\n",
       " '68. Hamza Mohamed (@Hamza_Africa)',\n",
       " '67. drew hinshaw (@drewfhinshaw)',\n",
       " '66. Rebecca Enonchong (@africatechie)',\n",
       " '65. marais (@cx73)',\n",
       " '64. George Ayittey (@ayittey)',\n",
       " '63. Mercedes-Benz SA (@MercedesBenz_SA)',\n",
       " '62. Africa Gathering (@africagathering)',\n",
       " '61. okayafrica (@okayafrica)',\n",
       " '60. Mary Harper (@mary_harper)',\n",
       " '59. Save the Rhino (@savetherhino)',\n",
       " '58. africa @pressfreedom (@africamedia_CPJ)',\n",
       " '57. TechCentral (@TechCentral)',\n",
       " '56. GautengGovt (@GautengProvince)',\n",
       " '55. Abdi Aynte (@Aynte)',\n",
       " '54. Daniel Howden (@daniel_howden)',\n",
       " '53. Ranger Diaries (@rangerdiaries)',\n",
       " '52. The Star (@TheStar_news)',\n",
       " '51. James Schneider (@schneiderhome)',\n",
       " '50. Afrinnovator (@Afrinnovator)',\n",
       " '49. theafricareport (@theafricareport)',\n",
       " '48. City of Joburg (@CityofJoburgZA)',\n",
       " '47. Think Africa Press (@ThinkAfricaFeed)',\n",
       " '46. Africa The Good News (@AfricaGoodNews)',\n",
       " '45. will ross (@willintune)',\n",
       " '44. CNBC Africa (@cnbcafrica)',\n",
       " '43. HowWeMadeItInAfrica (@MadeItInAfrica)',\n",
       " '42. Africa Research Inst (@AfricaResearch)',\n",
       " '41. FoodBlog Cape Town (@FoodBlogCT)',\n",
       " '40. Mbuyiseni Ndlozi (@MbuyiseniNdlozi)',\n",
       " '39. AfricaProgressPanel (@africaprogress)',\n",
       " '38. IFC Africa (@IFCAfrica)',\n",
       " '37. Henley Africa (@HenleyAfrica)',\n",
       " '36. The New Age (@The_New_Age)',\n",
       " '35. Geoffrey York (@geoffreyyork)',\n",
       " '34. Entrepreneur Mag SA (@Entrepreneur_SA)',\n",
       " '33. Forbes Africa (@forbesafrica)',\n",
       " '32. IEC South Africa (@IECSouthAfrica)',\n",
       " '31. Arthur Goldstuck (@art2gee)',\n",
       " '30. Jendayi E Frazer (@JendayiFrazer)',\n",
       " '29. Peter Greste (@PeterGreste)',\n",
       " '28. Disaster Operations (@NDOCKenya)',\n",
       " '27. Mo Ibrahim Fdn (@Mo_IbrahimFdn)',\n",
       " '26. Parliament of RSA (@ParliamentofRSA)',\n",
       " '25. Sandton City (@SandtonCity)',\n",
       " '24. African Union (@_AfricanUnion)',\n",
       " '23. Gert-Johan Coetzee (@gertjohan)',\n",
       " '22. David Smith (@SmithInAfrica)',\n",
       " '21. Ray Hartley (@hartleyr)',\n",
       " '20. Live Amp (@liveamp)',\n",
       " '19. Samsung South Africa (@SamsungSA)',\n",
       " '18. Bob Skinstad (@BobSkinstad)',\n",
       " '17. Camfed (@Camfed)',\n",
       " '16. andrew harding (@BBCAndrewH)',\n",
       " '15. Euphonik™♛ (@euphonik)',\n",
       " '14. Ulrich J van Vuuren (@UlrichJvV)',\n",
       " '13. John Robbie (@702JohnRobbie)',\n",
       " '12. Cricket South Africa (@OfficialCSA)',\n",
       " '11. MTV Base Africa (@MTVbaseAfrica)',\n",
       " '10. Computicket (@Computicket)',\n",
       " '9. loyiso gola (@loyisogola)',\n",
       " '8. 5FM (@5FM)',\n",
       " '7. mailandguardian (@mailandguardian)',\n",
       " '6. Helen Zille (@helenzille)',\n",
       " '5. Julius Sello Malema (@Julius_S_Malema)',\n",
       " '4. News24 (@News24)',\n",
       " '3. Jacob G. Zuma (@SAPresident)',\n",
       " '2. Gareth Cliff (@GarethCliff)',\n",
       " '1. Trevor Noah (@Trevornoah)',\n",
       " 'Subscribe to the list',\n",
       " 'Tweet about Africa?',\n",
       " 'Celebrate Wild Africa With Us!',\n",
       " 'You have successfully subscribed. Thank you!',\n",
       " '11 Comments']"
      ]
     },
     "execution_count": 15,
     "metadata": {},
     "output_type": "execute_result"
    }
   ],
   "source": [
    "res = get_elements('https://africafreak.com/100-most-influential-twitter-users-in-africa',tag ='h2')\n",
    "res\n"
   ]
  },
  {
   "cell_type": "code",
   "execution_count": 5,
   "metadata": {
    "ExecuteTime": {
     "end_time": "2020-07-16T10:10:58.591977Z",
     "start_time": "2020-07-16T10:10:58.521022Z"
    }
   },
   "outputs": [
    {
     "data": {
      "text/plain": [
       "['You have successfully subscribed. Thank you!',\n",
       " 'Tweet about Africa?',\n",
       " 'Subscribe to the list',\n",
       " 'Celebrate Wild Africa With Us!',\n",
       " '99. Africa24 Media (@a24media)',\n",
       " '98. Scapegoat (@andiMakinana)',\n",
       " '97. Africa Check (@AfricaCheck)',\n",
       " '96. James Copnall (@JamesCopnall)',\n",
       " '95. Online Africa (@oafrica)',\n",
       " '94. Patrick Ngowi (@PatrickNgowi)',\n",
       " '93. DOS African Affairs (@StateAfrica)',\n",
       " '92. MoadowAJE (@Moadow)',\n",
       " '91. Brendan Boyle (@BrendanSAfrica)',\n",
       " '90. City of Tshwane (@CityTshwane)',\n",
       " '9. loyiso gola (@loyisogola)',\n",
       " '89. VISI Magazine (@VISI_Mag)',\n",
       " '88. andBeyond (@andBeyondSafari)',\n",
       " '87. This Is Africa (@ThisIsAfricaTIA)',\n",
       " '86. Sarah Carter (@sarzss)',\n",
       " '85. The EIU Africa team (@TheEIU_Africa)',\n",
       " '84. Investing In Africa (@InvestInAfrica)',\n",
       " '83. Barry Malone (@malonebarry)',\n",
       " '82. ARTsouthAFRICA (@artsouthafrica)',\n",
       " '81. Kahn Morbee (@KahnMorbee)',\n",
       " '80. Jamal Osman (@JamalMOsman)',\n",
       " '8. 5FM (@5FM)',\n",
       " '79. iamsuede™ (@iamsuede)',\n",
       " '78. Mike Stopforth (@mikestopforth)',\n",
       " '77. Equal Education (@equal_education)',\n",
       " '76. Tristan McConnell (@t_mcconnell)',\n",
       " '75. Kate Forbes (@forbeesta)',\n",
       " '74. Vanessa Raphaely (@hurricanevaness)',\n",
       " '73. Karen Allen (@BBCKarenAllen)',\n",
       " '72. Jax Panik (@jaxpanik)',\n",
       " '71. This Is Africa (@thisisafrica)',\n",
       " '70. Audi South Africa (@audisouthafrica)',\n",
       " '7. mailandguardian (@mailandguardian)',\n",
       " '69. ONE (@ONEinAfrica)',\n",
       " '68. Hamza Mohamed (@Hamza_Africa)',\n",
       " '67. drew hinshaw (@drewfhinshaw)',\n",
       " '66. Rebecca Enonchong (@africatechie)',\n",
       " '65. marais (@cx73)',\n",
       " '64. George Ayittey (@ayittey)',\n",
       " '63. Mercedes-Benz SA (@MercedesBenz_SA)',\n",
       " '62. Africa Gathering (@africagathering)',\n",
       " '61. okayafrica (@okayafrica)',\n",
       " '60. Mary Harper (@mary_harper)',\n",
       " '6. Helen Zille (@helenzille)',\n",
       " '59. Save the Rhino (@savetherhino)',\n",
       " '58. africa @pressfreedom (@africamedia_CPJ)',\n",
       " '57. TechCentral (@TechCentral)',\n",
       " '56. GautengGovt (@GautengProvince)',\n",
       " '55. Abdi Aynte (@Aynte)',\n",
       " '54. Daniel Howden (@daniel_howden)',\n",
       " '53. Ranger Diaries (@rangerdiaries)',\n",
       " '52. The Star (@TheStar_news)',\n",
       " '51. James Schneider (@schneiderhome)',\n",
       " '50. Afrinnovator (@Afrinnovator)',\n",
       " '5. Julius Sello Malema (@Julius_S_Malema)',\n",
       " '49. theafricareport (@theafricareport)',\n",
       " '48. City of Joburg (@CityofJoburgZA)',\n",
       " '47. Think Africa Press (@ThinkAfricaFeed)',\n",
       " '46. Africa The Good News (@AfricaGoodNews)',\n",
       " '45. will ross (@willintune)',\n",
       " '44. CNBC Africa (@cnbcafrica)',\n",
       " '43. HowWeMadeItInAfrica (@MadeItInAfrica)',\n",
       " '42. Africa Research Inst (@AfricaResearch)',\n",
       " '41. FoodBlog Cape Town (@FoodBlogCT)',\n",
       " '40. Mbuyiseni Ndlozi (@MbuyiseniNdlozi)',\n",
       " '4. News24 (@News24)',\n",
       " '39. AfricaProgressPanel (@africaprogress)',\n",
       " '38. IFC Africa (@IFCAfrica)',\n",
       " '37. Henley Africa (@HenleyAfrica)',\n",
       " '36. The New Age (@The_New_Age)',\n",
       " '35. Geoffrey York (@geoffreyyork)',\n",
       " '34. Entrepreneur Mag SA (@Entrepreneur_SA)',\n",
       " '33. Forbes Africa (@forbesafrica)',\n",
       " '32. IEC South Africa (@IECSouthAfrica)',\n",
       " '31. Arthur Goldstuck (@art2gee)',\n",
       " '30. Jendayi E Frazer (@JendayiFrazer)',\n",
       " '3. Jacob G. Zuma (@SAPresident)',\n",
       " '29. Peter Greste (@PeterGreste)',\n",
       " '28. Disaster Operations (@NDOCKenya)',\n",
       " '27. Mo Ibrahim Fdn (@Mo_IbrahimFdn)',\n",
       " '26. Parliament of RSA (@ParliamentofRSA)',\n",
       " '25. Sandton City (@SandtonCity)',\n",
       " '24. African Union (@_AfricanUnion)',\n",
       " '23. Gert-Johan Coetzee (@gertjohan)',\n",
       " '22. David Smith (@SmithInAfrica)',\n",
       " '21. Ray Hartley (@hartleyr)',\n",
       " '20. Live Amp (@liveamp)',\n",
       " '2. Gareth Cliff (@GarethCliff)',\n",
       " '19. Samsung South Africa (@SamsungSA)',\n",
       " '18. Bob Skinstad (@BobSkinstad)',\n",
       " '17. Camfed (@Camfed)',\n",
       " '16. andrew harding (@BBCAndrewH)',\n",
       " '15. Euphonik™♛ (@euphonik)',\n",
       " '14. Ulrich J van Vuuren (@UlrichJvV)',\n",
       " '13. John Robbie (@702JohnRobbie)',\n",
       " '12. Cricket South Africa (@OfficialCSA)',\n",
       " '11. MTV Base Africa (@MTVbaseAfrica)',\n",
       " '11 Comments',\n",
       " '100. Jeffrey Gettleman (@gettleman)',\n",
       " '10. Computicket (@Computicket)',\n",
       " '1. Trevor Noah (@Trevornoah)']"
      ]
     },
     "execution_count": 5,
     "metadata": {},
     "output_type": "execute_result"
    }
   ],
   "source": [
    "res.sort(reverse=True)\n",
    "res"
   ]
  },
  {
   "cell_type": "code",
   "execution_count": 21,
   "metadata": {
    "ExecuteTime": {
     "end_time": "2020-07-16T10:14:06.656429Z",
     "start_time": "2020-07-16T10:14:06.605457Z"
    }
   },
   "outputs": [
    {
     "ename": "TypeError",
     "evalue": "expected string or bytes-like object",
     "output_type": "error",
     "traceback": [
      "\u001b[1;31m---------------------------------------------------------------------------\u001b[0m",
      "\u001b[1;31mTypeError\u001b[0m                                 Traceback (most recent call last)",
      "\u001b[1;32m<ipython-input-21-ae53800067ef>\u001b[0m in \u001b[0;36m<module>\u001b[1;34m\u001b[0m\n\u001b[1;32m----> 1\u001b[1;33m \u001b[0mobj\u001b[0m \u001b[1;33m=\u001b[0m \u001b[0mBeautifulSoup\u001b[0m\u001b[1;33m(\u001b[0m\u001b[0mres\u001b[0m\u001b[1;33m,\u001b[0m \u001b[1;34m'lxml'\u001b[0m\u001b[1;33m)\u001b[0m\u001b[1;33m\u001b[0m\u001b[1;33m\u001b[0m\u001b[0m\n\u001b[0m\u001b[0;32m      2\u001b[0m \u001b[1;33m\u001b[0m\u001b[0m\n\u001b[0;32m      3\u001b[0m \u001b[1;31m#extracting the header\u001b[0m\u001b[1;33m\u001b[0m\u001b[1;33m\u001b[0m\u001b[1;33m\u001b[0m\u001b[0m\n\u001b[0;32m      4\u001b[0m \u001b[0mheaders\u001b[0m\u001b[1;33m=\u001b[0m \u001b[1;33m[\u001b[0m\u001b[0mx\u001b[0m\u001b[1;33m.\u001b[0m\u001b[0mtext\u001b[0m \u001b[1;32mfor\u001b[0m \u001b[0mx\u001b[0m \u001b[1;32min\u001b[0m \u001b[0mobj\u001b[0m\u001b[1;33m.\u001b[0m\u001b[0mfindAll\u001b[0m\u001b[1;33m(\u001b[0m\u001b[1;34m\"h2\"\u001b[0m\u001b[1;33m)\u001b[0m \u001b[1;32mif\u001b[0m \u001b[1;34m'@'\u001b[0m \u001b[1;32min\u001b[0m \u001b[0mx\u001b[0m\u001b[1;33m.\u001b[0m\u001b[0mtext\u001b[0m\u001b[1;33m]\u001b[0m\u001b[1;33m\u001b[0m\u001b[1;33m\u001b[0m\u001b[0m\n\u001b[0;32m      5\u001b[0m \u001b[0mheaders\u001b[0m\u001b[1;33m\u001b[0m\u001b[1;33m\u001b[0m\u001b[0m\n",
      "\u001b[1;32m~\\anaconda3\\lib\\site-packages\\bs4\\__init__.py\u001b[0m in \u001b[0;36m__init__\u001b[1;34m(self, markup, features, builder, parse_only, from_encoding, exclude_encodings, element_classes, **kwargs)\u001b[0m\n\u001b[0;32m    340\u001b[0m          \u001b[0mself\u001b[0m\u001b[1;33m.\u001b[0m\u001b[0mcontains_replacement_characters\u001b[0m\u001b[1;33m)\u001b[0m \u001b[1;32min\u001b[0m \u001b[1;33m(\u001b[0m\u001b[1;33m\u001b[0m\u001b[1;33m\u001b[0m\u001b[0m\n\u001b[0;32m    341\u001b[0m              self.builder.prepare_markup(\n\u001b[1;32m--> 342\u001b[1;33m                  markup, from_encoding, exclude_encodings=exclude_encodings)):\n\u001b[0m\u001b[0;32m    343\u001b[0m             \u001b[0mself\u001b[0m\u001b[1;33m.\u001b[0m\u001b[0mreset\u001b[0m\u001b[1;33m(\u001b[0m\u001b[1;33m)\u001b[0m\u001b[1;33m\u001b[0m\u001b[1;33m\u001b[0m\u001b[0m\n\u001b[0;32m    344\u001b[0m             \u001b[1;32mtry\u001b[0m\u001b[1;33m:\u001b[0m\u001b[1;33m\u001b[0m\u001b[1;33m\u001b[0m\u001b[0m\n",
      "\u001b[1;32m~\\anaconda3\\lib\\site-packages\\bs4\\builder\\_lxml.py\u001b[0m in \u001b[0;36mprepare_markup\u001b[1;34m(self, markup, user_specified_encoding, exclude_encodings, document_declared_encoding)\u001b[0m\n\u001b[0;32m    184\u001b[0m         detector = EncodingDetector(\n\u001b[0;32m    185\u001b[0m             markup, try_encodings, is_html, exclude_encodings)\n\u001b[1;32m--> 186\u001b[1;33m         \u001b[1;32mfor\u001b[0m \u001b[0mencoding\u001b[0m \u001b[1;32min\u001b[0m \u001b[0mdetector\u001b[0m\u001b[1;33m.\u001b[0m\u001b[0mencodings\u001b[0m\u001b[1;33m:\u001b[0m\u001b[1;33m\u001b[0m\u001b[1;33m\u001b[0m\u001b[0m\n\u001b[0m\u001b[0;32m    187\u001b[0m             \u001b[1;32myield\u001b[0m \u001b[1;33m(\u001b[0m\u001b[0mdetector\u001b[0m\u001b[1;33m.\u001b[0m\u001b[0mmarkup\u001b[0m\u001b[1;33m,\u001b[0m \u001b[0mencoding\u001b[0m\u001b[1;33m,\u001b[0m \u001b[0mdocument_declared_encoding\u001b[0m\u001b[1;33m,\u001b[0m \u001b[1;32mFalse\u001b[0m\u001b[1;33m)\u001b[0m\u001b[1;33m\u001b[0m\u001b[1;33m\u001b[0m\u001b[0m\n\u001b[0;32m    188\u001b[0m \u001b[1;33m\u001b[0m\u001b[0m\n",
      "\u001b[1;32m~\\anaconda3\\lib\\site-packages\\bs4\\dammit.py\u001b[0m in \u001b[0;36mencodings\u001b[1;34m(self)\u001b[0m\n\u001b[0;32m    300\u001b[0m         \u001b[1;32mif\u001b[0m \u001b[0mself\u001b[0m\u001b[1;33m.\u001b[0m\u001b[0mdeclared_encoding\u001b[0m \u001b[1;32mis\u001b[0m \u001b[1;32mNone\u001b[0m\u001b[1;33m:\u001b[0m\u001b[1;33m\u001b[0m\u001b[1;33m\u001b[0m\u001b[0m\n\u001b[0;32m    301\u001b[0m             self.declared_encoding = self.find_declared_encoding(\n\u001b[1;32m--> 302\u001b[1;33m                 self.markup, self.is_html)\n\u001b[0m\u001b[0;32m    303\u001b[0m         \u001b[1;32mif\u001b[0m \u001b[0mself\u001b[0m\u001b[1;33m.\u001b[0m\u001b[0m_usable\u001b[0m\u001b[1;33m(\u001b[0m\u001b[0mself\u001b[0m\u001b[1;33m.\u001b[0m\u001b[0mdeclared_encoding\u001b[0m\u001b[1;33m,\u001b[0m \u001b[0mtried\u001b[0m\u001b[1;33m)\u001b[0m\u001b[1;33m:\u001b[0m\u001b[1;33m\u001b[0m\u001b[1;33m\u001b[0m\u001b[0m\n\u001b[0;32m    304\u001b[0m             \u001b[1;32myield\u001b[0m \u001b[0mself\u001b[0m\u001b[1;33m.\u001b[0m\u001b[0mdeclared_encoding\u001b[0m\u001b[1;33m\u001b[0m\u001b[1;33m\u001b[0m\u001b[0m\n",
      "\u001b[1;32m~\\anaconda3\\lib\\site-packages\\bs4\\dammit.py\u001b[0m in \u001b[0;36mfind_declared_encoding\u001b[1;34m(cls, markup, is_html, search_entire_document)\u001b[0m\n\u001b[0;32m    376\u001b[0m         \u001b[0mhtml_re\u001b[0m \u001b[1;33m=\u001b[0m \u001b[0mres\u001b[0m\u001b[1;33m[\u001b[0m\u001b[1;34m'html'\u001b[0m\u001b[1;33m]\u001b[0m\u001b[1;33m\u001b[0m\u001b[1;33m\u001b[0m\u001b[0m\n\u001b[0;32m    377\u001b[0m         \u001b[0mdeclared_encoding\u001b[0m \u001b[1;33m=\u001b[0m \u001b[1;32mNone\u001b[0m\u001b[1;33m\u001b[0m\u001b[1;33m\u001b[0m\u001b[0m\n\u001b[1;32m--> 378\u001b[1;33m         \u001b[0mdeclared_encoding_match\u001b[0m \u001b[1;33m=\u001b[0m \u001b[0mxml_re\u001b[0m\u001b[1;33m.\u001b[0m\u001b[0msearch\u001b[0m\u001b[1;33m(\u001b[0m\u001b[0mmarkup\u001b[0m\u001b[1;33m,\u001b[0m \u001b[0mendpos\u001b[0m\u001b[1;33m=\u001b[0m\u001b[0mxml_endpos\u001b[0m\u001b[1;33m)\u001b[0m\u001b[1;33m\u001b[0m\u001b[1;33m\u001b[0m\u001b[0m\n\u001b[0m\u001b[0;32m    379\u001b[0m         \u001b[1;32mif\u001b[0m \u001b[1;32mnot\u001b[0m \u001b[0mdeclared_encoding_match\u001b[0m \u001b[1;32mand\u001b[0m \u001b[0mis_html\u001b[0m\u001b[1;33m:\u001b[0m\u001b[1;33m\u001b[0m\u001b[1;33m\u001b[0m\u001b[0m\n\u001b[0;32m    380\u001b[0m             \u001b[0mdeclared_encoding_match\u001b[0m \u001b[1;33m=\u001b[0m \u001b[0mhtml_re\u001b[0m\u001b[1;33m.\u001b[0m\u001b[0msearch\u001b[0m\u001b[1;33m(\u001b[0m\u001b[0mmarkup\u001b[0m\u001b[1;33m,\u001b[0m \u001b[0mendpos\u001b[0m\u001b[1;33m=\u001b[0m\u001b[0mhtml_endpos\u001b[0m\u001b[1;33m)\u001b[0m\u001b[1;33m\u001b[0m\u001b[1;33m\u001b[0m\u001b[0m\n",
      "\u001b[1;31mTypeError\u001b[0m: expected string or bytes-like object"
     ]
    }
   ],
   "source": [
    "obj = BeautifulSoup(res, 'lxml')\n",
    "\n",
    "#extracting the header\n",
    "headers= [x.text for x in obj.findAll(\"h2\") if '@' in x.text]\n",
    "headers"
   ]
  },
  {
   "cell_type": "code",
   "execution_count": 22,
   "metadata": {
    "ExecuteTime": {
     "end_time": "2020-07-16T09:11:45.977261Z",
     "start_time": "2020-07-16T09:11:44.516101Z"
    }
   },
   "outputs": [],
   "source": [
    "url= 'https://www.atlanticcouncil.org/blogs/africasource/african-leaders-respond-to-coronavirus-on-twitter/#east-africa'\n",
    "response = simple_get(url)"
   ]
  },
  {
   "cell_type": "code",
   "execution_count": 16,
   "metadata": {
    "ExecuteTime": {
     "end_time": "2020-07-16T09:11:50.699612Z",
     "start_time": "2020-07-16T09:11:49.807127Z"
    }
   },
   "outputs": [
    {
     "name": "stdout",
     "output_type": "stream",
     "text": [
      "findaing all of {'class_': 'wp-block-embed__wrapper'}\n"
     ]
    },
    {
     "data": {
      "text/plain": [
       "['\\nhttps://twitter.com/TsholetsaDomi/status/1238324860536922112\\n',\n",
       " '\\nhttps://twitter.com/Azali_officiel/status/1239649350747332613\\n',\n",
       " '\\n',\n",
       " <blockquote class=\"twitter-tweet\" data-dnt=\"true\" data-width=\"550\"><p dir=\"ltr\" lang=\"en\">The Deputy Prime Minister Themba Masuku has today met representatives of the private sector and employees' unions to map a collaborative effort in the fight against <a href=\"https://twitter.com/hashtag/COVID19?src=hash&amp;ref_src=twsrc%5Etfw\">#COVID19</a>. <a href=\"https://t.co/EIYNGOEKRN\">pic.twitter.com/EIYNGOEKRN</a></p>— Eswatini Government (@EswatiniGovern1) <a href=\"https://twitter.com/EswatiniGovern1/status/1241038139889721346?ref_src=twsrc%5Etfw\">March 20, 2020</a></blockquote>,\n",
       " <script async=\"\" charset=\"utf-8\" src=\"https://platform.twitter.com/widgets.js\"></script>,\n",
       " '\\n',\n",
       " '\\nhttps://twitter.com/SE_Rajoelina/status/1241101811647500288\\n',\n",
       " '\\n',\n",
       " <blockquote class=\"twitter-tweet\" data-dnt=\"true\" data-width=\"550\"><p dir=\"ltr\" lang=\"en\">GUIDELINES FOR SCHOOLS IN <a href=\"https://twitter.com/hashtag/MALAWI?src=hash&amp;ref_src=twsrc%5Etfw\">#MALAWI</a> ON THE PREVENTION AND MANAGEMENT OF <a href=\"https://twitter.com/hashtag/COVID19?src=hash&amp;ref_src=twsrc%5Etfw\">#COVID19</a> <a href=\"https://twitter.com/hashtag/CORONAVIRUS?src=hash&amp;ref_src=twsrc%5Etfw\">#CORONAVIRUS</a> <a href=\"https://t.co/PL9R4XvGV3\">pic.twitter.com/PL9R4XvGV3</a></p>— Malawi Government (@MalawiGovt) <a href=\"https://twitter.com/MalawiGovt/status/1240275631323185152?ref_src=twsrc%5Etfw\">March 18, 2020</a></blockquote>,\n",
       " <script async=\"\" charset=\"utf-8\" src=\"https://platform.twitter.com/widgets.js\"></script>,\n",
       " '\\n',\n",
       " '\\nhttps://twitter.com/PKJugnauth/status/1240740484714319872\\n',\n",
       " '\\n',\n",
       " <blockquote class=\"twitter-tweet\" data-dnt=\"true\" data-width=\"550\"><p dir=\"ltr\" lang=\"en\">Fellow Namibians, I declared a State of Emergency on <a href=\"https://twitter.com/hashtag/COVID19?src=hash&amp;ref_src=twsrc%5Etfw\">#COVID19</a>. Cabinet approved additonal measures and responses to contain the spread of the Coronavirus. <a href=\"https://t.co/OsjrguArxf\">pic.twitter.com/OsjrguArxf</a></p>— Hage G. Geingob (@hagegeingob) <a href=\"https://twitter.com/hagegeingob/status/1240272081805336577?ref_src=twsrc%5Etfw\">March 18, 2020</a></blockquote>,\n",
       " <script async=\"\" charset=\"utf-8\" src=\"https://platform.twitter.com/widgets.js\"></script>,\n",
       " '\\n',\n",
       " '\\n',\n",
       " <blockquote class=\"twitter-tweet\" data-dnt=\"true\" data-width=\"550\"><p dir=\"ltr\" lang=\"en\"><a href=\"https://twitter.com/hashtag/COVID19measuresSC?src=hash&amp;ref_src=twsrc%5Etfw\">#COVID19measuresSC</a> <a href=\"https://twitter.com/hashtag/PrivateSector?src=hash&amp;ref_src=twsrc%5Etfw\">#PrivateSector</a> \"Government will guarantee the salaries of all employees in the private sector for the months of April, May and June. A total of SCR1.2 billion has been budgeted for this intervention. Government will not approve any redundancies.\"</p>— Seychelles Ministry of Finance (@FinanceSC) <a href=\"https://twitter.com/FinanceSC/status/1241039570608828416?ref_src=twsrc%5Etfw\">March 20, 2020</a></blockquote>,\n",
       " <script async=\"\" charset=\"utf-8\" src=\"https://platform.twitter.com/widgets.js\"></script>,\n",
       " '\\n',\n",
       " '\\n',\n",
       " <blockquote class=\"twitter-tweet\" data-dnt=\"true\" data-width=\"550\"><p dir=\"ltr\" lang=\"en\">The Minister for Cooperative Governance &amp; Traditional Affairs (COGTA) has, in terms of section 3 of the Disaster Management Act, 2002 (Act No. 57 of 2002), made the and gazetted regulations to deal with the spread of Regulations in the Schedule. <a href=\"https://twitter.com/hashtag/COVID19?src=hash&amp;ref_src=twsrc%5Etfw\">#COVID19</a> <a href=\"https://twitter.com/hashtag/CoronaVirusSA?src=hash&amp;ref_src=twsrc%5Etfw\">#CoronaVirusSA</a> <a href=\"https://t.co/3iPRnVebcs\">pic.twitter.com/3iPRnVebcs</a></p>— PresidencyZA (@PresidencyZA) <a href=\"https://twitter.com/PresidencyZA/status/1240502027446300674?ref_src=twsrc%5Etfw\">March 19, 2020</a></blockquote>,\n",
       " <script async=\"\" charset=\"utf-8\" src=\"https://platform.twitter.com/widgets.js\"></script>,\n",
       " '\\n',\n",
       " '\\n',\n",
       " <blockquote class=\"twitter-tweet\" data-dnt=\"true\" data-width=\"550\"><p dir=\"ltr\" lang=\"en\">Join the <a href=\"https://twitter.com/hashtag/SafeHands?src=hash&amp;ref_src=twsrc%5Etfw\">#SafeHands</a>  Challenge. The key is preventing the spread of <a href=\"https://twitter.com/hashtag/COVID19?src=hash&amp;ref_src=twsrc%5Etfw\">#COVID19</a> <a href=\"https://twitter.com/Dora_Siliya?ref_src=twsrc%5Etfw\">@Dora_Siliya</a> <a href=\"https://twitter.com/ChitaluChilufy3?ref_src=twsrc%5Etfw\">@ChitaluChilufy3</a> <a href=\"https://twitter.com/noalaskinner?ref_src=twsrc%5Etfw\">@noalaskinner</a> <a href=\"https://twitter.com/coumbagadio_ZM?ref_src=twsrc%5Etfw\">@coumbagadio_ZM</a> <a href=\"https://twitter.com/unicefzambia?ref_src=twsrc%5Etfw\">@unicefzambia</a> <a href=\"https://twitter.com/UNZambia?ref_src=twsrc%5Etfw\">@UNZambia</a> <a href=\"https://t.co/vLoc72v5Np\">pic.twitter.com/vLoc72v5Np</a></p>— Ministry of Health Zambia (@mohzambia) <a href=\"https://twitter.com/mohzambia/status/1240292737892732931?ref_src=twsrc%5Etfw\">March 18, 2020</a></blockquote>,\n",
       " <script async=\"\" charset=\"utf-8\" src=\"https://platform.twitter.com/widgets.js\"></script>,\n",
       " '\\n',\n",
       " '\\n',\n",
       " <blockquote class=\"twitter-tweet\" data-dnt=\"true\" data-width=\"550\"><p dir=\"ltr\" lang=\"en\">I urge my fellow Zimbabweans to maintain excellent levels of personal hygiene. Wash your hands thoroughly with soap, cover your nose &amp; mouth with a tissue when you cough, &amp; avoid unnecessary travel abroad.  We must keep our nation, safe, secure &amp; healthy.</p>— President of Zimbabwe (@edmnangagwa) <a href=\"https://twitter.com/edmnangagwa/status/1237958955080519680?ref_src=twsrc%5Etfw\">March 12, 2020</a></blockquote>,\n",
       " <script async=\"\" charset=\"utf-8\" src=\"https://platform.twitter.com/widgets.js\"></script>,\n",
       " '\\n',\n",
       " '\\n',\n",
       " <blockquote class=\"twitter-tweet\" data-dnt=\"true\" data-width=\"550\"><p dir=\"ltr\" lang=\"fr\"><a href=\"https://twitter.com/hashtag/COVID19DJ?src=hash&amp;ref_src=twsrc%5Etfw\">#COVID19DJ</a> : FERMETURE DES MOSQUÉES<br/><br/>Voici Communiqué du Ministère des affaires musulmanes et des biens Warkfs. <a href=\"https://t.co/AQ2kQP254j\">pic.twitter.com/AQ2kQP254j</a></p>— MinSantédj (@MinSantedj) <a href=\"https://twitter.com/MinSantedj/status/1241062742611681281?ref_src=twsrc%5Etfw\">March 20, 2020</a></blockquote>,\n",
       " <script async=\"\" charset=\"utf-8\" src=\"https://platform.twitter.com/widgets.js\"></script>,\n",
       " '\\n',\n",
       " '\\n',\n",
       " <blockquote class=\"twitter-tweet\" data-dnt=\"true\" data-width=\"550\"><p dir=\"ltr\" lang=\"en\">The Ministry of Health announced this evening the first confirmed case of a Coronavirus patient who arrived at Asmara International Airport from Norway with Fly Dubai at 7:00 a.m. LT this morning.  The 39-year old patient is an Eritrean national with permanent residence in Norway</p>— Yemane G. Meskel (@hawelti) <a href=\"https://twitter.com/hawelti/status/1241426444754063366?ref_src=twsrc%5Etfw\">March 21, 2020</a></blockquote>,\n",
       " <script async=\"\" charset=\"utf-8\" src=\"https://platform.twitter.com/widgets.js\"></script>,\n",
       " '\\n',\n",
       " '\\nhttps://twitter.com/AbiyAhmedAli/status/1240291553056260099\\n',\n",
       " '\\n',\n",
       " <blockquote class=\"twitter-tweet\" data-dnt=\"true\" data-width=\"550\"><p dir=\"ltr\" lang=\"en\">Please join His Excellency President Uhuru Kenyatta this Saturday, 21st March 2020 at 12 noon for a broadcast prayer service to mark the National Day of Prayer on the Coronavirus pandemic. The Service will be led by a cross-section of religious leaders. <a href=\"https://t.co/kDZPDUpeGz\">pic.twitter.com/kDZPDUpeGz</a></p>— State House Kenya (@StateHouseKenya) <a href=\"https://twitter.com/StateHouseKenya/status/1240905037435547649?ref_src=twsrc%5Etfw\">March 20, 2020</a></blockquote>,\n",
       " <script async=\"\" charset=\"utf-8\" src=\"https://platform.twitter.com/widgets.js\"></script>,\n",
       " '\\n',\n",
       " '\\n',\n",
       " <blockquote class=\"twitter-tweet\" data-dnt=\"true\" data-width=\"550\"><p dir=\"ltr\" lang=\"en\">I joined <a href=\"https://twitter.com/WHO?ref_src=twsrc%5Etfw\">@WHO</a> <a href=\"https://twitter.com/hashtag/SafeHands?src=hash&amp;ref_src=twsrc%5Etfw\">#SafeHands</a> challenge. Handwashing is key to preventing the spread of <a href=\"https://twitter.com/hashtag/COVID19?src=hash&amp;ref_src=twsrc%5Etfw\">#COVID19</a>. I challenge President Kenyatta <a href=\"https://twitter.com/StateHouseKenya?ref_src=twsrc%5Etfw\">@StateHouseKenya</a>, <a href=\"https://twitter.com/Macky_Sall?ref_src=twsrc%5Etfw\">@Macky_Sall</a>, <a href=\"https://twitter.com/MagufuliJP?ref_src=twsrc%5Etfw\">@MagufuliJP</a>, President Tshisekedi <a href=\"https://twitter.com/Presidence_RDC?ref_src=twsrc%5Etfw\">@Presidence_RDC</a>,  <a href=\"https://twitter.com/CyrilRamaphosa?ref_src=twsrc%5Etfw\">@CyrilRamaphosa</a>, <a href=\"https://twitter.com/BorisJohnson?ref_src=twsrc%5Etfw\">@BorisJohnson</a>, <a href=\"https://twitter.com/KGeorgieva?ref_src=twsrc%5Etfw\">@KGeorgieva</a> to join in by sharing a video <a href=\"https://t.co/udaVPCexCJ\">pic.twitter.com/udaVPCexCJ</a></p>— Paul Kagame (@PaulKagame) <a href=\"https://twitter.com/PaulKagame/status/1239263206691999748?ref_src=twsrc%5Etfw\">March 15, 2020</a></blockquote>,\n",
       " <script async=\"\" charset=\"utf-8\" src=\"https://platform.twitter.com/widgets.js\"></script>,\n",
       " '\\n',\n",
       " '\\n',\n",
       " <blockquote class=\"twitter-tweet\" data-dnt=\"true\" data-width=\"550\"><p dir=\"ltr\" lang=\"en\">We commend all medical practitioners across the globe working hard to counter the <a href=\"https://twitter.com/hashtag/CoronavirusPandemic?src=hash&amp;ref_src=twsrc%5Etfw\">#CoronavirusPandemic</a>. I urge everyone to support all efforts and recommended medical measures to slow the spread of <a href=\"https://twitter.com/hashtag/COVID19?src=hash&amp;ref_src=twsrc%5Etfw\">#COVID19</a> and keep the numbers low. <a href=\"https://t.co/AFtDg7Vtoo\">pic.twitter.com/AFtDg7Vtoo</a></p>— Mohamed Farmaajo (@M_Farmaajo) <a href=\"https://twitter.com/M_Farmaajo/status/1239662108519923713?ref_src=twsrc%5Etfw\">March 16, 2020</a></blockquote>,\n",
       " <script async=\"\" charset=\"utf-8\" src=\"https://platform.twitter.com/widgets.js\"></script>,\n",
       " '\\n',\n",
       " '\\n',\n",
       " <blockquote class=\"twitter-tweet\" data-dnt=\"true\" data-width=\"550\"><p dir=\"ltr\" lang=\"en\">20 March 2020: Communication from the <a href=\"https://twitter.com/hashtag/SouthSudan?src=hash&amp;ref_src=twsrc%5Etfw\">#SouthSudan</a> Presidency on the Coronavirus (COVID-19) Pandemic <br/><br/> \"South Sudan remains <a href=\"https://twitter.com/hashtag/COVID19?src=hash&amp;ref_src=twsrc%5Etfw\">#COVID19</a>-free. It is time to protect our people.\" — H.E Hussein Abdelbagi Akol, VP <a href=\"https://t.co/dZigOXyW2V\">pic.twitter.com/dZigOXyW2V</a></p>— South Sudan Government (@SouthSudanGov) <a href=\"https://twitter.com/SouthSudanGov/status/1241054039959371776?ref_src=twsrc%5Etfw\">March 20, 2020</a></blockquote>,\n",
       " <script async=\"\" charset=\"utf-8\" src=\"https://platform.twitter.com/widgets.js\"></script>,\n",
       " '\\n',\n",
       " '\\n',\n",
       " <blockquote class=\"twitter-tweet\" data-dnt=\"true\" data-width=\"550\"><p dir=\"ltr\" lang=\"en\">There is no shame in not shaking hands and in social distancing, during these difficult times, we must protect ourselves and those around us.<br/>Prevention is the best cure, therefore please be sure to follow health safety and security instructions.<a href=\"https://twitter.com/hashtag/%D8%A7%D8%AD%D8%AA%D9%8A%D8%A7%D8%B7%D8%A7%D8%AA_%D8%A7%D9%84%D8%B3%D9%88%D8%AF%D8%A7%D9%86_%D9%84%D9%85%D9%86%D8%B9_%D9%83%D9%88%D8%B1%D9%88%D9%86%D8%A7?src=hash&amp;ref_src=twsrc%5Etfw\">#احتياطات_السودان_لمنع_كورونا</a> <a href=\"https://t.co/abrg7Pvb5w\">pic.twitter.com/abrg7Pvb5w</a></p>— Abdalla Hamdok (@SudanPMHamdok) <a href=\"https://twitter.com/SudanPMHamdok/status/1240656894433296385?ref_src=twsrc%5Etfw\">March 19, 2020</a></blockquote>,\n",
       " <script async=\"\" charset=\"utf-8\" src=\"https://platform.twitter.com/widgets.js\"></script>,\n",
       " '\\n',\n",
       " '\\n',\n",
       " <blockquote class=\"twitter-tweet\" data-dnt=\"true\" data-width=\"550\"><p dir=\"ltr\" lang=\"en\">We have confirmed first case of Corona patient in Tanzania. The government was prepared with isolation centers and isolation hospitals. More measures to curb the spread will continue to be announced. In the meantime, let us continue to observe health precautions.<br/><br/>Dr. H.A</p>— TanzaniaSpokesperson (@TZSpokesperson) <a href=\"https://twitter.com/TZSpokesperson/status/1239534071681859587?ref_src=twsrc%5Etfw\">March 16, 2020</a></blockquote>,\n",
       " <script async=\"\" charset=\"utf-8\" src=\"https://platform.twitter.com/widgets.js\"></script>,\n",
       " '\\n',\n",
       " '\\n',\n",
       " <blockquote class=\"twitter-tweet\" data-dnt=\"true\" data-width=\"550\"><p dir=\"ltr\" lang=\"en\">We believe that we can never do enough in the face of corona virus unless God is with us.<br/><br/>We shall hold prayers as a nation at State House, Entebbe.<br/> <br/>Join us from wherever you will be <a href=\"https://t.co/voLCrF8nPK\">pic.twitter.com/voLCrF8nPK</a></p>— Yoweri K Museveni (@KagutaMuseveni) <a href=\"https://twitter.com/KagutaMuseveni/status/1241069763582988288?ref_src=twsrc%5Etfw\">March 20, 2020</a></blockquote>,\n",
       " <script async=\"\" charset=\"utf-8\" src=\"https://platform.twitter.com/widgets.js\"></script>,\n",
       " '\\n',\n",
       " '\\n',\n",
       " <blockquote class=\"twitter-tweet\" data-dnt=\"true\" data-width=\"550\"><p dir=\"ltr\" lang=\"en\">Minister Manuel Augusto participating at SADC Council of Ministers Meeting  from the Ministry in Luanda through videoconference, due to the Coronavirus outbreak. The meeting was conducted from Dar Es Salaam,Tanzania from 16 to 18/3. Tanzania holds the current presidency of SADC. <a href=\"https://t.co/vOfLwRizKr\">pic.twitter.com/vOfLwRizKr</a></p>— MOFA/MRE -(Angola) (@angola_Mirex) <a href=\"https://twitter.com/angola_Mirex/status/1240587177903427584?ref_src=twsrc%5Etfw\">March 19, 2020</a></blockquote>,\n",
       " <script async=\"\" charset=\"utf-8\" src=\"https://platform.twitter.com/widgets.js\"></script>,\n",
       " '\\n',\n",
       " '\\n',\n",
       " <blockquote class=\"twitter-tweet\" data-dnt=\"true\" data-width=\"550\"><p dir=\"ltr\" lang=\"fr\">🔴 Une rumeur de mauvais goût sur le <a href=\"https://twitter.com/hashtag/coronavirus?src=hash&amp;ref_src=twsrc%5Etfw\">#coronavirus</a> est propagée par un ancien milicien sans-échec tout en identifiant, dans sa publication, d’honnêtes personnes, dans le but de saboter l’investissement au <a href=\"https://twitter.com/hashtag/Burundi?src=hash&amp;ref_src=twsrc%5Etfw\">#Burundi</a> et semer la panique comme ils ont l’habitude de le faire.<a href=\"https://twitter.com/hashtag/COVID19?src=hash&amp;ref_src=twsrc%5Etfw\">#COVID19</a> <a href=\"https://t.co/x4VrMaXF16\">pic.twitter.com/x4VrMaXF16</a></p>— Amb. Willy Nyamitwe (@willynyamitwe) <a href=\"https://twitter.com/willynyamitwe/status/1239240373945409540?ref_src=twsrc%5Etfw\">March 15, 2020</a></blockquote>,\n",
       " <script async=\"\" charset=\"utf-8\" src=\"https://platform.twitter.com/widgets.js\"></script>,\n",
       " '\\n',\n",
       " '\\nhttps://twitter.com/PR_Paul_BIYA/status/1239988020763398147\\n',\n",
       " '\\n',\n",
       " <blockquote class=\"twitter-tweet\" data-dnt=\"true\" data-width=\"550\"><p dir=\"ltr\" lang=\"fr\">La situation du premier patient testé positif au COVID-19 et pris en charge depuis hier par les services médicaux compétents, s'améliore, et l'Ambassade de son pays suit l'évolution de l'état de sa santé.</p>— Chérif Mahamat Zene (@Cherif_MZ) <a href=\"https://twitter.com/Cherif_MZ/status/1241057558049296385?ref_src=twsrc%5Etfw\">March 20, 2020</a></blockquote>,\n",
       " <script async=\"\" charset=\"utf-8\" src=\"https://platform.twitter.com/widgets.js\"></script>,\n",
       " '\\n',\n",
       " '\\nhttps://twitter.com/MinistereComCG/status/1239695479476293632\\n',\n",
       " '\\n',\n",
       " <blockquote class=\"twitter-tweet\" data-dnt=\"true\" data-width=\"550\"><p dir=\"ltr\" lang=\"und\"><a href=\"https://twitter.com/hashtag/RDC?src=hash&amp;ref_src=twsrc%5Etfw\">#RDC</a> 19.03.20| <a href=\"https://twitter.com/hashtag/Stop?src=hash&amp;ref_src=twsrc%5Etfw\">#Stop</a> <a href=\"https://twitter.com/hashtag/Covid_19?src=hash&amp;ref_src=twsrc%5Etfw\">#Covid_19</a> <a href=\"https://twitter.com/hashtag/COVID19RDC?src=hash&amp;ref_src=twsrc%5Etfw\">#COVID19RDC</a> <a href=\"https://twitter.com/hashtag/coronavirus?src=hash&amp;ref_src=twsrc%5Etfw\">#coronavirus</a> <a href=\"https://twitter.com/hashtag/PresidenceCD?src=hash&amp;ref_src=twsrc%5Etfw\">#PresidenceCD</a> <a href=\"https://t.co/q2dpBcX7C6\">pic.twitter.com/q2dpBcX7C6</a></p>— Présidence RDC 🇨🇩 (@Presidence_RDC) <a href=\"https://twitter.com/Presidence_RDC/status/1240736987960741889?ref_src=twsrc%5Etfw\">March 19, 2020</a></blockquote>,\n",
       " <script async=\"\" charset=\"utf-8\" src=\"https://platform.twitter.com/widgets.js\"></script>,\n",
       " '\\n',\n",
       " '\\n',\n",
       " <blockquote class=\"twitter-tweet\" data-dnt=\"true\" data-width=\"550\"><p dir=\"ltr\" lang=\"fr\">Pour ralentir la diffusion du Covid-19 au Gabon et ainsi en atténuer au maximum l'impact sur le plan sanitaire, j'ai décidé lors du conseil des ministres ce lundi de renforcer les mesures préventives. <a href=\"https://t.co/LzkrkwyorB\">pic.twitter.com/LzkrkwyorB</a></p>— Ali Bongo Ondimba (@PresidentABO) <a href=\"https://twitter.com/PresidentABO/status/1239592652242370565?ref_src=twsrc%5Etfw\">March 16, 2020</a></blockquote>,\n",
       " <script async=\"\" charset=\"utf-8\" src=\"https://platform.twitter.com/widgets.js\"></script>,\n",
       " '\\n',\n",
       " '\\n',\n",
       " <blockquote class=\"twitter-tweet\" data-dnt=\"true\" data-width=\"550\"><p dir=\"ltr\" lang=\"fr\">Pour réduire les risques de propagation du <a href=\"https://twitter.com/hashtag/Coronavirus?src=hash&amp;ref_src=twsrc%5Etfw\">#Coronavirus</a>, le <a href=\"https://twitter.com/gouvbenin?ref_src=twsrc%5Etfw\">@gouvbenin</a><br/> vous invite à adopter ces gestes barrières au <a href=\"https://twitter.com/hashtag/COVID19?src=hash&amp;ref_src=twsrc%5Etfw\">#COVID19</a> . Se protéger et protéger les autres, c'est le devoir du citoyen responsable.<br/>Toutes les infos utiles sur : <a href=\"https://t.co/eimzSLmTVF\">https://t.co/eimzSLmTVF</a> <a href=\"https://t.co/OanWPLnnDB\">pic.twitter.com/OanWPLnnDB</a></p>— Présidence du Bénin (@PresidenceBenin) <a href=\"https://twitter.com/PresidenceBenin/status/1240687767354392576?ref_src=twsrc%5Etfw\">March 19, 2020</a></blockquote>,\n",
       " <script async=\"\" charset=\"utf-8\" src=\"https://platform.twitter.com/widgets.js\"></script>,\n",
       " '\\n',\n",
       " '\\n',\n",
       " <blockquote class=\"twitter-tweet\" data-dnt=\"true\" data-width=\"550\"><p dir=\"ltr\" lang=\"fr\">J'invite mes compatriotes à adopter des mesures préventives, afin de se prémunir contre le Coronavirus et éviter sa propagation. Ensemble, adoptons des comportements individuels et collectifs adéquats, en suivant les conseils des services de santé.<a href=\"https://twitter.com/hashtag/BurkinaFaso?src=hash&amp;ref_src=twsrc%5Etfw\">#BurkinaFaso</a> <a href=\"https://twitter.com/hashtag/COVID19?src=hash&amp;ref_src=twsrc%5Etfw\">#COVID19</a> <a href=\"https://t.co/aM8y0srZqJ\">pic.twitter.com/aM8y0srZqJ</a></p>— Roch KABORE (@rochkaborepf) <a href=\"https://twitter.com/rochkaborepf/status/1237718515081248773?ref_src=twsrc%5Etfw\">March 11, 2020</a></blockquote>,\n",
       " <script async=\"\" charset=\"utf-8\" src=\"https://platform.twitter.com/widgets.js\"></script>,\n",
       " '\\n',\n",
       " '\\n',\n",
       " <blockquote class=\"twitter-tweet\" data-dnt=\"true\" data-width=\"550\"><p dir=\"ltr\" lang=\"und\"><a href=\"https://twitter.com/hashtag/preven%C3%A7%C3%A3ocovid19?src=hash&amp;ref_src=twsrc%5Etfw\">#prevençãocovid19</a> <a href=\"https://t.co/hiI3LwtWjv\">https://t.co/hiI3LwtWjv</a></p>— Presidente Cabo Verde (@PresidenciaCV) <a href=\"https://twitter.com/PresidenciaCV/status/1240985116551327744?ref_src=twsrc%5Etfw\">March 20, 2020</a></blockquote>,\n",
       " <script async=\"\" charset=\"utf-8\" src=\"https://platform.twitter.com/widgets.js\"></script>,\n",
       " '\\n',\n",
       " '\\n',\n",
       " <blockquote class=\"twitter-tweet\" data-dnt=\"true\" data-width=\"550\"><p dir=\"ltr\" lang=\"fr\">Mes chers compatriotes, face à la pandémie du Coronavirus COVID-19, adoptons les bonnes pratiques et mettons en application les mesures de prévention recommandées par le Ministère de la Santé et l’OMS. <a href=\"https://t.co/cSxzODR6Vs\">https://t.co/cSxzODR6Vs</a> <a href=\"https://t.co/tILcYxVCf8\">pic.twitter.com/tILcYxVCf8</a></p>— Alassane Ouattara (@AOuattara_PRCI) <a href=\"https://twitter.com/AOuattara_PRCI/status/1239496922219544577?ref_src=twsrc%5Etfw\">March 16, 2020</a></blockquote>,\n",
       " <script async=\"\" charset=\"utf-8\" src=\"https://platform.twitter.com/widgets.js\"></script>,\n",
       " '\\n',\n",
       " '\\n',\n",
       " <blockquote class=\"twitter-tweet\" data-dnt=\"true\" data-width=\"550\"><p dir=\"ltr\" lang=\"en\"><a href=\"https://twitter.com/hashtag/COVID19?src=hash&amp;ref_src=twsrc%5Etfw\">#COVID19</a> awareness campaign: H.E the Vice President Dr Isatou Touray. <a href=\"https://t.co/FhADcBZVsL\">pic.twitter.com/FhADcBZVsL</a></p>— State House of The Gambia (@Presidency_GMB) <a href=\"https://twitter.com/Presidency_GMB/status/1240692846119673857?ref_src=twsrc%5Etfw\">March 19, 2020</a></blockquote>,\n",
       " <script async=\"\" charset=\"utf-8\" src=\"https://platform.twitter.com/widgets.js\"></script>,\n",
       " '\\n',\n",
       " '\\n',\n",
       " <blockquote class=\"twitter-tweet\" data-dnt=\"true\" data-width=\"550\"><p dir=\"ltr\" lang=\"en\">Here are excerpts of my address to the nation on the updates taken to combat the spread of Coronavirus <a href=\"https://t.co/dkfcrrEiy5\">pic.twitter.com/dkfcrrEiy5</a></p>— Nana Akufo-Addo (@NAkufoAddo) <a href=\"https://twitter.com/NAkufoAddo/status/1239321707984367623?ref_src=twsrc%5Etfw\">March 15, 2020</a></blockquote>,\n",
       " <script async=\"\" charset=\"utf-8\" src=\"https://platform.twitter.com/widgets.js\"></script>,\n",
       " '\\n',\n",
       " '\\n',\n",
       " <blockquote class=\"twitter-tweet\" data-dnt=\"true\" data-width=\"550\"><p dir=\"ltr\" lang=\"fr\">Dans un contexte de crise <a href=\"https://twitter.com/hashtag/sanitaire?src=hash&amp;ref_src=twsrc%5Etfw\">#sanitaire</a> mondiale, j’ai pris de nouvelles mesures afin d’endiguer la propagation du <a href=\"https://twitter.com/hashtag/Covid19?src=hash&amp;ref_src=twsrc%5Etfw\">#Covid19</a> en République de <a href=\"https://twitter.com/hashtag/Guin%C3%A9e?src=hash&amp;ref_src=twsrc%5Etfw\">#Guinée</a><a href=\"https://twitter.com/hashtag/Kibaro?src=hash&amp;ref_src=twsrc%5Etfw\">#Kibaro</a> <a href=\"https://twitter.com/hashtag/Covid19GN?src=hash&amp;ref_src=twsrc%5Etfw\">#Covid19GN</a> <a href=\"https://twitter.com/hashtag/CoronaVirusUpdate?src=hash&amp;ref_src=twsrc%5Etfw\">#CoronaVirusUpdate</a> <a href=\"https://t.co/3GAibFbONn\">pic.twitter.com/3GAibFbONn</a></p>— Pr. Alpha CONDÉ (@President_GN) <a href=\"https://twitter.com/President_GN/status/1240747558970036225?ref_src=twsrc%5Etfw\">March 19, 2020</a></blockquote>,\n",
       " <script async=\"\" charset=\"utf-8\" src=\"https://platform.twitter.com/widgets.js\"></script>,\n",
       " '\\n',\n",
       " '\\n',\n",
       " <blockquote class=\"twitter-tweet\" data-dnt=\"true\" data-width=\"550\"><p dir=\"ltr\" lang=\"en\"><a href=\"https://twitter.com/hashtag/GuineaBissau?src=hash&amp;ref_src=twsrc%5Etfw\">#GuineaBissau</a> 's borders closed.</p>— Umaro Sissoco Embalo (@USEmbalo) <a href=\"https://twitter.com/USEmbalo/status/1240009221669863425?ref_src=twsrc%5Etfw\">March 17, 2020</a></blockquote>,\n",
       " <script async=\"\" charset=\"utf-8\" src=\"https://platform.twitter.com/widgets.js\"></script>,\n",
       " '\\n',\n",
       " '\\n',\n",
       " <blockquote class=\"twitter-tweet\" data-dnt=\"true\" data-width=\"550\"><p dir=\"ltr\" lang=\"fr\">Communiqué intégrale du Conseil Extraordinaire de Défense présidé ce 17 Mars par le Chef de l’Etat sur le <a href=\"https://twitter.com/hashtag/coronavirus?src=hash&amp;ref_src=twsrc%5Etfw\">#coronavirus</a> <a href=\"https://t.co/i3AOlM8Jk7\">pic.twitter.com/i3AOlM8Jk7</a></p>— Presidence Mali (@PresidenceMali) <a href=\"https://twitter.com/PresidenceMali/status/1240016297452331009?ref_src=twsrc%5Etfw\">March 17, 2020</a></blockquote>,\n",
       " <script async=\"\" charset=\"utf-8\" src=\"https://platform.twitter.com/widgets.js\"></script>,\n",
       " '\\n',\n",
       " '\\n',\n",
       " <blockquote class=\"twitter-tweet\" data-dnt=\"true\" data-width=\"550\"><p dir=\"ltr\" lang=\"fr\">Chers citoyens et résidents, <br/>Un cas de Covid-19 concernant un citoyen étranger ayant été confirmé, je voudrais vous rassurer que les dispositions ont été prises à tous les niveaux. Je vous engage à la prudence et au strict respect  des directives des autorités  compétentes.</p>— Mohamed Cheikh El Ghazouani محمد الشيخ الغزواني (@CheikhGhazouani) <a href=\"https://twitter.com/CheikhGhazouani/status/1238865788993507329?ref_src=twsrc%5Etfw\">March 14, 2020</a></blockquote>,\n",
       " <script async=\"\" charset=\"utf-8\" src=\"https://platform.twitter.com/widgets.js\"></script>,\n",
       " '\\n',\n",
       " '\\n',\n",
       " <blockquote class=\"twitter-tweet\" data-dnt=\"true\" data-width=\"550\"><p dir=\"ltr\" lang=\"fr\">Mes Chers Concitoyens, <br/>Depuis la grippe Espagnole, il y a un siècle, l’ humanité n’a pas connu un fléau sanitaire d’ une telle ampleur. Je le répète: il n’y a ni traitement, ni vaccin. Notre seule arme reste la prévention. <a href=\"https://t.co/akIhqXETrW\">https://t.co/akIhqXETrW</a></p>— Issoufou Mahamadou (@IssoufouMhm) <a href=\"https://twitter.com/IssoufouMhm/status/1240000723112398848?ref_src=twsrc%5Etfw\">March 17, 2020</a></blockquote>,\n",
       " <script async=\"\" charset=\"utf-8\" src=\"https://platform.twitter.com/widgets.js\"></script>,\n",
       " '\\n',\n",
       " '\\n',\n",
       " <blockquote class=\"twitter-tweet\" data-dnt=\"true\" data-width=\"550\"><p dir=\"ltr\" lang=\"en\">Protecting Nigerians from the Coronavirus is a key priority for us as a Government. We have the Ministry of Health and the Nigeria Center for Disease Control (NCDC) working round-the-clock with several other agencies, as well as State Governments, to ensure this.</p>— Muhammadu Buhari (@MBuhari) <a href=\"https://twitter.com/MBuhari/status/1241017438147354624?ref_src=twsrc%5Etfw\">March 20, 2020</a></blockquote>,\n",
       " <script async=\"\" charset=\"utf-8\" src=\"https://platform.twitter.com/widgets.js\"></script>,\n",
       " '\\n',\n",
       " '\\n',\n",
       " <blockquote class=\"twitter-tweet\" data-dnt=\"true\" data-width=\"550\"><p dir=\"ltr\" lang=\"en\">Dear President <a href=\"https://twitter.com/PaulKagame?ref_src=twsrc%5Etfw\">@PaulKagame</a>, I accept the challenge and encourage all people from Senegal and all contaminated countries to do as well against <a href=\"https://twitter.com/hashtag/COVID19?src=hash&amp;ref_src=twsrc%5Etfw\">#COVID19</a> <a href=\"https://twitter.com/hashtag/SafeHands?src=hash&amp;ref_src=twsrc%5Etfw\">#SafeHands</a><br/>What about you? <a href=\"https://t.co/1ga1ZCwYfb\">pic.twitter.com/1ga1ZCwYfb</a></p>— Macky Sall (@Macky_Sall) <a href=\"https://twitter.com/Macky_Sall/status/1239994958859382787?ref_src=twsrc%5Etfw\">March 17, 2020</a></blockquote>,\n",
       " <script async=\"\" charset=\"utf-8\" src=\"https://platform.twitter.com/widgets.js\"></script>,\n",
       " '\\n',\n",
       " '\\n',\n",
       " <blockquote class=\"twitter-tweet\" data-dnt=\"true\" data-width=\"550\"><p dir=\"ltr\" lang=\"en\">Although there are no confirmed <a href=\"https://twitter.com/hashtag/Coronavirus?src=hash&amp;ref_src=twsrc%5Etfw\">#Coronavirus</a> cases in <a href=\"https://twitter.com/hashtag/SierraLeone?src=hash&amp;ref_src=twsrc%5Etfw\">#SierraLeone</a> at this time, the Ministry of Health and Sanitation has activated the Emergency Operations Centre to Level 2 to coordinate initial preparedness and response. <br/>We have activated the Emergency contact number 117.</p>— President Julius Maada Bio (@PresidentBio) <a href=\"https://twitter.com/PresidentBio/status/1240383695627915267?ref_src=twsrc%5Etfw\">March 18, 2020</a></blockquote>,\n",
       " <script async=\"\" charset=\"utf-8\" src=\"https://platform.twitter.com/widgets.js\"></script>,\n",
       " '\\n',\n",
       " '\\n',\n",
       " <blockquote class=\"twitter-tweet\" data-dnt=\"true\" data-width=\"550\"><p dir=\"ltr\" lang=\"ca\">Manifestations coronavirus <a href=\"https://t.co/mdjyRWUuoq\">pic.twitter.com/mdjyRWUuoq</a></p>— Ministère de la Santé et de l'hygiène Publique (@MSPS_Togo) <a href=\"https://twitter.com/MSPS_Togo/status/1239881384732344325?ref_src=twsrc%5Etfw\">March 17, 2020</a></blockquote>,\n",
       " <script async=\"\" charset=\"utf-8\" src=\"https://platform.twitter.com/widgets.js\"></script>,\n",
       " '\\n']"
      ]
     },
     "execution_count": 16,
     "metadata": {},
     "output_type": "execute_result"
    }
   ],
   "source": [
    "res = get_elements(response, search={'find_all':{'class_':'wp-block-embed__wrapper'}})\n",
    "res"
   ]
  },
  {
   "cell_type": "code",
   "execution_count": 17,
   "metadata": {
    "ExecuteTime": {
     "end_time": "2020-07-16T09:35:15.067015Z",
     "start_time": "2020-07-16T09:32:06.100183Z"
    }
   },
   "outputs": [
    {
     "name": "stdout",
     "output_type": "stream",
     "text": [
      "Requirement already satisfied: lxml in c:\\users\\memory ogwari\\anaconda3\\lib\\site-packages (4.5.1)\n"
     ]
    },
    {
     "data": {
      "text/plain": [
       "bs4.BeautifulSoup"
      ]
     },
     "execution_count": 17,
     "metadata": {},
     "output_type": "execute_result"
    }
   ],
   "source": [
    "!pip install lxml\n",
    "soup = BeautifulSoup(response, 'lxml')\n",
    "type(soup)"
   ]
  },
  {
   "cell_type": "code",
   "execution_count": 19,
   "metadata": {
    "ExecuteTime": {
     "end_time": "2020-07-16T11:32:06.679922Z",
     "start_time": "2020-07-16T11:32:05.509593Z"
    }
   },
   "outputs": [
    {
     "data": {
      "text/plain": [
       "[]"
      ]
     },
     "execution_count": 19,
     "metadata": {},
     "output_type": "execute_result"
    }
   ],
   "source": []
  },
  {
   "cell_type": "code",
   "execution_count": null,
   "metadata": {},
   "outputs": [],
   "source": []
  }
 ],
 "metadata": {
  "kernelspec": {
   "display_name": "Python 3",
   "language": "python",
   "name": "python3"
  },
  "language_info": {
   "codemirror_mode": {
    "name": "ipython",
    "version": 3
   },
   "file_extension": ".py",
   "mimetype": "text/x-python",
   "name": "python",
   "nbconvert_exporter": "python",
   "pygments_lexer": "ipython3",
   "version": "3.7.7"
  },
  "toc": {
   "base_numbering": 1,
   "nav_menu": {},
   "number_sections": true,
   "sideBar": true,
   "skip_h1_title": false,
   "title_cell": "Table of Contents",
   "title_sidebar": "Contents",
   "toc_cell": false,
   "toc_position": {},
   "toc_section_display": true,
   "toc_window_display": false
  }
 },
 "nbformat": 4,
 "nbformat_minor": 4
}
